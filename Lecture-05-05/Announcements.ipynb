{
 "cells": [
  {
   "cell_type": "markdown",
   "metadata": {},
   "source": [
    "# Announcements\n",
    "\n",
    "## Thursday, May 5"
   ]
  },
  {
   "cell_type": "markdown",
   "metadata": {},
   "source": [
    "## Administrivia\n",
    "\n",
    "- MovieLens lab regraded.\n",
    "\n",
    "\n",
    "## New York Times Lab\n",
    "\n",
    "- The \"devise your own question\" part of the lab will be graded more rigorously than usual. Please spend the time to come up with interesting questions--for your own sake and your partner's!\n",
    "\n",
    "\n",
    "## In-Class Project 2 (Big, Complex, and Messy Data)\n",
    "\n",
    "- Next Thursday in class.\n",
    "- Covers material up to today's lecture. \n",
    "- Main concepts: SQL, MapReduce, JSON, XML. (Web parsing will not be covered.)\n",
    "- This in-class project will be done in pairs. (I will assign you a partner.)\n",
    "\n",
    "\n",
    "## A Look Ahead\n",
    "\n",
    "- Unit 3 is on machine learning and statistical modeling.\n",
    "- The lab today is on XML only. A lab on web scraping (generating song lyrics) will be released on Tuesday."
   ]
  }
 ],
 "metadata": {
  "kernelspec": {
   "display_name": "Python 3",
   "language": "python",
   "name": "python3"
  },
  "language_info": {
   "codemirror_mode": {
    "name": "ipython",
    "version": 3
   },
   "file_extension": ".py",
   "mimetype": "text/x-python",
   "name": "python",
   "nbconvert_exporter": "python",
   "pygments_lexer": "ipython3",
   "version": "3.4.3"
  }
 },
 "nbformat": 4,
 "nbformat_minor": 0
}
