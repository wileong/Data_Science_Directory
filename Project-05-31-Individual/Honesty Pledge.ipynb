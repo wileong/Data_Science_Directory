{
 "cells": [
  {
   "cell_type": "markdown",
   "metadata": {},
   "source": [
    "## Honesty Pledge\n",
    "\n",
    "The first part of this exam must be completed individually. I understand that during this time, I am not allowed to discuss this exam with anyone besides the instructor. \n",
    "\n",
    "The second part of this exam may be completed in pairs. I understand that during this time, I am only allowed to discuss this exam with my partner and the instructor. In particular, I am not allowed to discuss the exam with any other groups.\n",
    "\n",
    "I certify that I did not receive any advance knowledge about this project. Also, I promise not to divulge any details about this project to any students who have not yet taken it.  Giving and receiving help are both forbidden and will be prosecuted equally.\n",
    "\n",
    "This project is open-Internet. I understand that I am allowed to use any existing resources on the web, including web search, but I am not allowed to consult with any other people during this project. \n",
    "\n",
    "I understand that the penalty for violating this pledge is a grade of **F** in the course and disciplinary action by the Office of Student Rights & Responsibilities. Please sign below to indicate that you have read and understood this pledge. Your project will not be graded unless you sign below."
   ]
  },
  {
   "cell_type": "code",
   "execution_count": null,
   "metadata": {
    "collapsed": true,
    "deletable": false,
    "nbgrader": {
     "checksum": "6fa681ce83bec92925cb85a1c3a6decc",
     "grade": true,
     "grade_id": "student",
     "locked": false,
     "points": 0,
     "solution": true
    }
   },
   "outputs": [],
   "source": [
    "# YOUR CODE HERE\n",
    "raise NotImplementedError()"
   ]
  }
 ],
 "metadata": {
  "kernelspec": {
   "display_name": "Python 3",
   "language": "python",
   "name": "python3"
  },
  "language_info": {
   "codemirror_mode": {
    "name": "ipython",
    "version": 3
   },
   "file_extension": ".py",
   "mimetype": "text/x-python",
   "name": "python",
   "nbconvert_exporter": "python",
   "pygments_lexer": "ipython3",
   "version": "3.4.3"
  }
 },
 "nbformat": 4,
 "nbformat_minor": 0
}
