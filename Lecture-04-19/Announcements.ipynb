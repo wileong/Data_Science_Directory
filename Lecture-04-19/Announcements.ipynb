{
 "cells": [
  {
   "cell_type": "markdown",
   "metadata": {},
   "source": [
    "# Announcements\n",
    "## Tuesday, April 18"
   ]
  },
  {
   "cell_type": "markdown",
   "metadata": {},
   "source": [
    "Today is the last lecture of Unit 1 on data manipulation and visualization. Next class, we start a Unit 2 on handling large and complex data, beginning with SQL. (I highly recommend that you complete at least some of the SQL module before next class.)"
   ]
  },
  {
   "cell_type": "markdown",
   "metadata": {},
   "source": [
    "## In-Class Project 1 (next Tuesday)\n",
    "\n",
    "- The project will be similar in format to a lab. (You will be given a data set, with some tasks to complete in a Jupyter notebook.)\n",
    "- Everything up to and including today's lecture is fair game. You will need to know how to manipulate data in Pandas, compute confidence intervals, and visualize data.\n",
    "- Expect less guidance on this project. On the labs, the questions told you exactly what to do, like:\n",
    "\n",
    "> Compute a 95% confidence interval for the difference between the percentage of male-led companies that were funded and the percentage of female-led companies that were funded.\n",
    "\n",
    "On the in-class project, you will need to be able to figure out what to do on your own:\n",
    "\n",
    "> A lawyer would like to know whether there is evidence of gender bias. Report a 95% confidence interval that answers her question.\n",
    "\n",
    "- This project is open-Google. You do not need to memorize the Pandas documentation!\n",
    "- The best way to prepare is to go over lecture slides and past labs and make sure that you understand everything in them. If you have extra time, study the Pandas documentation."
   ]
  }
 ],
 "metadata": {
  "kernelspec": {
   "display_name": "Python 3",
   "language": "python",
   "name": "python3"
  },
  "language_info": {
   "codemirror_mode": {
    "name": "ipython",
    "version": 3
   },
   "file_extension": ".py",
   "mimetype": "text/x-python",
   "name": "python",
   "nbconvert_exporter": "python",
   "pygments_lexer": "ipython3",
   "version": "3.4.3"
  }
 },
 "nbformat": 4,
 "nbformat_minor": 0
}
