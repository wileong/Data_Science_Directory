{
 "cells": [
  {
   "cell_type": "markdown",
   "metadata": {},
   "source": [
    "# MovieLens\n",
    "\n",
    "##DUE APRIL 21, 2016\n",
    "\n",
    "[MovieLens](http://www.movielens.org/) is a website where users can submit ratings for movies that they watch and receive recommendations for other movies they might enjoy. The data is collected and made publicly available for research. We will be working with a data set of 1 million user ratings of movies. You can find this data set and even larger ones at http://grouplens.org/datasets/movielens/.\n"
   ]
  },
  {
   "cell_type": "markdown",
   "metadata": {
    "deletable": false,
    "nbgrader": {
     "checksum": "050ee3f3c98157096196a237c67cfb1d",
     "grade": false,
     "grade_id": "header_question",
     "locked": true,
     "solution": false
    }
   },
   "source": [
    "## Reading in the Data\n",
    "\n",
    "Note that the data consists of three data frames: one with information about the users, another containing the ratings, and yet another with information about the movies. See the readme file (/data/movielens/README) for more information."
   ]
  },
  {
   "cell_type": "code",
   "execution_count": 1,
   "metadata": {
    "collapsed": false,
    "deletable": false,
    "nbgrader": {
     "checksum": "0e023866f8dd23aebaa40f0970bff7c9",
     "grade": false,
     "grade_id": "header",
     "locked": true,
     "solution": false
    }
   },
   "outputs": [],
   "source": [
    "import pandas as pd\n",
    "\n",
    "unames = ['user_id', 'gender', 'age', 'occupation', 'zip']\n",
    "users = pd.read_table('/data/movielens/users.dat', sep='::', header=None,\n",
    "                      names=unames, engine=\"python\")\n",
    "\n",
    "rnames = ['user_id', 'movie_id', 'rating', 'timestamp']\n",
    "ratings = pd.read_table('/data/movielens/ratings.dat', sep='::', header=None,\n",
    "                        names=rnames, engine=\"python\")\n",
    "\n",
    "mnames = ['movie_id', 'title', 'genres']\n",
    "movies = pd.read_table('/data/movielens/movies.dat', sep='::', header=None,\n",
    "                       names=mnames, engine=\"python\")"
   ]
  },
  {
   "cell_type": "code",
   "execution_count": 9,
   "metadata": {
    "collapsed": false
   },
   "outputs": [
    {
     "data": {
      "text/html": [
       "<div>\n",
       "<table border=\"1\" class=\"dataframe\">\n",
       "  <thead>\n",
       "    <tr style=\"text-align: right;\">\n",
       "      <th></th>\n",
       "      <th>user_id</th>\n",
       "      <th>movie_id</th>\n",
       "      <th>rating</th>\n",
       "      <th>timestamp</th>\n",
       "    </tr>\n",
       "  </thead>\n",
       "  <tbody>\n",
       "    <tr>\n",
       "      <th>0</th>\n",
       "      <td>1</td>\n",
       "      <td>1193</td>\n",
       "      <td>5</td>\n",
       "      <td>978300760</td>\n",
       "    </tr>\n",
       "    <tr>\n",
       "      <th>1</th>\n",
       "      <td>1</td>\n",
       "      <td>661</td>\n",
       "      <td>3</td>\n",
       "      <td>978302109</td>\n",
       "    </tr>\n",
       "    <tr>\n",
       "      <th>2</th>\n",
       "      <td>1</td>\n",
       "      <td>914</td>\n",
       "      <td>3</td>\n",
       "      <td>978301968</td>\n",
       "    </tr>\n",
       "    <tr>\n",
       "      <th>3</th>\n",
       "      <td>1</td>\n",
       "      <td>3408</td>\n",
       "      <td>4</td>\n",
       "      <td>978300275</td>\n",
       "    </tr>\n",
       "    <tr>\n",
       "      <th>4</th>\n",
       "      <td>1</td>\n",
       "      <td>2355</td>\n",
       "      <td>5</td>\n",
       "      <td>978824291</td>\n",
       "    </tr>\n",
       "    <tr>\n",
       "      <th>5</th>\n",
       "      <td>1</td>\n",
       "      <td>1197</td>\n",
       "      <td>3</td>\n",
       "      <td>978302268</td>\n",
       "    </tr>\n",
       "    <tr>\n",
       "      <th>6</th>\n",
       "      <td>1</td>\n",
       "      <td>1287</td>\n",
       "      <td>5</td>\n",
       "      <td>978302039</td>\n",
       "    </tr>\n",
       "    <tr>\n",
       "      <th>...</th>\n",
       "      <td>...</td>\n",
       "      <td>...</td>\n",
       "      <td>...</td>\n",
       "      <td>...</td>\n",
       "    </tr>\n",
       "    <tr>\n",
       "      <th>1000202</th>\n",
       "      <td>6040</td>\n",
       "      <td>1089</td>\n",
       "      <td>4</td>\n",
       "      <td>956704996</td>\n",
       "    </tr>\n",
       "    <tr>\n",
       "      <th>1000203</th>\n",
       "      <td>6040</td>\n",
       "      <td>1090</td>\n",
       "      <td>3</td>\n",
       "      <td>956715518</td>\n",
       "    </tr>\n",
       "    <tr>\n",
       "      <th>1000204</th>\n",
       "      <td>6040</td>\n",
       "      <td>1091</td>\n",
       "      <td>1</td>\n",
       "      <td>956716541</td>\n",
       "    </tr>\n",
       "    <tr>\n",
       "      <th>1000205</th>\n",
       "      <td>6040</td>\n",
       "      <td>1094</td>\n",
       "      <td>5</td>\n",
       "      <td>956704887</td>\n",
       "    </tr>\n",
       "    <tr>\n",
       "      <th>1000206</th>\n",
       "      <td>6040</td>\n",
       "      <td>562</td>\n",
       "      <td>5</td>\n",
       "      <td>956704746</td>\n",
       "    </tr>\n",
       "    <tr>\n",
       "      <th>1000207</th>\n",
       "      <td>6040</td>\n",
       "      <td>1096</td>\n",
       "      <td>4</td>\n",
       "      <td>956715648</td>\n",
       "    </tr>\n",
       "    <tr>\n",
       "      <th>1000208</th>\n",
       "      <td>6040</td>\n",
       "      <td>1097</td>\n",
       "      <td>4</td>\n",
       "      <td>956715569</td>\n",
       "    </tr>\n",
       "  </tbody>\n",
       "</table>\n",
       "<p>1000209 rows × 4 columns</p>\n",
       "</div>"
      ],
      "text/plain": [
       "         user_id  movie_id  rating  timestamp\n",
       "0              1      1193       5  978300760\n",
       "1              1       661       3  978302109\n",
       "2              1       914       3  978301968\n",
       "3              1      3408       4  978300275\n",
       "4              1      2355       5  978824291\n",
       "5              1      1197       3  978302268\n",
       "6              1      1287       5  978302039\n",
       "...          ...       ...     ...        ...\n",
       "1000202     6040      1089       4  956704996\n",
       "1000203     6040      1090       3  956715518\n",
       "1000204     6040      1091       1  956716541\n",
       "1000205     6040      1094       5  956704887\n",
       "1000206     6040       562       5  956704746\n",
       "1000207     6040      1096       4  956715648\n",
       "1000208     6040      1097       4  956715569\n",
       "\n",
       "[1000209 rows x 4 columns]"
      ]
     },
     "execution_count": 9,
     "metadata": {},
     "output_type": "execute_result"
    }
   ],
   "source": [
    "ratings"
   ]
  },
  {
   "cell_type": "markdown",
   "metadata": {
    "deletable": false,
    "nbgrader": {
     "checksum": "1894e43cd31dc69f8374cd2f206a15e7",
     "grade": false,
     "grade_id": "top_movies_question",
     "locked": true,
     "solution": false
    }
   },
   "source": [
    "## Question 1\n",
    "\n",
    "Develop a way to rank movies. Why is it not a good idea to simply sort the movies by average rating? (You may want to try calculating this first.) Then, explain your methodology and use it to produce a list of the Top 10 movies of all time."
   ]
  },
  {
   "cell_type": "code",
   "execution_count": 3,
   "metadata": {
    "collapsed": false
   },
   "outputs": [],
   "source": [
    "#ratings"
   ]
  },
  {
   "cell_type": "code",
   "execution_count": 4,
   "metadata": {
    "collapsed": false,
    "deletable": false,
    "nbgrader": {
     "checksum": "5d6a966f8a28b4a6de398c563e77fe86",
     "grade": true,
     "grade_id": "top_movies",
     "locked": false,
     "points": 20,
     "solution": true
    }
   },
   "outputs": [
    {
     "data": {
      "text/html": [
       "<div>\n",
       "<table border=\"1\" class=\"dataframe\">\n",
       "  <thead>\n",
       "    <tr style=\"text-align: right;\">\n",
       "      <th></th>\n",
       "      <th>average_rating</th>\n",
       "    </tr>\n",
       "    <tr>\n",
       "      <th>movie_id</th>\n",
       "      <th></th>\n",
       "    </tr>\n",
       "  </thead>\n",
       "  <tbody>\n",
       "    <tr>\n",
       "      <th>1</th>\n",
       "      <td>5</td>\n",
       "    </tr>\n",
       "    <tr>\n",
       "      <th>110</th>\n",
       "      <td>5</td>\n",
       "    </tr>\n",
       "    <tr>\n",
       "      <th>260</th>\n",
       "      <td>5</td>\n",
       "    </tr>\n",
       "    <tr>\n",
       "      <th>296</th>\n",
       "      <td>5</td>\n",
       "    </tr>\n",
       "    <tr>\n",
       "      <th>318</th>\n",
       "      <td>5</td>\n",
       "    </tr>\n",
       "    <tr>\n",
       "      <th>356</th>\n",
       "      <td>5</td>\n",
       "    </tr>\n",
       "    <tr>\n",
       "      <th>480</th>\n",
       "      <td>5</td>\n",
       "    </tr>\n",
       "    <tr>\n",
       "      <th>527</th>\n",
       "      <td>5</td>\n",
       "    </tr>\n",
       "    <tr>\n",
       "      <th>589</th>\n",
       "      <td>5</td>\n",
       "    </tr>\n",
       "    <tr>\n",
       "      <th>593</th>\n",
       "      <td>5</td>\n",
       "    </tr>\n",
       "  </tbody>\n",
       "</table>\n",
       "</div>"
      ],
      "text/plain": [
       "          average_rating\n",
       "movie_id                \n",
       "1                      5\n",
       "110                    5\n",
       "260                    5\n",
       "296                    5\n",
       "318                    5\n",
       "356                    5\n",
       "480                    5\n",
       "527                    5\n",
       "589                    5\n",
       "593                    5"
      ]
     },
     "execution_count": 4,
     "metadata": {},
     "output_type": "execute_result"
    }
   ],
   "source": [
    "# YOUR CODE HERE\n",
    "#raise NotImplementedError()\n",
    "\n",
    "# ratings_movie_id_avg = ratings.groupby([\"movie_id\" ]).mean()#.get([\"rating\"])\n",
    "# #This would calculate the mean of each column, including userid and timestamp for ea movieid\n",
    "# ratings_movie_id_avg\n",
    "\n",
    "\n",
    "\n",
    "\n",
    "#Another way to rank movies:\n",
    "# A 'top' movie is a movie with not only THOUSANDS of ratings, but on average, people gave it a 5 star rating.\n",
    "\n",
    "num_ratings_per_movie = ratings.groupby([\"movie_id\"])[['rating']].count()\n",
    "num_ratings_per_movie = num_ratings_per_movie.ix[num_ratings_per_movie['rating'] >= 2000 ] # get movies with >= # of ratings\n",
    "num_ratings_per_movie = num_ratings_per_movie.reset_index() # call this after groupby\n",
    "num_ratings_per_movie = num_ratings_per_movie.merge( ratings, on= 'movie_id')\n",
    "\n",
    "top_movies = pd.merge(num_ratings_per_movie,users, on = \"user_id\")\n",
    "top_movies = top_movies.ix[ top_movies['rating_y'] == 5].groupby('movie_id')[['rating_y']].mean()\n",
    "top_movies.columns = ['average_rating']\n",
    "top_movies.head(n=10)\n",
    "\n",
    "\n",
    "\n",
    "\n",
    "# avg_ratings = ratings.ix[ratings['rating'] >= 4, :].groupby('movie_id')[ ['rating'] ].mean()\n",
    "# # don't use get('rating') as that will use all cols when calling .mean() on it\n",
    "# avg_ratings"
   ]
  },
  {
   "cell_type": "markdown",
   "metadata": {
    "deletable": false,
    "nbgrader": {
     "checksum": "e32d88e21c2979750814a655c37c92b2",
     "grade": true,
     "grade_id": "top_movies_text",
     "locked": false,
     "points": 0,
     "solution": true
    }
   },
   "source": [
    "It doesn't make sense to sort the movies by its average ratings alone because there may be some movies where only a few people gave it a rating. A movie with a rating defined by only a few reviewers is not a good rating because a few reviewers is not reprsentative of the entire audience at all.\n",
    "\n",
    "The table outputted shows the top 10 movies of all time."
   ]
  },
  {
   "cell_type": "markdown",
   "metadata": {
    "deletable": false,
    "nbgrader": {
     "checksum": "a0fcc3379ef7ba3274e5dec51a7fcc9a",
     "grade": false,
     "grade_id": "male_female_question",
     "locked": true,
     "solution": false
    }
   },
   "source": [
    "## Question 2\n",
    "\n",
    "Restrict to movies with at least 200 ratings. For each movie, calculate the difference between the average male rating and the average female rating. Based on these differences between average male ratings and average female ratings, what movies were the most male-friendly? What movies were the most female-friendly?"
   ]
  },
  {
   "cell_type": "code",
   "execution_count": 5,
   "metadata": {
    "collapsed": false,
    "deletable": false,
    "nbgrader": {
     "checksum": "f2e95fac08efe15bd4668fbb90faaa95",
     "grade": true,
     "grade_id": "male_female",
     "locked": false,
     "points": 20,
     "solution": true
    }
   },
   "outputs": [
    {
     "name": "stdout",
     "output_type": "stream",
     "text": [
      "      movie_id  rating_x  user_id  rating_y  timestamp gender  age  \\\n",
      "1201      3744       421       19         4  978147373      M    1   \n",
      "3760      1784      1424       65         5  977888204      M   35   \n",
      "1194      3624       791       19         5  978146984      M    1   \n",
      "\n",
      "      occupation    zip  Avg Female Rating  Avg Male Rating  \\\n",
      "1201          10  48073           3.494949         4.221300   \n",
      "3760          12  55803           2.878788         3.555147   \n",
      "1194          10  48073           2.944444         3.585227   \n",
      "\n",
      "      Diff Between Females' and Males' Avg Ratings  \n",
      "1201                                     -0.726351  \n",
      "3760                                     -0.676359  \n",
      "1194                                     -0.640783  \n",
      "=========================================================================\n",
      "      movie_id  rating_x  user_id  rating_y  timestamp gender  age  \\\n",
      "2468      1721      1546       38         4  978044771      F   18   \n",
      "203       2699      1367        8         5  978229347      M   25   \n",
      "1088      1792       448       19         3  978147395      M    1   \n",
      "\n",
      "      occupation    zip  Avg Female Rating  Avg Male Rating  \\\n",
      "2468           4  02215           3.254717         2.578358   \n",
      "203           12  11413           3.486842         2.795276   \n",
      "1088          10  48073           3.790378         2.959596   \n",
      "\n",
      "      Diff Between Females' and Males' Avg Ratings  \n",
      "2468                                      0.676359  \n",
      "203                                       0.691567  \n",
      "1088                                      0.830782  \n"
     ]
    }
   ],
   "source": [
    "# YOUR CODE HERE\n",
    "#raise NotImplementedError()\n",
    "\n",
    "\n",
    "num_ratings_per_movie = ratings.groupby([\"movie_id\"])[['rating']].count()\n",
    "num_ratings_per_movie = num_ratings_per_movie.ix[num_ratings_per_movie['rating'] >= 200]\n",
    "num_ratings_per_movie = num_ratings_per_movie.reset_index()\n",
    "num_ratings_per_movie = num_ratings_per_movie.merge( ratings, on= 'movie_id')\n",
    "#num_ratings_per_movie\n",
    "#next step: merge num_ratings_per_movie_200 with original ratings table and then filter out.\n",
    "\n",
    "\n",
    "data_merged_rate = pd.merge(num_ratings_per_movie,users, on = \"user_id\")\n",
    "\n",
    "# # inner join:\n",
    "data_merged_rate['Avg Female Rating'] = data_merged_rate.ix[ data_merged_rate['gender'] == 'F' ].groupby(['movie_id']).mean()['rating_y']\n",
    "data_merged_rate['Avg Female Rating'] = data_merged_rate['Avg Female Rating'].fillna(0)\n",
    "data_merged_rate['Avg Male Rating'] = data_merged_rate.ix[ data_merged_rate['gender'] == 'M' ].groupby( ['movie_id'] ).mean()['rating_y']\n",
    "data_merged_rate['Avg Male Rating'] = data_merged_rate['Avg Male Rating'].fillna(0)\n",
    "# #['rating'] is necessary because I only want to add a column\n",
    "\n",
    "data_merged_rate['Diff Between Females\\' and Males\\' Avg Ratings' ] = data_merged_rate['Avg Female Rating']\\\n",
    "     - data_merged_rate['Avg Male Rating']\n",
    "data_merged_rate = data_merged_rate.sort_values(by = 'Diff Between Females\\' and Males\\' Avg Ratings' ,ascending = True)\n",
    "\n",
    "#data_merged_rate\n",
    "\n",
    "print(data_merged_rate.head(n = 3))\n",
    "#for most male friendly\n",
    "print(\"=========================================================================\")\n",
    "print(data_merged_rate.tail(n = 3))\n",
    "# for most  female friendly"
   ]
  },
  {
   "cell_type": "markdown",
   "metadata": {
    "deletable": false,
    "nbgrader": {
     "checksum": "16c05c934277e610e69fd13d535cbe4b",
     "grade": true,
     "grade_id": "male_female_text",
     "locked": false,
     "points": 0,
     "solution": true
    }
   },
   "source": [
    "Movies(movie_id) that were most male friendly : 3744, 1784, 3624\n",
    "\n",
    "Movies(move_id) that were most female friendly: 1721, 2699, 1792\n",
    "\n",
    "*note: If difference between females' and males' average ratings is positive, that means that on average, females gave a particular movie higher rating than males did (female_friendly). If difference is negative, males gave it higher ratings on average."
   ]
  },
  {
   "cell_type": "markdown",
   "metadata": {
    "deletable": false,
    "nbgrader": {
     "checksum": "d77b74440da28ba9d6d971c294f1d6c7",
     "grade": false,
     "grade_id": "genres_question",
     "locked": true,
     "solution": false
    }
   },
   "source": [
    "## Question 3\n",
    "\n",
    "Calculate the average rating by genre. Note that a movie can belong to multiple genres. You will have to write some code that parses the `genres` column of the `movies` table. What genre had the highest average rating? What genre had the lowest?"
   ]
  },
  {
   "cell_type": "code",
   "execution_count": 6,
   "metadata": {
    "collapsed": false,
    "deletable": false,
    "nbgrader": {
     "checksum": "c0b6e35bb79da1896e1213c28ffb9344",
     "grade": true,
     "grade_id": "genres",
     "locked": false,
     "points": 30,
     "solution": true
    }
   },
   "outputs": [
    {
     "name": "stdout",
     "output_type": "stream",
     "text": [
      "Crime          3.708679\n",
      "Drama          3.766332\n",
      "War            3.893327\n",
      "Documentary    3.933123\n",
      "Film-Noir      4.075188\n",
      "dtype: float64\n",
      "Horror        3.215013\n",
      "Children's    3.422035\n",
      "Fantasy       3.447371\n",
      "Sci-Fi        3.466521\n",
      "Adventure     3.477257\n",
      "dtype: float64\n"
     ]
    }
   ],
   "source": [
    "# YOUR CODE HERE\n",
    "#raise NotImplementedError()\n",
    "\n",
    "# merge the movies to the ratings\n",
    "data = movies.merge(ratings, on=\"movie_id\")\n",
    "\n",
    "# get all occurrences of genres in a list\n",
    "genres = movies[\"genres\"].str.cat(sep=\"|\").split(\"|\")\n",
    "# get unique genres, convert back to list\n",
    "genres = list(set(genres))\n",
    "\n",
    "# add a boolean column to DataFrame for each genre\n",
    "for genre in genres:\n",
    "    data[genre] = data[\"genres\"].str.contains(genre)\n",
    "\n",
    "# multiply each genre column by the ratings column,\n",
    "# then .sum() to get the total of ratings for that genre\n",
    "total_rating = data[genres].multiply(data['rating'], axis=0).sum()\n",
    "# adding the booleans should give the number of ratings for each genre\n",
    "num_rating = data[genres].sum()\n",
    "# divide to get the average rating\n",
    "#(total_rating / num_rating).sort_values()\n",
    "print((total_rating / num_rating).sort_values().tail())\n",
    "print((total_rating / num_rating).sort_values().head())\n",
    "\n",
    "\n",
    "\n",
    "# split_genres = movies[ 'genres'].str.cat(sep = '|') # returns a string\n",
    "# #split_genres\n",
    "\n",
    "# split_genres = split_genres.split(\"|\") # must concat before doing this step\n",
    "# split_genres\n",
    "\n",
    "# distinct_genres_list = []\n",
    "\n",
    "# #create list of distinct genres\n",
    "# # get unique genres, convert back to list\n",
    "# #enres = list(set(genres))\n",
    "\n",
    "# for genre in split_genres:\n",
    " \n",
    "    \n",
    "#     if genre not in distinct_genres_list:\n",
    "        \n",
    "#         distinct_genres_list.append(genre)\n",
    "\n",
    "\n",
    "\n",
    "# data_merged_genre = pd.merge(ratings, movies, on = 'movie_id')\n",
    "# data_merged_genre = data_merged_genre.sort_index()\n",
    "\n",
    "\n",
    "# for genre in distinct_genres_list:\n",
    "    \n",
    "#         data_merged_genre[genre] = data_merged_genre['genres'].str.contains(genre)\n",
    "        \n",
    "# data_merged_genre\n",
    "\n",
    "# # multiply each genre column by the ratings column,\n",
    "# # then .sum() to get the total of ratings for that genre\n",
    "# total_rating = data_merged_genre[split_genres].multiply(data_merged_genre['rating'], axis=0).sum()\n",
    "# # adding the booleans should give the number of ratings for each genre\n",
    "# num_rating = data_merged_genre[genres].sum()\n",
    "# # divide to get the average rating\n",
    "# (total_rating / num_rating).sort_values()\n",
    "        \n",
    "# #.str.contains('Drama')\n",
    "# #data_merged_genre['genres'].str.contains('Drama')\n",
    "# #use .split?\n",
    "\n",
    "# # data_merged_genre = data_merged_genre.groupby('genres' )[ ['rating'] ].mean()\n",
    "# # print(data_merged_genre.sort_values(by = 'rating').tail())\n",
    "# # print(data_merged_genre.sort_values(by = 'rating').head(n = 50))"
   ]
  },
  {
   "cell_type": "markdown",
   "metadata": {
    "deletable": false,
    "nbgrader": {
     "checksum": "08fd58841dc116c017dd894977cd48dd",
     "grade": true,
     "grade_id": "genres_text",
     "locked": false,
     "points": 0,
     "solution": true
    }
   },
   "source": [
    "Ignoring mixed genres, the Animation genre had the highest average ratings. Also, ignoring mixed genres, the Children genre had\n",
    "the lowest average ratings.\n",
    "\n",
    "CORRECTION: Horror genre had lowest avg ratings. Film-Noi has highest."
   ]
  },
  {
   "cell_type": "markdown",
   "metadata": {
    "deletable": false,
    "nbgrader": {
     "checksum": "a047610b0620aadcacfc31cfaadc27db",
     "grade": false,
     "grade_id": "open_ended_question",
     "locked": true,
     "solution": false
    }
   },
   "source": [
    "## Question 4\n",
    "\n",
    "Formulate a question of your own that you can answer using this MovieLens data. State clearly what your question is and what your findings are. Bonus points are available if you find something interesting!\n",
    "\n",
    "**Tip:** You may find the `occupation` column of `users` to be a rich source of interesting questions. See the README file (/data/movielens/README) for information about how `occupation` is coded in the data."
   ]
  },
  {
   "cell_type": "code",
   "execution_count": 7,
   "metadata": {
    "collapsed": false,
    "deletable": false,
    "nbgrader": {
     "checksum": "e75544fb6f9ef711412b142c25f6e2b7",
     "grade": true,
     "grade_id": "open_ended",
     "locked": false,
     "points": 20,
     "solution": true
    }
   },
   "outputs": [
    {
     "data": {
      "text/html": [
       "<div>\n",
       "<table border=\"1\" class=\"dataframe\">\n",
       "  <thead>\n",
       "    <tr style=\"text-align: right;\">\n",
       "      <th></th>\n",
       "      <th>number of ratings</th>\n",
       "    </tr>\n",
       "    <tr>\n",
       "      <th>occupation</th>\n",
       "      <th></th>\n",
       "    </tr>\n",
       "  </thead>\n",
       "  <tbody>\n",
       "    <tr>\n",
       "      <th>0</th>\n",
       "      <td>130499</td>\n",
       "    </tr>\n",
       "    <tr>\n",
       "      <th>1</th>\n",
       "      <td>85351</td>\n",
       "    </tr>\n",
       "    <tr>\n",
       "      <th>2</th>\n",
       "      <td>50068</td>\n",
       "    </tr>\n",
       "    <tr>\n",
       "      <th>3</th>\n",
       "      <td>31623</td>\n",
       "    </tr>\n",
       "    <tr>\n",
       "      <th>4</th>\n",
       "      <td>131032</td>\n",
       "    </tr>\n",
       "    <tr>\n",
       "      <th>5</th>\n",
       "      <td>21850</td>\n",
       "    </tr>\n",
       "    <tr>\n",
       "      <th>6</th>\n",
       "      <td>37205</td>\n",
       "    </tr>\n",
       "    <tr>\n",
       "      <th>...</th>\n",
       "      <td>...</td>\n",
       "    </tr>\n",
       "    <tr>\n",
       "      <th>14</th>\n",
       "      <td>49109</td>\n",
       "    </tr>\n",
       "    <tr>\n",
       "      <th>15</th>\n",
       "      <td>22951</td>\n",
       "    </tr>\n",
       "    <tr>\n",
       "      <th>16</th>\n",
       "      <td>46021</td>\n",
       "    </tr>\n",
       "    <tr>\n",
       "      <th>17</th>\n",
       "      <td>72816</td>\n",
       "    </tr>\n",
       "    <tr>\n",
       "      <th>18</th>\n",
       "      <td>12086</td>\n",
       "    </tr>\n",
       "    <tr>\n",
       "      <th>19</th>\n",
       "      <td>14904</td>\n",
       "    </tr>\n",
       "    <tr>\n",
       "      <th>20</th>\n",
       "      <td>60397</td>\n",
       "    </tr>\n",
       "  </tbody>\n",
       "</table>\n",
       "<p>21 rows × 1 columns</p>\n",
       "</div>"
      ],
      "text/plain": [
       "            number of ratings\n",
       "occupation                   \n",
       "0                      130499\n",
       "1                       85351\n",
       "2                       50068\n",
       "3                       31623\n",
       "4                      131032\n",
       "5                       21850\n",
       "6                       37205\n",
       "...                       ...\n",
       "14                      49109\n",
       "15                      22951\n",
       "16                      46021\n",
       "17                      72816\n",
       "18                      12086\n",
       "19                      14904\n",
       "20                      60397\n",
       "\n",
       "[21 rows x 1 columns]"
      ]
     },
     "execution_count": 7,
     "metadata": {},
     "output_type": "execute_result"
    }
   ],
   "source": [
    "# YOUR CODE HERE\n",
    "#raise NotImplementedError()\n",
    "\n",
    "num_ratings_by_occupation = users.merge(ratings, on = 'user_id').groupby('occupation')[['rating']].count()\n",
    "num_ratings_by_occupation.columns = ['number of ratings']\n",
    "num_ratings_by_occupation"
   ]
  },
  {
   "cell_type": "markdown",
   "metadata": {
    "deletable": false,
    "nbgrader": {
     "checksum": "c7f920f41854bd18f1d71c6159697761",
     "grade": true,
     "grade_id": "open_ended_text",
     "locked": false,
     "points": 0,
     "solution": true
    }
   },
   "source": [
    "Q: How many ratings did each group of people by occupation give? Which occupation had people that gave the most ratings? \n",
    "\n",
    "Users(people) with occupation 4 rated the most amount of movies as a group. One could speculate that those with occupation 4 were more willing to rate a movie that they watched. It is also possible that the movies those in occupation 4 chose to watch tended to provoke strong feelings."
   ]
  },
  {
   "cell_type": "markdown",
   "metadata": {},
   "source": [
    "## Submitting this Lab\n",
    "\n",
    "Now, restart your kernel and re-run your entire notebook from beginning to end. Make sure there are no errors or bugs. When you have verified this, open the Terminal on JupyterHub and type \n",
    "\n",
    "`nbgrader submit Lab-04-14 --course dlsun`\n",
    "\n",
    "to submit this lab."
   ]
  }
 ],
 "metadata": {
  "kernelspec": {
   "display_name": "Python 3",
   "language": "python",
   "name": "python3"
  },
  "language_info": {
   "codemirror_mode": {
    "name": "ipython",
    "version": 3
   },
   "file_extension": ".py",
   "mimetype": "text/x-python",
   "name": "python",
   "nbconvert_exporter": "python",
   "pygments_lexer": "ipython3",
   "version": "3.4.3"
  }
 },
 "nbformat": 4,
 "nbformat_minor": 0
}
