{
 "cells": [
  {
   "cell_type": "markdown",
   "metadata": {},
   "source": [
    "# Announcements\n",
    "\n",
    "## April 28, 2016"
   ]
  },
  {
   "cell_type": "markdown",
   "metadata": {},
   "source": [
    "## Final Project\n",
    "\n",
    "- **Task:** Analyze a data set from start to finish. The data set should be big, complex, and/or messy. (It should require significant effort to manipulate or clean the data.)\n",
    "- You will do your analysis in a Jupyter notebook and present your analysis during the scheduled final for this class. (Thursday, June 9)\n",
    "- Some ideas:\n",
    " - Participate in a [Kaggle](http://www.kaggle.com/) competition. (You could win money!)\n",
    " - [Kaggle data sets](https://www.kaggle.com/datasets)\n",
    " - [Amazon Web Services (AWS) data sets](http://aws.amazon.com/public-data-sets/)\n",
    " - Analyze the [Panama Papers](https://panamapapers.icij.org/) data leak on secret offshore companies, which will be released May 9.\n",
    "- You may work in pairs, but I would expect a project to be twice as good as an individual project."
   ]
  },
  {
   "cell_type": "markdown",
   "metadata": {},
   "source": [
    "## Agenda for Today\n",
    "\n",
    "- A few final words about SQL and Pandas\n",
    "- MapReduce"
   ]
  }
 ],
 "metadata": {
  "kernelspec": {
   "display_name": "Python 3",
   "language": "python",
   "name": "python3"
  },
  "language_info": {
   "codemirror_mode": {
    "name": "ipython",
    "version": 3
   },
   "file_extension": ".py",
   "mimetype": "text/x-python",
   "name": "python",
   "nbconvert_exporter": "python",
   "pygments_lexer": "ipython3",
   "version": "3.4.3"
  }
 },
 "nbformat": 4,
 "nbformat_minor": 0
}
