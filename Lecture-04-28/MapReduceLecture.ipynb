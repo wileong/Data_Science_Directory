{
 "cells": [
  {
   "cell_type": "code",
   "execution_count": 1,
   "metadata": {
    "collapsed": true
   },
   "outputs": [],
   "source": [
    "#Big pic:\n",
    "\n",
    "#have a huge data set and break it into pieces\n",
    "\n",
    "# apply map() to each chunk\n",
    "\n",
    "#agg outputs using reduce function\n",
    "\n",
    "#map() takes chunk of data returns (key,value[frequency of key occurences]) pairs\n",
    "# reduce() takes (key,list of vals) and return (key,VALUE); basically add counts\n",
    "#shuffling puts similar pairs together\n",
    "\n",
    "#focus in this class: how to write mapreduce jobs"
   ]
  },
  {
   "cell_type": "code",
   "execution_count": null,
   "metadata": {
    "collapsed": true
   },
   "outputs": [],
   "source": []
  }
 ],
 "metadata": {
  "kernelspec": {
   "display_name": "Python 3",
   "language": "python",
   "name": "python3"
  },
  "language_info": {
   "codemirror_mode": {
    "name": "ipython",
    "version": 3
   },
   "file_extension": ".py",
   "mimetype": "text/x-python",
   "name": "python",
   "nbconvert_exporter": "python",
   "pygments_lexer": "ipython3",
   "version": "3.4.3"
  }
 },
 "nbformat": 4,
 "nbformat_minor": 0
}
