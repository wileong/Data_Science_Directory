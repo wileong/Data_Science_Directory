{
 "cells": [
  {
   "cell_type": "markdown",
   "metadata": {},
   "source": [
    "MRJob is meant to be used within standalone Python scripts and called from the command line. To use it inside the notebook, we will use the `%%file` magic to write code to a file and then `!` to execute a shell command inside the notebook."
   ]
  },
  {
   "cell_type": "code",
   "execution_count": 6,
   "metadata": {
    "collapsed": false
   },
   "outputs": [
    {
     "name": "stdout",
     "output_type": "stream",
     "text": [
      "(1, 7)\n",
      "(2, 8)\n"
     ]
    }
   ],
   "source": [
    "for x in zip([1,2],[7,8]):\n",
    "    print(x)\n",
    "#output of zip() is a 'generator'; behaves LIKE a list BUT NOT STORED IN MEMORY!"
   ]
  },
  {
   "cell_type": "code",
   "execution_count": 9,
   "metadata": {
    "collapsed": false
   },
   "outputs": [
    {
     "name": "stdout",
     "output_type": "stream",
     "text": [
      "Overwriting word_frequency_count.py\n"
     ]
    }
   ],
   "source": [
    "%%file word_frequency_count.py \n",
    "#jupyter magic\n",
    "#wrote code below to file.py\n",
    "# see new file!\n",
    "\n",
    "from mrjob.job import MRJob\n",
    "\n",
    "\n",
    "class MRWordFrequencyCount(MRJob):\n",
    "\n",
    "    def mapper(self, _, line): # FOCUS ON\n",
    "        #underscore means we will not be using this arg at all\n",
    "        #go line by line in text\n",
    "        yield \"chars\", len(line)\n",
    "        yield \"words\", len(line.split()) #take a line and split by whitespace\n",
    "        yield \"lines\", 1\n",
    "        #yield creates a 'generator', we're making generators to not store stuff in memory\n",
    "\n",
    "    def reducer(self, key, values ): #FOCUS ON \n",
    "        yield key, sum(values)\n",
    "                #values is a list of number of words\n",
    "\n",
    "\n",
    "if __name__ == '__main__':\n",
    "    MRWordFrequencyCount.run()"
   ]
  },
  {
   "cell_type": "code",
   "execution_count": 13,
   "metadata": {
    "collapsed": false
   },
   "outputs": [
    {
     "name": "stdout",
     "output_type": "stream",
     "text": [
      "No configs found; falling back on auto-configuration\n",
      "Creating temp directory /tmp/word_frequency_count.wileong.20160428.212721.603607\n",
      "Running step 1 of 1...\n",
      "Streaming final output from /tmp/word_frequency_count.wileong.20160428.212721.603607/output...\n",
      "\"chars\"\t1944838\n",
      "\"lines\"\t40291\n",
      "\"words\"\t353076\n",
      "Removing temp directory /tmp/word_frequency_count.wileong.20160428.212721.603607...\n"
     ]
    }
   ],
   "source": [
    "! python3 word_frequency_count.py /data/AnnaKarenina.txt\n",
    "#exclamation point allows u to call from terminal"
   ]
  },
  {
   "cell_type": "code",
   "execution_count": 17,
   "metadata": {
    "collapsed": false
   },
   "outputs": [
    {
     "name": "stdout",
     "output_type": "stream",
     "text": [
      "Overwriting character_count.py\n"
     ]
    }
   ],
   "source": [
    "%%file character_count.py \n",
    "#jupyter magic\n",
    "#writes to filename specified\n",
    "#wrote code below to file.py\n",
    "# see new file!\n",
    "\n",
    "#use pass to do nothing\n",
    "\n",
    "from mrjob.job import MRJob\n",
    "\n",
    "#count number of occurrences of ea distinct character in the text\n",
    "class CharacterCount(MRJob):\n",
    "\n",
    "    def mapper(self, _, line): # FOCUS ON\n",
    "        #underscore means we will not be using this arg at all\n",
    "        #go line by line in text\n",
    "        for char in line:\n",
    "            if char.isalnum():\n",
    "                yield char.lower(), 1 #lowercase only, creates key\n",
    "        \n",
    "        #yield creates a 'generator', we're making generators to not store stuff in memory\n",
    "\n",
    "    def reducer(self, key, values ):\n",
    "        #what shoudl u do to vals to get total of letters?\n",
    "        #what should we do with all those \"1\"'s for count of char...\n",
    "        yield key, sum(values)\n",
    "\n",
    "\n",
    "if __name__ == '__main__':\n",
    "    CharacterCount.run()"
   ]
  },
  {
   "cell_type": "code",
   "execution_count": 18,
   "metadata": {
    "collapsed": false
   },
   "outputs": [
    {
     "name": "stdout",
     "output_type": "stream",
     "text": [
      "No configs found; falling back on auto-configuration\n",
      "Creating temp directory /tmp/character_count.wileong.20160428.212937.726876\n",
      "Running step 1 of 1...\n",
      "Streaming final output from /tmp/character_count.wileong.20160428.212937.726876/output...\n",
      "\"0\"\t51\n",
      "\"1\"\t189\n",
      "\"2\"\t116\n",
      "\"3\"\t71\n",
      "\"4\"\t36\n",
      "\"5\"\t40\n",
      "\"6\"\t33\n",
      "\"7\"\t31\n",
      "\"8\"\t39\n",
      "\"9\"\t38\n",
      "\"\\u00e0\"\t24\n",
      "\"\\u00e2\"\t4\n",
      "\"\\u00e4\"\t1\n",
      "\"\\u00e7\"\t4\n",
      "\"\\u00e8\"\t22\n",
      "\"\\u00e9\"\t36\n",
      "\"\\u00ea\"\t7\n",
      "\"\\u00ef\"\t13\n",
      "\"\\u00f4\"\t5\n",
      "\"\\u00fc\"\t4\n",
      "\"a\"\t125132\n",
      "\"b\"\t21525\n",
      "\"c\"\t34744\n",
      "\"d\"\t69021\n",
      "\"e\"\t187106\n",
      "\"f\"\t31489\n",
      "\"g\"\t33663\n",
      "\"h\"\t106968\n",
      "\"i\"\t110257\n",
      "\"j\"\t1509\n",
      "\"k\"\t15548\n",
      "\"l\"\t61103\n",
      "\"m\"\t34483\n",
      "\"n\"\t111349\n",
      "\"o\"\t115233\n",
      "\"p\"\t24178\n",
      "\"q\"\t1421\n",
      "\"r\"\t80827\n",
      "\"s\"\t98658\n",
      "\"t\"\t141980\n",
      "\"u\"\t40143\n",
      "\"v\"\t20072\n",
      "\"w\"\t37313\n",
      "\"x\"\t3426\n",
      "\"y\"\t32376\n",
      "\"z\"\t1044\n",
      "Removing temp directory /tmp/character_count.wileong.20160428.212937.726876...\n"
     ]
    }
   ],
   "source": [
    "! python3 character_count.py /data/AnnaKarenina.txt"
   ]
  },
  {
   "cell_type": "code",
   "execution_count": 24,
   "metadata": {
    "collapsed": false
   },
   "outputs": [
    {
     "name": "stdout",
     "output_type": "stream",
     "text": [
      "Overwriting max_length.py\n"
     ]
    }
   ],
   "source": [
    "%%file max_length.py \n",
    "#jupyter magic\n",
    "#writes to filename specified\n",
    "#wrote code below to file.py\n",
    "# see new file!\n",
    "\n",
    "#use pass to do nothing\n",
    "\n",
    "from mrjob.job import MRJob\n",
    "\n",
    "# get the length of the longest word in a document\n",
    "class MaxLength(MRJob):\n",
    "\n",
    "    def mapper(self, _, line): # FOCUS ON\n",
    "        #underscore means we will not be using this arg at all\n",
    "        #go line by line in text\n",
    "        \n",
    "        words = line.split()\n",
    "        \n",
    "#         for word in words:\n",
    "#             yield None, len(word) #we're not looking for key!\n",
    "#             #YIELD EVERY WORD in line\n",
    "\n",
    "        lengths = [len(w) for w in words] #\n",
    "        \n",
    "        if len(lengths) > 0:\n",
    "            yield None,max(lengths)\n",
    "        \n",
    "        \n",
    "        #yield creates a 'generator', we're making generators to not store stuff in memory\n",
    "\n",
    "    def reducer(self, key, values ): #finds max of max of each line\n",
    "        \n",
    "        #Every key would be called none\n",
    "        yield None, max(values)\n",
    "\n",
    "\n",
    "if __name__ == '__main__':\n",
    "    MaxLength.run()"
   ]
  },
  {
   "cell_type": "code",
   "execution_count": 25,
   "metadata": {
    "collapsed": false
   },
   "outputs": [
    {
     "name": "stdout",
     "output_type": "stream",
     "text": [
      "No configs found; falling back on auto-configuration\n",
      "Creating temp directory /tmp/max_length.wileong.20160428.214607.904895\n",
      "Running step 1 of 1...\n",
      "Streaming final output from /tmp/max_length.wileong.20160428.214607.904895/output...\n",
      "null\t43\n",
      "Removing temp directory /tmp/max_length.wileong.20160428.214607.904895...\n"
     ]
    }
   ],
   "source": [
    "! python3 max_length.py /data/AnnaKarenina.txt"
   ]
  },
  {
   "cell_type": "code",
   "execution_count": null,
   "metadata": {
    "collapsed": true
   },
   "outputs": [],
   "source": []
  }
 ],
 "metadata": {
  "kernelspec": {
   "display_name": "Python 3",
   "language": "python",
   "name": "python3"
  },
  "language_info": {
   "codemirror_mode": {
    "name": "ipython",
    "version": 3
   },
   "file_extension": ".py",
   "mimetype": "text/x-python",
   "name": "python",
   "nbconvert_exporter": "python",
   "pygments_lexer": "ipython3",
   "version": "3.4.3"
  }
 },
 "nbformat": 4,
 "nbformat_minor": 0
}
