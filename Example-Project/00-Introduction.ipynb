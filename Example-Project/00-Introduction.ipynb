{
 "cells": [
  {
   "cell_type": "markdown",
   "metadata": {},
   "source": [
    "# Modeling Stock Movement and Algorithmic Trading\n",
    "Brian Bahmanyar"
   ]
  },
  {
   "cell_type": "markdown",
   "metadata": {},
   "source": [
    "***\n",
    "### Abstract"
   ]
  },
  {
   "cell_type": "markdown",
   "metadata": {},
   "source": [
    "Understanding the movement of markets and stocks is fundamentally a very difficult problem. There are many factors that go into a comapany's valuation, which is reflected in the price of its stock. Another factor that effects a stock price at a given time is human behavior, if people think that a stock is overvalued they are likey to sell. When others holding stock with that comapany see that others are selling, and the price is dropping, they will then sell their shares. This then causes the stock to be undervalued and the cycle continues. In this project I will explore and model how stock prices move over time, and in relation to one another. Then I will use this information to implement and back test a pairs trading algorithm. The goal of this project will be to outpreform the Standard and Poor's 500 which historically yeilds an average return of about 10%."
   ]
  },
  {
   "cell_type": "markdown",
   "metadata": {},
   "source": [
    "### Description of the Data"
   ]
  },
  {
   "cell_type": "code",
   "execution_count": 1,
   "metadata": {
    "collapsed": true
   },
   "outputs": [],
   "source": [
    "import pandas as pd"
   ]
  },
  {
   "cell_type": "code",
   "execution_count": 2,
   "metadata": {
    "collapsed": true
   },
   "outputs": [],
   "source": [
    "tech  = pd.read_csv('data/tech_bundle.csv')\n",
    "pairs = pd.read_csv('data/pairs_bundle.csv')"
   ]
  },
  {
   "cell_type": "markdown",
   "metadata": {},
   "source": [
    "* tech_bundle.csv holds the daily adjusted close prices for Apple, Facebook, and Amazon from 01/02/2013 to 02/29/2016, collected from Quandl.com as well as some useful transformations\n",
    "    * *Stock_A/Stock_B* represents the ratio of the stocks\n",
    "    * *ln(Stock_A)* represents the natural log of *Stock_A*"
   ]
  },
  {
   "cell_type": "code",
   "execution_count": 3,
   "metadata": {
    "collapsed": false
   },
   "outputs": [
    {
     "data": {
      "text/html": [
       "<div>\n",
       "<table border=\"1\" class=\"dataframe\">\n",
       "  <thead>\n",
       "    <tr style=\"text-align: right;\">\n",
       "      <th></th>\n",
       "      <th>Date</th>\n",
       "      <th>AAPL</th>\n",
       "      <th>AAPL/FB</th>\n",
       "      <th>AMZN</th>\n",
       "      <th>AMZN/AAPL</th>\n",
       "      <th>AMZN/FB</th>\n",
       "      <th>FB</th>\n",
       "      <th>ln(AAPL)</th>\n",
       "      <th>ln(AMZN)</th>\n",
       "      <th>ln(FB)</th>\n",
       "    </tr>\n",
       "  </thead>\n",
       "  <tbody>\n",
       "    <tr>\n",
       "      <th>0</th>\n",
       "      <td>2013-01-02</td>\n",
       "      <td>73.295822</td>\n",
       "      <td>2.617708</td>\n",
       "      <td>257.31</td>\n",
       "      <td>3.510568</td>\n",
       "      <td>9.189643</td>\n",
       "      <td>28.00</td>\n",
       "      <td>4.294504</td>\n",
       "      <td>5.550282</td>\n",
       "      <td>3.332205</td>\n",
       "    </tr>\n",
       "    <tr>\n",
       "      <th>1</th>\n",
       "      <td>2013-01-03</td>\n",
       "      <td>72.370116</td>\n",
       "      <td>2.606054</td>\n",
       "      <td>258.48</td>\n",
       "      <td>3.571640</td>\n",
       "      <td>9.307886</td>\n",
       "      <td>27.77</td>\n",
       "      <td>4.281793</td>\n",
       "      <td>5.554818</td>\n",
       "      <td>3.323956</td>\n",
       "    </tr>\n",
       "    <tr>\n",
       "      <th>2</th>\n",
       "      <td>2013-01-04</td>\n",
       "      <td>70.354805</td>\n",
       "      <td>2.446273</td>\n",
       "      <td>259.15</td>\n",
       "      <td>3.683473</td>\n",
       "      <td>9.010779</td>\n",
       "      <td>28.76</td>\n",
       "      <td>4.253551</td>\n",
       "      <td>5.557407</td>\n",
       "      <td>3.358986</td>\n",
       "    </tr>\n",
       "    <tr>\n",
       "      <th>3</th>\n",
       "      <td>2013-01-07</td>\n",
       "      <td>69.940953</td>\n",
       "      <td>2.377327</td>\n",
       "      <td>268.46</td>\n",
       "      <td>3.838381</td>\n",
       "      <td>9.125085</td>\n",
       "      <td>29.42</td>\n",
       "      <td>4.247651</td>\n",
       "      <td>5.592702</td>\n",
       "      <td>3.381675</td>\n",
       "    </tr>\n",
       "    <tr>\n",
       "      <th>4</th>\n",
       "      <td>2013-01-08</td>\n",
       "      <td>70.129189</td>\n",
       "      <td>2.413255</td>\n",
       "      <td>266.38</td>\n",
       "      <td>3.798418</td>\n",
       "      <td>9.166552</td>\n",
       "      <td>29.06</td>\n",
       "      <td>4.250339</td>\n",
       "      <td>5.584924</td>\n",
       "      <td>3.369363</td>\n",
       "    </tr>\n",
       "  </tbody>\n",
       "</table>\n",
       "</div>"
      ],
      "text/plain": [
       "         Date       AAPL   AAPL/FB    AMZN  AMZN/AAPL   AMZN/FB     FB  \\\n",
       "0  2013-01-02  73.295822  2.617708  257.31   3.510568  9.189643  28.00   \n",
       "1  2013-01-03  72.370116  2.606054  258.48   3.571640  9.307886  27.77   \n",
       "2  2013-01-04  70.354805  2.446273  259.15   3.683473  9.010779  28.76   \n",
       "3  2013-01-07  69.940953  2.377327  268.46   3.838381  9.125085  29.42   \n",
       "4  2013-01-08  70.129189  2.413255  266.38   3.798418  9.166552  29.06   \n",
       "\n",
       "   ln(AAPL)  ln(AMZN)    ln(FB)  \n",
       "0  4.294504  5.550282  3.332205  \n",
       "1  4.281793  5.554818  3.323956  \n",
       "2  4.253551  5.557407  3.358986  \n",
       "3  4.247651  5.592702  3.381675  \n",
       "4  4.250339  5.584924  3.369363  "
      ]
     },
     "execution_count": 3,
     "metadata": {},
     "output_type": "execute_result"
    }
   ],
   "source": [
    "tech.head()"
   ]
  },
  {
   "cell_type": "markdown",
   "metadata": {},
   "source": [
    "* pairs_bundle.csv holds the daily adjusted close prices for Chevron, Exxon, Verizon, AT&T, Pepsi, and Coca-Cola from 01/02/1990 to 02/29/2016, collected from Quandl.com as well as some useful transformations\n",
    "    * again, *Stock_A/Stock_B* represents the ratio of the stocks"
   ]
  },
  {
   "cell_type": "code",
   "execution_count": 4,
   "metadata": {
    "collapsed": false
   },
   "outputs": [
    {
     "data": {
      "text/html": [
       "<div>\n",
       "<table border=\"1\" class=\"dataframe\">\n",
       "  <thead>\n",
       "    <tr style=\"text-align: right;\">\n",
       "      <th></th>\n",
       "      <th>Date</th>\n",
       "      <th>CVX</th>\n",
       "      <th>CVX/XOM</th>\n",
       "      <th>KO</th>\n",
       "      <th>PEP</th>\n",
       "      <th>PEP/KO</th>\n",
       "      <th>T</th>\n",
       "      <th>VZ</th>\n",
       "      <th>VZ/T</th>\n",
       "      <th>XOM</th>\n",
       "    </tr>\n",
       "  </thead>\n",
       "  <tbody>\n",
       "    <tr>\n",
       "      <th>0</th>\n",
       "      <td>1990-01-02</td>\n",
       "      <td>6.724925</td>\n",
       "      <td>0.864271</td>\n",
       "      <td>2.791292</td>\n",
       "      <td>6.310486</td>\n",
       "      <td>2.260776</td>\n",
       "      <td>6.506971</td>\n",
       "      <td>12.543602</td>\n",
       "      <td>1.927718</td>\n",
       "      <td>7.781034</td>\n",
       "    </tr>\n",
       "    <tr>\n",
       "      <th>1</th>\n",
       "      <td>1990-01-03</td>\n",
       "      <td>6.622892</td>\n",
       "      <td>0.859756</td>\n",
       "      <td>2.753444</td>\n",
       "      <td>6.249591</td>\n",
       "      <td>2.269736</td>\n",
       "      <td>6.393413</td>\n",
       "      <td>12.516094</td>\n",
       "      <td>1.957655</td>\n",
       "      <td>7.703223</td>\n",
       "    </tr>\n",
       "    <tr>\n",
       "      <th>2</th>\n",
       "      <td>1990-01-04</td>\n",
       "      <td>6.530134</td>\n",
       "      <td>0.856365</td>\n",
       "      <td>2.743982</td>\n",
       "      <td>6.187714</td>\n",
       "      <td>2.255012</td>\n",
       "      <td>6.272066</td>\n",
       "      <td>12.061367</td>\n",
       "      <td>1.923029</td>\n",
       "      <td>7.625413</td>\n",
       "    </tr>\n",
       "    <tr>\n",
       "      <th>3</th>\n",
       "      <td>1990-01-05</td>\n",
       "      <td>6.437377</td>\n",
       "      <td>0.848530</td>\n",
       "      <td>2.715596</td>\n",
       "      <td>6.102264</td>\n",
       "      <td>2.247118</td>\n",
       "      <td>5.969798</td>\n",
       "      <td>11.785666</td>\n",
       "      <td>1.974215</td>\n",
       "      <td>7.586508</td>\n",
       "    </tr>\n",
       "    <tr>\n",
       "      <th>4</th>\n",
       "      <td>1990-01-08</td>\n",
       "      <td>6.502307</td>\n",
       "      <td>0.844102</td>\n",
       "      <td>2.772368</td>\n",
       "      <td>6.212268</td>\n",
       "      <td>2.240780</td>\n",
       "      <td>6.070554</td>\n",
       "      <td>11.882713</td>\n",
       "      <td>1.957435</td>\n",
       "      <td>7.703223</td>\n",
       "    </tr>\n",
       "  </tbody>\n",
       "</table>\n",
       "</div>"
      ],
      "text/plain": [
       "         Date       CVX   CVX/XOM        KO       PEP    PEP/KO         T  \\\n",
       "0  1990-01-02  6.724925  0.864271  2.791292  6.310486  2.260776  6.506971   \n",
       "1  1990-01-03  6.622892  0.859756  2.753444  6.249591  2.269736  6.393413   \n",
       "2  1990-01-04  6.530134  0.856365  2.743982  6.187714  2.255012  6.272066   \n",
       "3  1990-01-05  6.437377  0.848530  2.715596  6.102264  2.247118  5.969798   \n",
       "4  1990-01-08  6.502307  0.844102  2.772368  6.212268  2.240780  6.070554   \n",
       "\n",
       "          VZ      VZ/T       XOM  \n",
       "0  12.543602  1.927718  7.781034  \n",
       "1  12.516094  1.957655  7.703223  \n",
       "2  12.061367  1.923029  7.625413  \n",
       "3  11.785666  1.974215  7.586508  \n",
       "4  11.882713  1.957435  7.703223  "
      ]
     },
     "execution_count": 4,
     "metadata": {},
     "output_type": "execute_result"
    }
   ],
   "source": [
    "pairs.head()"
   ]
  },
  {
   "cell_type": "markdown",
   "metadata": {},
   "source": [
    "### Index"
   ]
  },
  {
   "cell_type": "markdown",
   "metadata": {},
   "source": [
    "* _01-GettingFinancialData.ipynb_\n",
    "    * Quandl has an API used to gather adjusted close prices. This notebook describes the wrapper I implemented to get the data in the shape aboves.\n",
    "* _02-ExploringStockMovement.ipynb_\n",
    "    * This notebook we identify patterns we can exploit in the movement of a stocks price\n",
    "* _03-LogNormalRandomWalk.ipynb_\n",
    "    * This notebook we use our knowledge of a stocks movement to forcast and predict its price in the future\n",
    "* _04-PairsTradeAlgorithm.ipynb_\n",
    "    * This notebook will discuss my implementation of a pairs trading algorithm\n",
    "* _05-Presentation.ipynb_\n",
    "    * My presentation"
   ]
  },
  {
   "cell_type": "code",
   "execution_count": 5,
   "metadata": {
    "collapsed": false
   },
   "outputs": [],
   "source": [
    "assert(tech.isnull().sum().sum() == 0)\n",
    "assert(pairs.isnull().sum().sum() == 0)"
   ]
  },
  {
   "cell_type": "markdown",
   "metadata": {},
   "source": [
    "___"
   ]
  },
  {
   "cell_type": "code",
   "execution_count": 6,
   "metadata": {
    "collapsed": false
   },
   "outputs": [
    {
     "data": {
      "text/html": [
       "<style>@import \"http://fonts.googleapis.com/css?family=Lato|Source+Code+Pro|Montserrat:400,700\";@font-face{font-family:\"Computer Modern\";src:url('http://mirrors.ctan.org/fonts/cm-unicode/fonts/otf/cmunss.otf')}.rendered_html h1,h2,h3,h4,h5,h6,p{font-family:'Computer Modern'}p,ul{font-family:'Computer Modern'}div#notebook-container{-webkit-box-shadow:none;box-shadow:none}h1{font-size:70pt}h2{font-size:50pt}h3{font-size:40pt}h4{font-size:35pt}h5{font-size:30pt}h6{font-size:25pt}.rendered_html p{font-size:11pt;line-height:14pt}.CodeMirror pre{font-family:'Source Code Pro', monospace;font-size:09pt}div.input_area{border:none;background:#f5f5f5}ul{font-size:10.5pt;font-family:'Computer Modern'}ol{font-size:11pt;font-family:'Computer Modern'}.output_png img{display:block;margin-left:auto;margin-right:auto}</style>"
      ],
      "text/plain": [
       "<IPython.core.display.HTML object>"
      ]
     },
     "execution_count": 6,
     "metadata": {},
     "output_type": "execute_result"
    }
   ],
   "source": [
    "from IPython.display import HTML\n",
    "HTML(\"\"\"<style>@import \"http://fonts.googleapis.com/css?family=Lato|Source+Code+Pro|Montserrat:400,700\";@font-face{font-family:\"Computer Modern\";src:url('http://mirrors.ctan.org/fonts/cm-unicode/fonts/otf/cmunss.otf')}.rendered_html h1,h2,h3,h4,h5,h6,p{font-family:'Computer Modern'}p,ul{font-family:'Computer Modern'}div#notebook-container{-webkit-box-shadow:none;box-shadow:none}h1{font-size:70pt}h2{font-size:50pt}h3{font-size:40pt}h4{font-size:35pt}h5{font-size:30pt}h6{font-size:25pt}.rendered_html p{font-size:11pt;line-height:14pt}.CodeMirror pre{font-family:'Source Code Pro', monospace;font-size:09pt}div.input_area{border:none;background:#f5f5f5}ul{font-size:10.5pt;font-family:'Computer Modern'}ol{font-size:11pt;font-family:'Computer Modern'}.output_png img{display:block;margin-left:auto;margin-right:auto}</style>\"\"\")"
   ]
  }
 ],
 "metadata": {
  "kernelspec": {
   "display_name": "Python 3",
   "language": "python",
   "name": "python3"
  },
  "language_info": {
   "codemirror_mode": {
    "name": "ipython",
    "version": 3
   },
   "file_extension": ".py",
   "mimetype": "text/x-python",
   "name": "python",
   "nbconvert_exporter": "python",
   "pygments_lexer": "ipython3",
   "version": "3.4.3"
  }
 },
 "nbformat": 4,
 "nbformat_minor": 0
}
