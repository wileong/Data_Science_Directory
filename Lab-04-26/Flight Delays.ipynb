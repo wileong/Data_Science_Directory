{
 "cells": [
  {
   "cell_type": "markdown",
   "metadata": {},
   "source": [
    "# Flight Delays\n",
    "## Due Tuesday, May 3 (8AM)"
   ]
  },
  {
   "cell_type": "markdown",
   "metadata": {},
   "source": [
    "In this lab, we will explore a big data set (2.2 GB) consisting of all flights in the United States between 2005-8. This data is stored in a SQLite database on the server. The path to the file is `/data/flights.db`. The data about the flights is contained in a table called `ontime`. A description of the columns in the data set can be found in `/data/flights.README`.\n",
    "\n",
    "Furthermore, there is a table called `planes` in the same database containing information about the planes, such as their age. Description of the columns in these two tables can be found [here](http://www.faa.gov/licenses_certificates/aircraft_certification/aircraft_registry/media/ardata.pdf).\n",
    "\n",
    "Start this assignment early, as each SQL query can take a few minutes to run (and you may need to try a question several times to get the right answer).\n",
    "\n",
    "NOTES: recommend breaking code into different cells for computation times. Put sql query into one cell."
   ]
  },
  {
   "cell_type": "code",
   "execution_count": 2,
   "metadata": {
    "collapsed": true
   },
   "outputs": [],
   "source": [
    "import pandas as pd\n",
    "import matplotlib.pyplot as plt\n",
    "\n",
    "%matplotlib inline"
   ]
  },
  {
   "cell_type": "markdown",
   "metadata": {
    "deletable": false,
    "nbgrader": {
     "checksum": "ee89a8ae5453c03ba1187681ce2d88a8",
     "grade": false,
     "grade_id": "sqlalchemy_question",
     "locked": true,
     "solution": false
    }
   },
   "source": [
    "## Question 0 (5 points)\n",
    "\n",
    "In the cell below, use SQLAlchemy to create a connection to the database. Store the connection in a variable `conn`."
   ]
  },
  {
   "cell_type": "code",
   "execution_count": 3,
   "metadata": {
    "collapsed": false,
    "deletable": false,
    "nbgrader": {
     "checksum": "96764f0eabc240edb27c2ccc5be3ba02",
     "grade": false,
     "grade_id": "sqlalchemy_code",
     "locked": false,
     "solution": true
    }
   },
   "outputs": [],
   "source": [
    "# YOUR CODE HERE\n",
    "from sqlalchemy import create_engine\n",
    "conn = create_engine(\"sqlite:////data/flights.db\")"
   ]
  },
  {
   "cell_type": "code",
   "execution_count": 4,
   "metadata": {
    "collapsed": false,
    "deletable": false,
    "nbgrader": {
     "checksum": "bebafae9db53071be5967a709d721442",
     "grade": true,
     "grade_id": "sqlalchemy_tests",
     "locked": true,
     "points": 5,
     "solution": false
    }
   },
   "outputs": [],
   "source": [
    "# If your code above was correct, the tests below should pass.\n",
    "\n",
    "num_flights = pd.read_sql(\"SELECT COUNT(*) FROM ontime\", conn)\n",
    "assert(num_flights.ix[0, 0] == 28745461)\n",
    "\n",
    "num_planes = pd.read_sql(\"SELECT COUNT(*) FROM planes\", conn)\n",
    "assert(num_planes.ix[0, 0] == 317017)"
   ]
  },
  {
   "cell_type": "code",
   "execution_count": 5,
   "metadata": {
    "collapsed": false
   },
   "outputs": [
    {
     "name": "stdout",
     "output_type": "stream",
     "text": [
      "      Year  Month  DayofMonth  DayOfWeek DepTime  CRSDepTime ArrTime  \\\n",
      "0     2008      1           3          4    2003        1955    2211   \n",
      "1     2008      1           3          4     754         735    1002   \n",
      "2     2008      1           3          4     628         620     804   \n",
      "3     2008      1           3          4     926         930    1054   \n",
      "4     2008      1           3          4    1829        1755    1959   \n",
      "5     2008      1           3          4    1940        1915    2121   \n",
      "6     2008      1           3          4    1937        1830    2037   \n",
      "...    ...    ...         ...        ...     ...         ...     ...   \n",
      "9993  2008      1           6          7    1220        1150    1649   \n",
      "9994  2008      1           6          7     900         905    1009   \n",
      "9995  2008      1           6          7    2000        1955    2121   \n",
      "9996  2008      1           6          7    1624        1620    1742   \n",
      "9997  2008      1           6          7    1946        1805    2059   \n",
      "9998  2008      1           6          7    1549        1430    1706   \n",
      "9999  2008      1           6          7    1050        1050    1211   \n",
      "\n",
      "      CRSArrTime UniqueCarrier  \n",
      "0           2225            WN  \n",
      "1           1000            WN  \n",
      "2            750            WN  \n",
      "3           1100            WN  \n",
      "4           1925            WN  \n",
      "5           2110            WN  \n",
      "6           1940            WN  \n",
      "...          ...           ...  \n",
      "9993        1635            WN  \n",
      "9994        1025            WN  \n",
      "9995        2115            WN  \n",
      "9996        1740            WN  \n",
      "9997        1930            WN  \n",
      "9998        1550            WN  \n",
      "9999        1210            WN  \n",
      "\n",
      "[10000 rows x 9 columns]\n",
      "      FlightNum TailNum ActualElapsedTime  CRSElapsedTime AirTime ArrDelay  \\\n",
      "0           335  N712SW               128             150     116      -14   \n",
      "1          3231  N772SW               128             145     113        2   \n",
      "2           448  N428WN                96              90      76       14   \n",
      "3          1746  N612SW                88              90      78       -6   \n",
      "4          3920  N464WN                90              90      77       34   \n",
      "5           378  N726SW               101             115      87       11   \n",
      "6           509  N763SW               240             250     230       57   \n",
      "...         ...     ...               ...             ...     ...      ...   \n",
      "9993       2624  N379SW               149             165     137       14   \n",
      "9994        469  N720WN                69              80      57      -16   \n",
      "9995        593  N720WN                81              80      63        6   \n",
      "9996        618  N720WN                78              80      66        2   \n",
      "9997        646  N283WN                73              85      61       89   \n",
      "9998        656  N283WN                77              80      68       76   \n",
      "9999        680  N283WN                81              80      65        1   \n",
      "\n",
      "     DepDelay Origin Dest  Distance TaxiIn  \n",
      "0           8    IAD  TPA       810      4  \n",
      "1          19    IAD  TPA       810      5  \n",
      "2           8    IND  BWI       515      3  \n",
      "3          -4    IND  BWI       515      3  \n",
      "4          34    IND  BWI       515      3  \n",
      "5          25    IND  JAX       688      4  \n",
      "6          67    IND  LAS      1591      3  \n",
      "...       ...    ...  ...       ...    ...  \n",
      "9993       30    LAX  SAT      1210      2  \n",
      "9994       -5    LAX  SFO       337      6  \n",
      "9995        5    LAX  SFO       337      5  \n",
      "9996        4    LAX  SFO       337      4  \n",
      "9997      101    LAX  SFO       337      4  \n",
      "9998       79    LAX  SFO       337      3  \n",
      "9999        0    LAX  SFO       337      6  \n",
      "\n",
      "[10000 rows x 11 columns]\n",
      "     TaxiOut  Cancelled CancellationCode Diverted CarrierDelay WeatherDelay  \\\n",
      "0          8          0                         0           NA           NA   \n",
      "1         10          0                         0           NA           NA   \n",
      "2         17          0                         0           NA           NA   \n",
      "3          7          0                         0           NA           NA   \n",
      "4         10          0                         0            2            0   \n",
      "5         10          0                         0           NA           NA   \n",
      "6          7          0                         0           10            0   \n",
      "...      ...        ...              ...      ...          ...          ...   \n",
      "9993      10          0                         0           NA           NA   \n",
      "9994       6          0                         0           NA           NA   \n",
      "9995      13          0                         0           NA           NA   \n",
      "9996       8          0                         0           NA           NA   \n",
      "9997       8          0                         0            0            0   \n",
      "9998       6          0                         0            0           48   \n",
      "9999      10          0                         0           NA           NA   \n",
      "\n",
      "     NASDelay SecurityDelay LateAircraftDelay  \n",
      "0          NA            NA                NA  \n",
      "1          NA            NA                NA  \n",
      "2          NA            NA                NA  \n",
      "3          NA            NA                NA  \n",
      "4           0             0                32  \n",
      "5          NA            NA                NA  \n",
      "6           0             0                47  \n",
      "...       ...           ...               ...  \n",
      "9993       NA            NA                NA  \n",
      "9994       NA            NA                NA  \n",
      "9995       NA            NA                NA  \n",
      "9996       NA            NA                NA  \n",
      "9997        6             0                83  \n",
      "9998        0             0                28  \n",
      "9999       NA            NA                NA  \n",
      "\n",
      "[10000 rows x 9 columns]\n"
     ]
    }
   ],
   "source": [
    "#do this so I can get idea of how  the data looks like\n",
    "all_ontime_data =  pd.read_sql(\"SELECT * FROM ontime LIMIT 10000\", conn)\n",
    "\n",
    "first_9_cols = all_ontime_data.ix[:, 'Year':'UniqueCarrier']\n",
    "print(first_9_cols)\n",
    "show_invis_cols = all_ontime_data.ix[:, 'FlightNum':'TaxiIn']\n",
    "print(show_invis_cols)\n",
    "last_few_cols = all_ontime_data.ix[:, 'TaxiOut':'LateAircraftDelay']\n",
    "print(last_few_cols)\n"
   ]
  },
  {
   "cell_type": "markdown",
   "metadata": {
    "deletable": false,
    "nbgrader": {
     "checksum": "42c011944aba1d5af0cf4ae1b17710ad",
     "grade": false,
     "grade_id": "year_question",
     "locked": true,
     "solution": false
    }
   },
   "source": [
    "## Question 1 (10 points)\n",
    "\n",
    "Calculate the total number of flights in each year (2004-2008), and make a line plot showing this data. Do you notice any trends?"
   ]
  },
  {
   "cell_type": "code",
   "execution_count": 5,
   "metadata": {
    "collapsed": false
   },
   "outputs": [],
   "source": [
    "query1 = \"\"\"\n",
    "SELECT Year, COUNT(FlightNum) \n",
    "FROM ontime \n",
    "GROUP BY Year\n",
    "\n",
    "\n",
    "\"\"\"\n",
    "\n",
    "num_flights_04to08 = pd.read_sql(query1, conn)"
   ]
  },
  {
   "cell_type": "code",
   "execution_count": 6,
   "metadata": {
    "collapsed": false
   },
   "outputs": [
    {
     "data": {
      "text/plain": [
       "'\\nSELECT Year, COUNT(FlightNum) \\nFROM ontime \\nGROUP BY Year\\n\\n\\n'"
      ]
     },
     "execution_count": 6,
     "metadata": {},
     "output_type": "execute_result"
    }
   ],
   "source": [
    "query1"
   ]
  },
  {
   "cell_type": "code",
   "execution_count": 7,
   "metadata": {
    "collapsed": false
   },
   "outputs": [
    {
     "data": {
      "image/png": "[encoded data removed]",
      "text/plain": [
       "<matplotlib.figure.Figure at 0x7f579f3cf748>"
      ]
     },
     "metadata": {},
     "output_type": "display_data"
    }
   ],
   "source": [
    "#year_data = pd.read_sql(\"SELECT Year FROM ontime GROUP BY Year LIMIT 5\", conn) #not necessary\n",
    "\n",
    "\n",
    "with plt.style.context(\"fivethirtyeight\"):\n",
    "    num_flights_04to08.set_index('Year').plot.line() #!!!!\n",
    "    plt.ylabel(\"Number of Flights\")\n",
    "    ax = plt.gca() #get axis\n",
    "    ax.get_xaxis().get_major_formatter().set_useOffset(False) #remove offset (was in sci notation)"
   ]
  },
  {
   "cell_type": "markdown",
   "metadata": {
    "deletable": false,
    "nbgrader": {
     "checksum": "44eca33987a915aac11a9ccef06c364f",
     "grade": true,
     "grade_id": "flights_by_year",
     "locked": false,
     "points": 10,
     "solution": true
    }
   },
   "source": [
    "The number of flights peaked in the year 2007, but the number of flights dropped considerably after that."
   ]
  },
  {
   "cell_type": "markdown",
   "metadata": {
    "collapsed": true,
    "deletable": false,
    "nbgrader": {
     "checksum": "c4573dbe1548165e2270dad7652041a9",
     "grade": false,
     "grade_id": "delay_question",
     "locked": true,
     "solution": false
    }
   },
   "source": [
    "## Question 2 (10 points)\n",
    "\n",
    "What time of day is best to fly if you want to avoid delays? Calculate the average delay by _scheduled_ departure time. What do you notice?"
   ]
  },
  {
   "cell_type": "code",
   "execution_count": 8,
   "metadata": {
    "collapsed": false
   },
   "outputs": [],
   "source": [
    "#Tip: plot avg delay by scheduled depart time.\n",
    "\n",
    "query2 = '''\n",
    "\n",
    "SELECT CRSDepTime, AVG(DepDelay)\n",
    "FROM ontime\n",
    "GROUP BY CRSDepTime\n",
    "\n",
    "'''\n",
    "\n",
    "avg_delay_by_sched_dep_time = pd.read_sql(query2, conn)"
   ]
  },
  {
   "cell_type": "code",
   "execution_count": 9,
   "metadata": {
    "collapsed": false
   },
   "outputs": [
    {
     "data": {
      "text/plain": [
       "'\\n\\nSELECT CRSDepTime, AVG(DepDelay)\\nFROM ontime\\nGROUP BY CRSDepTime\\n\\n'"
      ]
     },
     "execution_count": 9,
     "metadata": {},
     "output_type": "execute_result"
    }
   ],
   "source": [
    "query2"
   ]
  },
  {
   "cell_type": "code",
   "execution_count": 10,
   "metadata": {
    "collapsed": false,
    "deletable": false,
    "nbgrader": {
     "checksum": "7b22a620a40885f58a3158bb5b24258e",
     "grade": true,
     "grade_id": "delay_response",
     "locked": false,
     "points": 10,
     "solution": true
    }
   },
   "outputs": [
    {
     "data": {
      "text/plain": [
       "CRSDepTime\n",
       "315   -11.714286\n",
       "Name: AVG(DepDelay), dtype: float64"
      ]
     },
     "execution_count": 10,
     "metadata": {},
     "output_type": "execute_result"
    },
    {
     "data": {
      "image/png": "[encoded data removed]",
      "text/plain": [
       "<matplotlib.figure.Figure at 0x7f579fcc3080>"
      ]
     },
     "metadata": {},
     "output_type": "display_data"
    }
   ],
   "source": [
    "\n",
    "with plt.style.context(\"fivethirtyeight\"):\n",
    "    avg_delay_by_sched_dep_time.set_index('CRSDepTime').plot.line() #!!!!\n",
    "    plt.ylabel(\"Average Delay Time\")\n",
    "    plt.xlabel(\"Scheduled Departure Time\")\n",
    "    \n",
    "#Get time of day with the best track record of having the most minimal delay time (Can be negative)\n",
    "avg_delay_by_sched_dep_time.set_index('CRSDepTime').ix[\\\n",
    "                avg_delay_by_sched_dep_time.set_index('CRSDepTime')['AVG(DepDelay)'] == \\\n",
    "                avg_delay_by_sched_dep_time.set_index('CRSDepTime')['AVG(DepDelay)'].min(), 'AVG(DepDelay)' ]"
   ]
  },
  {
   "cell_type": "markdown",
   "metadata": {},
   "source": [
    "3:15 (Midnight) is the best time of the day to fly to avoid delays because, on average, planes leave ontime or earlier. I noticed that flights that depart at midnight (00:00 to 05:00) tend to have the worst delay times(highest)."
   ]
  },
  {
   "cell_type": "markdown",
   "metadata": {
    "deletable": false,
    "nbgrader": {
     "checksum": "4601061c00a1fd287ba6458ca4fce036",
     "grade": false,
     "grade_id": "histograms_question",
     "locked": true,
     "solution": false
    }
   },
   "source": [
    "## Question 3 (10 points + 5 points EC)\n",
    "\n",
    "Make two histograms, one showing the distribution of flight times from San Francisco (SFO) to Chicago (ORD) and the other showing the distribution of flight times (not air time, it doesn't = departure time) in the other direction. Show these two histograms on the same plot and make a legend. What do you notice?\n",
    "\n",
    "(Note: This data is small enough that you can pull the raw data and call `.hist()` on it. But for an added challenge, try doing the aggregation in SQL and then making a bar graph, like we did in lecture! You can earn 5 points extra credit if you do it this way.)\n",
    "\n",
    "note: data is small enough to pull."
   ]
  },
  {
   "cell_type": "code",
   "execution_count": 6,
   "metadata": {
    "collapsed": false
   },
   "outputs": [],
   "source": [
    "\n",
    "# query3_sfo_to_ord = \"\"\"\n",
    "\n",
    "# SELECT ActualElapsedTime, COUNT(ActualElapsedTime)\n",
    "# FROM ontime\n",
    "# WHERE Origin = \"SFO\" and Dest = \"ORD\"\n",
    "# GROUP BY ActualElapsedTime\n",
    "\n",
    "\n",
    "# \"\"\"\n",
    "\n",
    "# sfo_to_ord_flighttimes = pd.read_sql(query3_sfo_to_ord, conn)\n",
    "\n",
    "# query3_ord_to_sfo = \"\"\"\n",
    "\n",
    "# SELECT ActualElapsedTime, COUNT(ActualElapsedTime)\n",
    "# FROM ontime\n",
    "# WHERE Origin = \"ORD\" and Dest = \"SFO\"\n",
    "# GROUP BY ActualElapsedTime\n",
    "\n",
    "\n",
    "# \"\"\"\n",
    "\n",
    "# ord_to_sfo_flighttimes = pd.read_sql(query3_ord_to_sfo, conn)\n",
    "\n",
    "sfo_to_ord = pd.read_sql('''\n",
    "SELECT ActualElapsedTime FROM ontime\n",
    "WHERE Origin = 'SFO' AND Dest = 'ORD'\n",
    "''', conn)\n",
    "\n",
    "ord_to_sfo = pd.read_sql('''\n",
    "SELECT ActualElapsedTime FROM ontime\n",
    "WHERE Origin = 'ORD' AND Dest = 'SFO'\n",
    "''', conn)\n"
   ]
  },
  {
   "cell_type": "code",
   "execution_count": 7,
   "metadata": {
    "collapsed": false
   },
   "outputs": [
    {
     "data": {
      "text/plain": [
       "<matplotlib.text.Text at 0x7fd516df9978>"
      ]
     },
     "execution_count": 7,
     "metadata": {},
     "output_type": "execute_result"
    },
    {
     "data": {
      "image/png": "[encoded data removed]",
      "text/plain": [
       "<matplotlib.figure.Figure at 0x7fd516e6bfd0>"
      ]
     },
     "metadata": {},
     "output_type": "display_data"
    }
   ],
   "source": [
    "# #must call plot.hist() on multiple series to get mult plots on same graphs or can put data in one dataframe\n",
    "# #If you call .plot.hist() on a DataFrame, it will make a new plot with histograms for every column in your DataFrame.\n",
    "# #calling plot.hist() on multiple series will cause plots to go on same graph\n",
    "\n",
    "\n",
    "# with plt.style.context(\"fivethirtyeight\"):\n",
    "#     sfo_to_ord_flighttimes.set_index('ActualElapsedTime')['COUNT(ActualElapsedTime)'].plot.hist(alpha = 0.4)\n",
    "#     ord_to_sfo_flighttimes.set_index('ActualElapsedTime')['COUNT(ActualElapsedTime)'].plot.hist(alpha = 0.4)\n",
    "#     plt.legend(['SFO to ORD Flight Times', 'ORD to SFO Flight Times'])\n",
    "#     plt.xlabel('Flight Times (minutes)')\n",
    "\n",
    "pd.to_numeric(sfo_to_ord[\"ActualElapsedTime\"], errors=\"coerce\").hist(\n",
    "    alpha=.5, bins=range(150, 450, 10))\n",
    "pd.to_numeric(ord_to_sfo[\"ActualElapsedTime\"], errors=\"coerce\").hist(\n",
    "    alpha=.5, bins=range(150, 450, 10))\n",
    "plt.legend([\"SFO to ORD\", \"ORD to SFO\"])\n",
    "plt.xlabel(\"Flight Time\")\n",
    "plt.ylabel(\"Frequency\")"
   ]
  },
  {
   "cell_type": "markdown",
   "metadata": {
    "deletable": false,
    "nbgrader": {
     "checksum": "73dba217e46811d336a4655c433d1179",
     "grade": true,
     "grade_id": "histograms_response",
     "locked": false,
     "points": 10,
     "solution": true
    }
   },
   "source": [
    "Flight times (frequency) between San Francisco and Chicago and the other way around does not seem to have any significant variation. It is fortunate knowing that most flight times be\n",
    "\n",
    "CORRECTION: Flights from Chicago to San Francisco take longer in general, although there is quite some overlap in the distributions."
   ]
  },
  {
   "cell_type": "markdown",
   "metadata": {
    "deletable": false,
    "nbgrader": {
     "checksum": "8dc945c860ac3bf8d1a05ed10d9dcc46",
     "grade": false,
     "grade_id": "older_planes_question",
     "locked": true,
     "solution": false
    }
   },
   "source": [
    "## Question 4 (35 points)\n",
    "\n",
    "Are older planes more likely to be delayed? Make an appropriate graphic and summarize your conclusions in words. (Note: Your exact analysis might differ from your friend's, but your general conclusion should be the same.)\n",
    "\n",
    "Hint: The ages of the planes can be determined using the `YearMfr` column in the `planes` table. Each plane is uniquely identified in the `ontime` table by its tail number (`TailNum`). You will need to look up this tail number in the `NNumber` column in `planes`."
   ]
  },
  {
   "cell_type": "code",
   "execution_count": 8,
   "metadata": {
    "collapsed": false
   },
   "outputs": [],
   "source": [
    "# # df['B'].str.extract('(\\d+)').astype(int) # to extract ints from strings in a dataframe column\n",
    "# #Interpretation: Match int section of tail number and int section of N-Number to get unique identification of airplane.\n",
    "# # on 'N' || = NNumber = TailNum\n",
    "\n",
    "# # all_ontime_data =  pd.read_sql(\"SELECT * FROM ontime LIMIT 10000\" , conn)\n",
    "# # all_planes_data =  pd.read_sql(\"SELECT * FROM planes LIMIT 10000\", conn)\n",
    "# # show_invis_cols_planes = all_planes_data.ix[:, 'City':\"OtherName1\"]\n",
    "\n",
    "# #print(all_ontime_data['TailNum'])\n",
    "# #all_planes_data\n",
    "\n",
    "# # all_ontime_data['TailNum'] = all_ontime_data['TailNum'].str.extract('(\\d+)').fillna(0).astype(int)\n",
    "# # all_planes_data['NNumber'] = all_planes_data['NNumber'].str.extract('(\\d+)').fillna(0).astype(int)\n",
    "\n",
    "# query4 = \"\"\"\n",
    "\n",
    "# SELECT DepDelay, TailNum ,NNumber, Year - YearMfr AS Age\n",
    "# FROM planes\n",
    "# JOIN ontime\n",
    "# ON 'N' || NNumber = TailNum\n",
    "\n",
    "# \"\"\"\n",
    "\n",
    "# old_planes_delayed = pd.read_sql(query4, conn)\n",
    "\n",
    "delay_by_age = pd.read_sql('''\n",
    "SELECT\n",
    "  ontime.Year - planes.YearMfr AS Age,\n",
    "  AVG(ontime.DepDelay) AS AvgDelay,\n",
    "  COUNT(ontime.DepDelay) AS NumFlights\n",
    "FROM ontime\n",
    "INNER JOIN planes\n",
    "ON ontime.TailNum = \"N\" || planes.NNumber\n",
    "GROUP BY Age\n",
    "''', conn)"
   ]
  },
  {
   "cell_type": "code",
   "execution_count": 9,
   "metadata": {
    "collapsed": false
   },
   "outputs": [
    {
     "data": {
      "text/html": [
       "<div>\n",
       "<table border=\"1\" class=\"dataframe\">\n",
       "  <thead>\n",
       "    <tr style=\"text-align: right;\">\n",
       "      <th></th>\n",
       "      <th>Age</th>\n",
       "      <th>AvgDelay</th>\n",
       "      <th>NumFlights</th>\n",
       "    </tr>\n",
       "  </thead>\n",
       "  <tbody>\n",
       "    <tr>\n",
       "      <th>0</th>\n",
       "      <td>-11</td>\n",
       "      <td>6.086009</td>\n",
       "      <td>1744</td>\n",
       "    </tr>\n",
       "    <tr>\n",
       "      <th>1</th>\n",
       "      <td>-10</td>\n",
       "      <td>8.742853</td>\n",
       "      <td>20463</td>\n",
       "    </tr>\n",
       "    <tr>\n",
       "      <th>2</th>\n",
       "      <td>-9</td>\n",
       "      <td>7.500738</td>\n",
       "      <td>25081</td>\n",
       "    </tr>\n",
       "    <tr>\n",
       "      <th>3</th>\n",
       "      <td>-8</td>\n",
       "      <td>9.559234</td>\n",
       "      <td>29122</td>\n",
       "    </tr>\n",
       "    <tr>\n",
       "      <th>4</th>\n",
       "      <td>-7</td>\n",
       "      <td>8.784171</td>\n",
       "      <td>22768</td>\n",
       "    </tr>\n",
       "    <tr>\n",
       "      <th>5</th>\n",
       "      <td>-6</td>\n",
       "      <td>9.334250</td>\n",
       "      <td>25825</td>\n",
       "    </tr>\n",
       "    <tr>\n",
       "      <th>6</th>\n",
       "      <td>-5</td>\n",
       "      <td>11.397893</td>\n",
       "      <td>28852</td>\n",
       "    </tr>\n",
       "    <tr>\n",
       "      <th>...</th>\n",
       "      <td>...</td>\n",
       "      <td>...</td>\n",
       "      <td>...</td>\n",
       "    </tr>\n",
       "    <tr>\n",
       "      <th>67</th>\n",
       "      <td>61</td>\n",
       "      <td>0.000000</td>\n",
       "      <td>6</td>\n",
       "    </tr>\n",
       "    <tr>\n",
       "      <th>68</th>\n",
       "      <td>67</td>\n",
       "      <td>5.921130</td>\n",
       "      <td>1027</td>\n",
       "    </tr>\n",
       "    <tr>\n",
       "      <th>69</th>\n",
       "      <td>68</td>\n",
       "      <td>12.338936</td>\n",
       "      <td>357</td>\n",
       "    </tr>\n",
       "    <tr>\n",
       "      <th>70</th>\n",
       "      <td>2005</td>\n",
       "      <td>8.835999</td>\n",
       "      <td>198486</td>\n",
       "    </tr>\n",
       "    <tr>\n",
       "      <th>71</th>\n",
       "      <td>2006</td>\n",
       "      <td>9.971658</td>\n",
       "      <td>212014</td>\n",
       "    </tr>\n",
       "    <tr>\n",
       "      <th>72</th>\n",
       "      <td>2007</td>\n",
       "      <td>11.764910</td>\n",
       "      <td>227934</td>\n",
       "    </tr>\n",
       "    <tr>\n",
       "      <th>73</th>\n",
       "      <td>2008</td>\n",
       "      <td>9.011341</td>\n",
       "      <td>208985</td>\n",
       "    </tr>\n",
       "  </tbody>\n",
       "</table>\n",
       "<p>74 rows × 3 columns</p>\n",
       "</div>"
      ],
      "text/plain": [
       "     Age   AvgDelay  NumFlights\n",
       "0    -11   6.086009        1744\n",
       "1    -10   8.742853       20463\n",
       "2     -9   7.500738       25081\n",
       "3     -8   9.559234       29122\n",
       "4     -7   8.784171       22768\n",
       "5     -6   9.334250       25825\n",
       "6     -5  11.397893       28852\n",
       "..   ...        ...         ...\n",
       "67    61   0.000000           6\n",
       "68    67   5.921130        1027\n",
       "69    68  12.338936         357\n",
       "70  2005   8.835999      198486\n",
       "71  2006   9.971658      212014\n",
       "72  2007  11.764910      227934\n",
       "73  2008   9.011341      208985\n",
       "\n",
       "[74 rows x 3 columns]"
      ]
     },
     "execution_count": 9,
     "metadata": {},
     "output_type": "execute_result"
    }
   ],
   "source": [
    "delay_by_age"
   ]
  },
  {
   "cell_type": "code",
   "execution_count": 10,
   "metadata": {
    "collapsed": false
   },
   "outputs": [
    {
     "data": {
      "text/plain": [
       "(8, 12)"
      ]
     },
     "execution_count": 10,
     "metadata": {},
     "output_type": "execute_result"
    },
    {
     "data": {
      "image/png": "[encoded data removed]",
      "text/plain": [
       "<matplotlib.figure.Figure at 0x7fd516e6b7f0>"
      ]
     },
     "metadata": {},
     "output_type": "display_data"
    }
   ],
   "source": [
    "# #all_ontime_data.ix[:, 'FlightNum': 'TaxiIn']\n",
    "# #old_planes_delayed.ix[ old_planes_delayed['DepDelay'] > 0 ].groupby('Age')['DepDelay'].count()\n",
    "# old_planes_delayed['DepDelay'] = pd.to_numeric(old_planes_delayed['DepDelay'], errors = 'coerce')\n",
    "\n",
    "# num_DepDelay_by_age = old_planes_delayed.ix[(old_planes_delayed['Age'] >= 0) & (old_planes_delayed['Age'] <= 200)\\\n",
    "#             & old_planes_delayed['DepDelay'] > 0 ].groupby('Age')[['DepDelay']].count()\n",
    "# num_DepDelay_by_age.columns = ['Number of Departure Delays']\n",
    "\n",
    "# num_Planes_by_age = old_planes_delayed.ix[(old_planes_delayed['Age'] >= 0) & (old_planes_delayed['Age'] <= 200)].groupby('Age')[['DepDelay']].count()\n",
    "# num_Planes_by_age.columns = ['Number of Planes']\n",
    "\n",
    "# likelihood_of_delays_by_age = num_DepDelay_by_age['Number of Departure Delays'] / num_Planes_by_age['Number of Planes']\n",
    "\n",
    "# with plt.style.context(\"ggplot\"):\n",
    "#     likelihood_of_delays_by_age.plot.line(figsize = (15,15))\n",
    "#     plt.ylabel('Likelihood of Planes Getting Delayed')\n",
    "\n",
    "\n",
    "delay_by_age.plot.scatter(\n",
    "    x=\"Age\", y=\"AvgDelay\", s=delay_by_age[\"NumFlights\"] / 1e4, alpha=.2)\n",
    "plt.xlim(-10, 40)\n",
    "plt.ylim(8, 12)"
   ]
  },
  {
   "cell_type": "markdown",
   "metadata": {
    "deletable": false,
    "nbgrader": {
     "checksum": "749b3c88dfcf15148ac176f428c12a00",
     "grade": true,
     "grade_id": "older_planes_response",
     "locked": false,
     "points": 35,
     "solution": true
    }
   },
   "source": [
    "Based on the slowly increasing trend in the graph above, it does seem like that as planes age, they are more likely to get delayed. However, for some reason at around age 40, planes are significantly less likely to get delayed. Less maintenance needed for that generation of airplanes?\n",
    "\n",
    "SOLUTION: There are many possible answers here. I wanted to show both the average flight delay and the number of flights of planes of each age. I plotted the average delay on the y-axis and used the size of the points to represent the number of flights. From this plot, we see weak evidence that older planes (more than 15 years old) may incur longer delays. (There were also planes more than 30 years old, but there were so few flights that the points are basically invisible on the plot.)\n",
    "There were a number of outliers in the data. Some planes had a negative age. This could be because the original plane was deregistered and then a newer plane was registered with the same N Number. Therefore, the tail number in ontime was joined to a newer plane that happened to have the same N Number. To verify this, you can look up the history of an N Number here.\n",
    "A few planes also had a YearMfr of 0, so the age was over 2000. It also made sense to exclude these obvious outliers.\n",
    "\n",
    "Common Mistakes:\n",
    "Plotting the YearMfr instead of Age. (-2 points)\n",
    "Not taking into account the obvious outliers (e.g., planes whose age is negative or greater than 2000). (-5 points)"
   ]
  },
  {
   "cell_type": "markdown",
   "metadata": {
    "deletable": false,
    "nbgrader": {
     "checksum": "2ec0511227d6bece7e9b61f1d2b256c7",
     "grade": false,
     "grade_id": "missing_question",
     "locked": true,
     "solution": false
    }
   },
   "source": [
    "## Question 5 (20 points)\n",
    "\n",
    "Let's think about the impact of missing data on your answer to Question 4. First, answer the following:\n",
    "\n",
    "- What percentage of planes in the `ontime` table were missing from the `planes` table?\n",
    "- What percentage of flights in the `ontime` table had planes that were missing from the `planes` table?\n",
    "\n",
    "(You should think carefully about the difference between these two questions.) Then, answer the following:\n",
    "\n",
    "- How could this missing data bias your conclusion about the relationship between the age of a plane and flight delays?"
   ]
  },
  {
   "cell_type": "code",
   "execution_count": 11,
   "metadata": {
    "collapsed": false
   },
   "outputs": [
    {
     "data": {
      "text/html": [
       "<div>\n",
       "<table border=\"1\" class=\"dataframe\">\n",
       "  <thead>\n",
       "    <tr style=\"text-align: right;\">\n",
       "      <th></th>\n",
       "      <th>COUNT(*)</th>\n",
       "    </tr>\n",
       "  </thead>\n",
       "  <tbody>\n",
       "    <tr>\n",
       "      <th>0</th>\n",
       "      <td>0.411623</td>\n",
       "    </tr>\n",
       "  </tbody>\n",
       "</table>\n",
       "</div>"
      ],
      "text/plain": [
       "   COUNT(*)\n",
       "0  0.411623"
      ]
     },
     "execution_count": 11,
     "metadata": {},
     "output_type": "execute_result"
    }
   ],
   "source": [
    "\n",
    "\n",
    "# num_planes_planestable = num_planes\n",
    "\n",
    "\n",
    "# #get number of unique planes also in ontime\n",
    "# num_planes_also_in_ontime = old_planes_delayed.groupby('TailNum').count().size\n",
    "\n",
    "# percent_of_planes_not_in_ontime = 1- (num_planes_also_in_ontime/num_planes_planestable.ix[0,0])\n",
    "\n",
    "# print(\"Percentage of planes in ontime table missing from planes table: \" + str(percent_of_planes_not_in_ontime))\n",
    "\n",
    "# calculate the number of planes in the ontime table that matched\n",
    "num_planes = pd.read_sql('''\n",
    "SELECT COUNT(*) FROM (\n",
    "SELECT\n",
    "  ontime.TailNum\n",
    "FROM ontime\n",
    "INNER JOIN planes\n",
    "ON ontime.TailNum = \"N\" || planes.NNumber\n",
    "GROUP BY ontime.TailNum)\n",
    "''', conn)\n",
    "\n",
    "# calculate the total number of planes in the ontime table\n",
    "num_planes_total = pd.read_sql('''\n",
    "SELECT COUNT(*) FROM (\n",
    "SELECT\n",
    "  ontime.TailNum\n",
    "FROM ontime\n",
    "GROUP BY ontime.TailNum)\n",
    "''', conn)\n",
    "\n",
    "# calculate the percent of planes missing\n",
    "1 - num_planes / num_planes_total"
   ]
  },
  {
   "cell_type": "code",
   "execution_count": 12,
   "metadata": {
    "collapsed": false
   },
   "outputs": [
    {
     "data": {
      "text/html": [
       "<div>\n",
       "<table border=\"1\" class=\"dataframe\">\n",
       "  <thead>\n",
       "    <tr style=\"text-align: right;\">\n",
       "      <th></th>\n",
       "      <th>NumFlights</th>\n",
       "    </tr>\n",
       "  </thead>\n",
       "  <tbody>\n",
       "    <tr>\n",
       "      <th>0</th>\n",
       "      <td>0.334893</td>\n",
       "    </tr>\n",
       "  </tbody>\n",
       "</table>\n",
       "</div>"
      ],
      "text/plain": [
       "   NumFlights\n",
       "0    0.334893"
      ]
     },
     "execution_count": 12,
     "metadata": {},
     "output_type": "execute_result"
    }
   ],
   "source": [
    "# # of flights != # of planes\n",
    "# #previously from #4, I created ontime table 'version 2'..flights where planes in ontime are also in planes table\n",
    "# #I already created planes in planes table.\n",
    "\n",
    "# #To get percentage of flights in ontime table that had planes that were missing from planes table:\n",
    "\n",
    "# # OVERALL: numplanes not in planes table / total num of flights(which is = to planes in PT + planes not in PT)\n",
    "\n",
    "# # must solve for planes not in PT\n",
    "\n",
    "# #have: num_flights, num_planes_planestable\n",
    "\n",
    "# num_planes_also_in_ontime = len(old_planes_delayed)\n",
    "\n",
    "# num_flights_w_flights_not_in_planestable = num_flights - num_planes_also_in_ontime\n",
    "# #num_planes_also_in_ontime in this case refers to the planes not in planes table\n",
    "# #num_planes_also_in_ontime is also # flights with planes in planes table\n",
    "\n",
    "# percent_of_flights_not_in_planestable = num_flights_w_flights_not_in_planestable/ (num_planes_also_in_ontime\\\n",
    "#                     +num_flights_w_flights_not_in_planestable)\n",
    "# percent_of_flights_not_in_planestable\n",
    "\n",
    "# we can get the number of flights matched from Question 4\n",
    "num_flights = delay_by_age[\"NumFlights\"].sum()\n",
    "\n",
    "# calculate the total number of flights in the ontime table\n",
    "num_flights_total = pd.read_sql('''\n",
    "SELECT COUNT(*) AS NumFlights FROM ontime\n",
    "''', conn)\n",
    "\n",
    "# calculate the percent of flights missing\n",
    "1 - num_flights / num_flights_total\n"
   ]
  },
  {
   "cell_type": "markdown",
   "metadata": {
    "deletable": false,
    "nbgrader": {
     "checksum": "93b639631865bb6398ac7fa81f75328c",
     "grade": true,
     "grade_id": "missing_response",
     "locked": false,
     "points": 20,
     "solution": true
    }
   },
   "source": [
    "Having missing data could bias my conclusion about the relationship between the age of plane and flight delays because the missing data destroys the plausibility of being able to see whether or not the numbers of delays will spike up or down at a certain age.\n",
    "\n",
    "SOLUTION: It looks like about 40% of planes in the ontime table could not be matched with the planes in the planes table. This represents 33% of flights in the ontime table. Note that your numbers may differ slightly (for example, if you chose to exclude the obvious outliers before doing this calculation), but your numbers should be in this general ballpark.\n",
    "\n",
    "With so much missing data, we have to be careful before making a strong conclusion about the relationship between plane age and flight delays. We are throwing out a third of our data! We would need to better understand the nature of this missing data to know if it biases out results. For example, if older planes with longer delays tended to be missing from the planes table, then this could skew our results."
   ]
  },
  {
   "cell_type": "markdown",
   "metadata": {},
   "source": [
    "## Submitting this Lab\n",
    "\n",
    "Now, restart your kernel and re-run your entire notebook from beginning to end. Make sure there are no errors or bugs. When you have verified this, open the Terminal on JupyterHub and type \n",
    "\n",
    "`nbgrader submit Lab-04-26 --course dlsun`\n",
    "\n",
    "to submit this lab."
   ]
  }
 ],
 "metadata": {
  "kernelspec": {
   "display_name": "Python 3",
   "language": "python",
   "name": "python3"
  },
  "language_info": {
   "codemirror_mode": {
    "name": "ipython",
    "version": 3
   },
   "file_extension": ".py",
   "mimetype": "text/x-python",
   "name": "python",
   "nbconvert_exporter": "python",
   "pygments_lexer": "ipython3",
   "version": "3.4.3"
  }
 },
 "nbformat": 4,
 "nbformat_minor": 0
}
