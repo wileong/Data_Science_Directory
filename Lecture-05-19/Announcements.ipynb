{
 "cells": [
  {
   "cell_type": "markdown",
   "metadata": {},
   "source": [
    "# Announcements\n",
    "\n",
    "## Thursday, May 19"
   ]
  },
  {
   "cell_type": "markdown",
   "metadata": {},
   "source": [
    "## Reading\n",
    "\n",
    "Part V on Learning from Data (Ch 17-20) of Python for data science for dummies\n",
    "\n",
    "Covers lin regression, polynomial features, cross validation , k nearest neighbors, decision trees, etc.\n",
    "\n",
    "read as much or as little as you like\n"
   ]
  },
  {
   "cell_type": "markdown",
   "metadata": {},
   "source": [
    "## Final Project\n",
    "- I've uploaded the [Panama Papers](https://panamapapers.icij.org/) data set to `/data/panama/` in case you want to work with this data for your final project.\n",
    "- You can upload small data sets yourself using the \"Upload\" button on JupyterHub. For large-ish data sets (> 100 MB), please send me a link, and I'll upload the data for you."
   ]
  },
  {
   "cell_type": "code",
   "execution_count": null,
   "metadata": {
    "collapsed": true
   },
   "outputs": [],
   "source": []
  }
 ],
 "metadata": {
  "kernelspec": {
   "display_name": "Python 3",
   "language": "python",
   "name": "python3"
  },
  "language_info": {
   "codemirror_mode": {
    "name": "ipython",
    "version": 3
   },
   "file_extension": ".py",
   "mimetype": "text/x-python",
   "name": "python",
   "nbconvert_exporter": "python",
   "pygments_lexer": "ipython3",
   "version": "3.4.3"
  }
 },
 "nbformat": 4,
 "nbformat_minor": 0
}
