{
 "cells": [
  {
   "cell_type": "markdown",
   "metadata": {},
   "source": [
    "# Announcements\n",
    "## Thurs, April 21"
   ]
  },
  {
   "cell_type": "markdown",
   "metadata": {},
   "source": [
    "## Today's Lecture\n",
    "\n",
    "Analyzing big data using SQL databases; integration with Python + Pandas\n",
    "\n",
    "## No Lab Assigned Today, Will Be Assigned Tuesday \n",
    "\n",
    "To give you a chance to get caught up and to study for your In-Class Project 1 on Tuesday, the lab corresponding to today's material will be released next Tuesday. As is usual, it will be due the following Tuesday.\n",
    "\n",
    "## In-Class Project 1\n",
    "\n",
    "The first in-class project will be on Tuesday. Don't stress too much about this. If you feel like you have a good understanding of the lectures and labs, you will do fine.\n",
    "\n",
    "One tip: if you don't know of a clever Pandas way to do something, just write a hacky solution, like using a \"for\" loop. A clunky working solution is better than no solution at all!\n",
    "\n",
    "**Note**: vectorization > for loop > writing the cases out manually"
   ]
  },
  {
   "cell_type": "markdown",
   "metadata": {},
   "source": [
    "## Graded Labs\n",
    "\n",
    "Your graded labs have been returned as HTML files to your Lab-XX-XX directory on Jupyter Hub. If you open up the HTML file in Jupyter Hub, you will see the raw HTML source. To view the HTML file, change the URL, replacing \"edit\" with \"files\".\n",
    "\n",
    "## Lab Solutions\n",
    "\n",
    "Solutions to labs have been and will be posted to Piazza under Resources."
   ]
  }
 ],
 "metadata": {
  "kernelspec": {
   "display_name": "Python 3",
   "language": "python",
   "name": "python3"
  },
  "language_info": {
   "codemirror_mode": {
    "name": "ipython",
    "version": 3
   },
   "file_extension": ".py",
   "mimetype": "text/x-python",
   "name": "python",
   "nbconvert_exporter": "python",
   "pygments_lexer": "ipython3",
   "version": "3.4.3"
  }
 },
 "nbformat": 4,
 "nbformat_minor": 0
}
