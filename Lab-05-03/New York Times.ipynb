{
 "cells": [
  {
   "cell_type": "markdown",
   "metadata": {},
   "source": [
    "# New York Times\n",
    "## Due Tuesday, May 10 at 8 AM\n",
    "\n",
    "This lab will give you experience working with a RESTful API which returns data in JSON format. We will be working with data from The New York Times' Article Search API. The first step is to register for an API key [here](http://developer.nytimes.com/page). You will need to pass this API key every time you issue a request.\n",
    "\n",
    "You will need a partner for the last portion of this assignment. You will write data science questions for each other to answer!\n",
    "\n",
    "#careful: don't run queries too many times; don't wait the night before it's due!"
   ]
  },
  {
   "cell_type": "markdown",
   "metadata": {
    "deletable": false,
    "nbgrader": {
     "checksum": "60dcb723395af9f87f7081a36574cb41",
     "grade": false,
     "grade_id": "slo_question",
     "locked": true,
     "solution": false
    }
   },
   "source": [
    "## Question 1 (20 points)\n",
    "\n",
    "Fetch the 10 most recent New York Times articles that mention \"San Luis Obispo\". Display the date of the article, the news desk (e.g., Sports, Travel, Leisure, etc.), and the snippet (a sentence summarizing the article). You may display this information in a Pandas DataFrame or in any other way you see fit."
   ]
  },
  {
   "cell_type": "code",
   "execution_count": 1,
   "metadata": {
    "collapsed": false,
    "deletable": false,
    "nbgrader": {
     "checksum": "f5b8fdfea75f84ed55662d1b2bd315ac",
     "grade": true,
     "grade_id": "slo_response",
     "locked": false,
     "points": 20,
     "solution": true
    }
   },
   "outputs": [
    {
     "name": "stdout",
     "output_type": "stream",
     "text": [
      "publication date: 2016-05-06T00:00:00Z\n",
      "news desk: Business\n",
      "snippet: The company will pare its presence in its electric vehicle charging business, and its home solar division will sell future customer agreements it originates to two partners.\n",
      " \n",
      "publication date: 2016-05-01T05:43:37Z\n",
      "news desk: None\n",
      "snippet: When Carly Fiorina spoke at the California Republican Party convention at a hotel outside San Francisco airport, it was a brief homecoming of sorts for the newly minted vice presidential candidate.\n",
      " \n",
      "publication date: 2016-04-30T12:09:30Z\n",
      "news desk: None\n",
      "snippet: When Carly Fiorina spoke at the California Republican Party convention at a hotel outside San Francisco airport Saturday night, it was a brief homecoming of sorts for the newly minted vice presidential candidate.\n",
      " \n",
      "publication date: 2016-04-07T20:02:32Z\n",
      "news desk: None\n",
      "snippet: Los Angeles County's decision to put a cross to its county seal for the first time in a decade was unconstitutional, a federal judge ruled.\n",
      " \n",
      "publication date: 2016-04-01T13:23:47Z\n",
      "news desk: None\n",
      "snippet: Tufts coach Carla Berube says Geno Auriemma would recognize a lot of the things she does in practice with her Jumbos.\n",
      " \n",
      "publication date: 2016-03-29T00:00:00Z\n",
      "news desk: Summary\n",
      "snippet: Corrections appearing in print on Tuesday, March 29, 2016.\n",
      " \n",
      "publication date: 2016-03-27T00:00:00Z\n",
      "news desk: National\n",
      "snippet: Mr. Ebeling, who lobbied alongside his colleagues for the postponement of the shuttle’s launch, carried the burden of the disaster throughout his life.\n",
      " \n",
      "publication date: 2016-03-11T00:00:00Z\n",
      "news desk: Weekend\n",
      "snippet: None\n",
      " \n",
      "publication date: 2016-02-09T18:05:11Z\n",
      "news desk: None\n",
      "snippet: When Toyota Motor looked to the future at the turn of the millennium and aimed its new, edgy Scion small-car brand at twenty-somethings, it could not have guessed that the model would be dead after just 12 years.\n",
      " \n",
      "publication date: 2016-02-01T00:00:00Z\n",
      "news desk: Business\n",
      "snippet: Microsoft sank a data center on the ocean floor, where the sea water acts as a coolant, and plans to use the waves to power it. The results were encouraging enough to try a bigger version.\n",
      " \n"
     ]
    }
   ],
   "source": [
    "# YOUR CODE HERE\n",
    "#keywords: q, page, api-key\n",
    "#API-key: b60ca6eefa69ee3ed64a56eac852d24b:4:75179533\n",
    "#San+Luis+Obispo\n",
    "\n",
    "# use 'sample-key'?\n",
    "\n",
    "url = \"https://api.nytimes.com/svc/search/v2/articlesearch.json?api-key=b60ca6eefa69ee3ed64a56eac852d24b:4:75179533&q=San+Luis+Obispo&page=0&sort=newest\"\n",
    "\n",
    "\n",
    "import requests\n",
    "out = requests.get(url)\n",
    "\n",
    "data = out.json()\n",
    "#data['response']\n",
    "#data['response']['docs']\n",
    "\n",
    "\n",
    "for articleIDDict in data['response']['docs']:\n",
    "\n",
    "    \n",
    "    print(\"publication date: \" + str(articleIDDict['pub_date']) )\n",
    "    print(\"news desk: \" + str(articleIDDict['news_desk']) )\n",
    "    print(\"snippet: \" + str(articleIDDict['snippet']) )\n",
    "    print(\" \")\n",
    "\n"
   ]
  },
  {
   "cell_type": "markdown",
   "metadata": {
    "deletable": false,
    "nbgrader": {
     "checksum": "13bb1157b7d20fae64a0c51973d6bc2d",
     "grade": false,
     "grade_id": "trump_question",
     "locked": true,
     "solution": false
    }
   },
   "source": [
    "## Question 2 (20 points)\n",
    "\n",
    "What is the longest article (by word count) that mentions \"Donald Trump\"? (Be careful: each query returns only 10 results at a time. You will need to iterate over values of the `page` keyword.) Take a look at this article by going to its `web_url`. Does it make sense that this is the longest article? Explain why or why not."
   ]
  },
  {
   "cell_type": "code",
   "execution_count": 2,
   "metadata": {
    "collapsed": false
   },
   "outputs": [
    {
     "name": "stdout",
     "output_type": "stream",
     "text": [
      " \n",
      "Longest Article Word Count: 7575\n",
      "Web URL with longest word count: http://takingnote.blogs.nytimes.com/2016/03/22/political-substance-abuse-donald-trumps-washington-press-conference/\n"
     ]
    }
   ],
   "source": [
    "page_num = 0\n",
    "longest_article_web_url = \"\"\n",
    "longest_article_count = 0\n",
    "\n",
    "while(page_num <= 100):\n",
    "    \n",
    "    url2 = \"https://api.nytimes.com/svc/search/v2/articlesearch.json?api-key=b60ca6eefa69ee3ed64a56eac852d24b:4:75179533&q=Donald+Trump&page=\" + str(page_num)\n",
    "    out2 = requests.get(url2)\n",
    "    data2 = out2.json()\n",
    "    \n",
    "    for articleIDDict in data2['response']['docs']:\n",
    "\n",
    "        if articleIDDict['word_count'] == None:\n",
    "            articleIDDict['word_count'] = \"0\"\n",
    "    \n",
    "        if int(articleIDDict['word_count']) > longest_article_count:\n",
    "            longest_article_count = int(articleIDDict['word_count'])\n",
    "            longest_article_web_url = articleIDDict['web_url']\n",
    "    \n",
    "        page_num += 1\n",
    "\n",
    "      \n",
    "print(\" \")\n",
    "print(\"Longest Article Word Count: \" + str(longest_article_count) )\n",
    "print(\"Web URL with longest word count: \" + longest_article_web_url )\n"
   ]
  },
  {
   "cell_type": "markdown",
   "metadata": {
    "deletable": false,
    "nbgrader": {
     "checksum": "470cb8f168247e472706e8a1b63b9a08",
     "grade": true,
     "grade_id": "trump_response",
     "locked": false,
     "points": 20,
     "solution": true
    }
   },
   "source": [
    "This doesn't make sense as the longest article because I have seen a New York Times speech transcript that was much longer than this, when I sorted by the most recent articles that was about Trump. Also, since the query request limit is rather low, it is likely that there are other articles stored in the database that are even longer."
   ]
  },
  {
   "cell_type": "markdown",
   "metadata": {
    "nbgrader": {
     "grade": false,
     "locked": false,
     "solution": false
    }
   },
   "source": [
    "## Question 3 (30 points)\n",
    "\n",
    "Find something else interesting in the New York Times article data. Then, pose your finding as a question and give it to your partner to answer. You will be graded on how interesting your finding is, as well as on how well you state your question.\n",
    "\n",
    "(In the space below, you should do the analysis, summarize the findings, **and** state the question.)"
   ]
  },
  {
   "cell_type": "code",
   "execution_count": 3,
   "metadata": {
    "collapsed": false
   },
   "outputs": [
    {
     "name": "stdout",
     "output_type": "stream",
     "text": [
      "keyword: Pakistan ; keyword count: 314\n"
     ]
    }
   ],
   "source": [
    "#data3a['response']['docs'][3]['keywords'][0]['value']\n",
    "#       [num before keywords in the index of articleid]....[list size(dicts) can vary at keywords],[index of dict]              \n",
    "#data3a['response']['docs'][2]['keywords'] #possible to return an empty list at keywords\n",
    "#data3a['response']['docs']\n",
    "page_num = 0\n",
    "keywords_dict = {}\n",
    "#keywords_dict['no_keywords'] = 0\n",
    "no_keywords_count = 0\n",
    "most_freq_keyword_count = 0 #global var\n",
    "most_popular_keyword = \"\"\n",
    "\n",
    "while(page_num <= 49):\n",
    "\n",
    "    url3 = \"https://api.nytimes.com/svc/search/v2/articlesearch.json?api-key=b60ca6eefa69ee3ed64a56eac852d24b:4:75179533\\\n",
    "&q=salman+khan&sort=newest&page=\" + str(page_num)\n",
    "    out3 = requests.get(url3)\n",
    "    data3 = out3.json()\n",
    "    \n",
    "    for article in data3['response']['docs']:\n",
    "    \n",
    "        list_of_dict_keywords = article['keywords']\n",
    "    \n",
    "        if list_of_dict_keywords == []:\n",
    "            #keywords_dict['no_keywords']+=1\n",
    "            no_keywords_count+=1\n",
    "        else:\n",
    "            for keyword_dict in list_of_dict_keywords:\n",
    "                #print(keyword_dict)\n",
    "                if keyword_dict['value'] not in keywords_dict:\n",
    "                    keywords_dict[keyword_dict['value']] = 1\n",
    "                else:\n",
    "                    keywords_dict[keyword_dict['value']]+=1\n",
    "                \n",
    "                    if keywords_dict[keyword_dict['value']] > most_freq_keyword_count:\n",
    "                        most_freq_keyword_count = keywords_dict[keyword_dict['value']]\n",
    "                        most_popular_keyword = keyword_dict['value']\n",
    "                        \n",
    "    page_num+=1\n",
    "\n",
    "        \n",
    "    \n",
    "#keywords_dict            \n",
    "print(\"keyword: \" + most_popular_keyword + \" ; keyword count: \" + str(most_freq_keyword_count)  )\n",
    "        \n",
    "        "
   ]
  },
  {
   "cell_type": "markdown",
   "metadata": {
    "deletable": false,
    "nbgrader": {
     "checksum": "5046561d1a95ff2af7bcd1fea612496e",
     "grade": true,
     "grade_id": "own_response",
     "locked": false,
     "points": 30,
     "solution": true
    }
   },
   "source": [
    "5/9/2016: While searching for the most frequent keyword associated with Salman Khan, the founder of the Khan Academy, what really surprised me was that the country Pakistan was the keyword most frequently associated with \"Salman Khan\" (not including the detail he is the one related to Khan Academy). I expected Salman Khan to be the most frequently associated with keywords that were closely related to Education, such as 'Khan Academy' or 'Online Learning'.\n",
    "\n",
    "Question: What is the keyword most commonly associated with Salman Khan, the founder of Khan Academy, over the most recent 500 New York Times articles?"
   ]
  },
  {
   "cell_type": "markdown",
   "metadata": {
    "nbgrader": {
     "grade": false,
     "locked": false,
     "solution": false
    }
   },
   "source": [
    "## Question 4 (20 points)\n",
    "\n",
    "In the space below, write down the question that was posed to you by your partner. Then do the analysis that answers that question and summarize your findings."
   ]
  },
  {
   "cell_type": "code",
   "execution_count": 4,
   "metadata": {
    "collapsed": false
   },
   "outputs": [
    {
     "name": "stdout",
     "output_type": "stream",
     "text": [
      "Proportion of coverage for Hillary Clinton: 0.3211125158027813\n",
      " \n",
      "Proportion of coverage for Bernard Sanders: 0.26548672566371684\n",
      " \n",
      "Proportion of coverage for Donald Trump: 0.5461441213653603\n",
      " \n",
      "Proportion of coverage for Ted Cruz: 0.27054361567635904\n",
      " \n",
      "Proportion of coverage for John Kasich: 0.13780025284450062\n"
     ]
    }
   ],
   "source": [
    "#data4['response']['docs'][3]['keywords'] # possible for empty list\n",
    "#data4['response']['docs'][3]['keywords'][3]['value'] # get presidential election 2016\n",
    "#values keywords: ['Clinton, Hillary Rodham', 'Trump, Donald J', 'Sanders, Bernard', 'Kasich, John R', 'Cruz, Ted'  ]\n",
    "\n",
    "page_num = 0\n",
    "no_keywords_count = 0\n",
    "keywords_dict = {}\n",
    "nominee_proportions = {}\n",
    "\n",
    "while(page_num <= 100):\n",
    "\n",
    "    url4 = \"https://api.nytimes.com/svc/search/v2/articlesearch.json?api-key=b60ca6eefa69ee3ed64a56eac852d24b:4:75179533\\\n",
    "&fq=news_desk:Politics&sort=newest&page=\" + str(page_num)\n",
    "    out4 = requests.get(url4)\n",
    "    data4 = out4.json()\n",
    "    \n",
    "    for article in data4['response']['docs']:\n",
    "    \n",
    "        list_of_dict_keywords = article['keywords']\n",
    "    \n",
    "        if list_of_dict_keywords == []:\n",
    "            no_keywords_count+=1\n",
    "        else:\n",
    "            for keyword_dict in list_of_dict_keywords:\n",
    "          \n",
    "                if keyword_dict['value'] not in keywords_dict:\n",
    "                    keywords_dict[keyword_dict['value']] = 1\n",
    "                else:\n",
    "                    keywords_dict[keyword_dict['value']]+=1\n",
    "                \n",
    "    page_num += 1\n",
    "            \n",
    "                \n",
    "nominee_proportions[\"Hillary Clinton\"] = keywords_dict['Clinton, Hillary Rodham']/keywords_dict['Presidential Election of 2016']\n",
    "nominee_proportions[\"Bernard Sanders\"] = keywords_dict['Sanders, Bernard']/keywords_dict['Presidential Election of 2016']\n",
    "nominee_proportions[\"Donald Trump\"] = keywords_dict['Trump, Donald J']/keywords_dict['Presidential Election of 2016']\n",
    "nominee_proportions[\"Ted Cruz\"] = keywords_dict['Cruz, Ted']/keywords_dict['Presidential Election of 2016']\n",
    "nominee_proportions[\"John Kasich\"] = keywords_dict['Kasich, John R']/keywords_dict['Presidential Election of 2016']\n",
    "\n",
    "print(\"Proportion of coverage for Hillary Clinton: \" + str(nominee_proportions[\"Hillary Clinton\"]) )\n",
    "print(\" \")\n",
    "print(\"Proportion of coverage for Bernard Sanders: \" + str(nominee_proportions[\"Bernard Sanders\"]) )\n",
    "print(\" \")\n",
    "print(\"Proportion of coverage for Donald Trump: \" + str(nominee_proportions[\"Donald Trump\"]) )\n",
    "print(\" \")\n",
    "print(\"Proportion of coverage for Ted Cruz: \" + str(nominee_proportions[\"Ted Cruz\"]) )\n",
    "print(\" \")\n",
    "print(\"Proportion of coverage for John Kasich: \" + str(nominee_proportions[\"John Kasich\"]) )"
   ]
  },
  {
   "cell_type": "markdown",
   "metadata": {
    "deletable": false,
    "nbgrader": {
     "checksum": "34827bcbb1899ae52f6f0fe39ec1420d",
     "grade": true,
     "grade_id": "peer_response",
     "locked": false,
     "points": 30,
     "solution": true
    }
   },
   "source": [
    "Fetch the 1010 most recent articles under the news desk \"Politics\". Then find the proportion of coverage each nominee gets out of all \"Presidential Election of 2016\" articles. (You only want to analyze \"Politics\" news desk articles that contains the keyword about the 2016 Presidential Election.) A candidate is \"covered\" if he or she is a keyword in the article. The nominees to be analyzed are Hillary Clinton, Bernie Sanders, Donald Trump, Ted Cruz, and John Kasich. Do these candidates seems to have equal coverage? Are there any outliers?\n",
    "\n",
    "These candidates do not seem to have equal coverage at all because of how high the proportion of coverage for Hillary Clinton and Donald Trump are compared to the other three candidates. It is not surprising that Trump appeared in large majority of New York Times articles because of how outspoken and controversial he has been. The proportion of coverage for Kasich seemed spot on about his popularity. I definitely have not heard of him until now. However, I am surprised that Sanders got little coverage from New York Times because from my point of view, Sanders definitely has a lot of coverage on social media."
   ]
  },
  {
   "cell_type": "code",
   "execution_count": null,
   "metadata": {
    "collapsed": true
   },
   "outputs": [],
   "source": []
  }
 ],
 "metadata": {
  "kernelspec": {
   "display_name": "Python 3",
   "language": "python",
   "name": "python3"
  },
  "language_info": {
   "codemirror_mode": {
    "name": "ipython",
    "version": 3
   },
   "file_extension": ".py",
   "mimetype": "text/x-python",
   "name": "python",
   "nbconvert_exporter": "python",
   "pygments_lexer": "ipython3",
   "version": "3.4.3"
  }
 },
 "nbformat": 4,
 "nbformat_minor": 0
}
