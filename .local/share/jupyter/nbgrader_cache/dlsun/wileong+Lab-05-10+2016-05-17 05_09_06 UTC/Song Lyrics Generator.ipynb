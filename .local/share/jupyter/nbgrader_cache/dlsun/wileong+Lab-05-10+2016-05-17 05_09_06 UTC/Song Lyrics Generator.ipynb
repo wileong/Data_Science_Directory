{
 "cells": [
  {
   "cell_type": "markdown",
   "metadata": {},
   "source": [
    "# Song Lyrics Generator\n",
    "## Due Tuesday, May 17 at 8 AM\n",
    "\n",
    "In this lab, you will scrape the web to get lyrics from your favorite artist. Then, you will train a Markov Chain model on these lyrics. Finally, you will use your Markov chain to generate new (random) lyrics."
   ]
  },
  {
   "cell_type": "markdown",
   "metadata": {
    "deletable": false,
    "nbgrader": {
     "checksum": "8df71135a614086706cabada8726e93c",
     "grade": false,
     "grade_id": "scraping_question",
     "locked": true,
     "solution": false
    }
   },
   "source": [
    "## Question 1: Web Scraping (40 points)\n",
    "\n",
    "Find a website that has lyrics for all the songs by your favorite artists. Then scrape the lyrics into a Python list called `lyrics`, where each element of the list represents the lyrics of one song.\n",
    "\n",
    "Tips:\n",
    "- Find a webpage that has links to all the songs, like [this one](http://www.azlyrics.com/n/nirvana.html). [NOTE: It seems like azlyrics.com does not allow you to scrape their webpages, so you'll have to find another source.] Then, you can write code to visit all the links and scrape each page one by one.\n",
    "- Make sure you use time.sleep(0.1) to stagger your requests so that you do not get banned by the website for making too many requests.\n",
    "\n"
   ]
  },
  {
   "cell_type": "code",
   "execution_count": null,
   "metadata": {
    "collapsed": false,
    "deletable": false,
    "nbgrader": {
     "checksum": "8b0f1f3431f049e55c81b3212fffbd67",
     "grade": true,
     "grade_id": "scraping_code",
     "locked": false,
     "points": 40,
     "solution": true
    }
   },
   "outputs": [],
   "source": [
    "import requests\n",
    "import time\n",
    "from bs4 import BeautifulSoup\n",
    "import bs4\n",
    "\n",
    "lyrics = []\n",
    "\n",
    "# <table class = ..>\n",
    "    #<tbody>\n",
    "        #for all <tr> tag\n",
    "            # array of <td>[1] //second td tag in list\n",
    "                    \n",
    "                #access a tag\n",
    "                    #hyper link = arr of <td>[1]['href'] // to get the hyperlink of song lyrics\n",
    "                    #go to hyperlink and parse the html\n",
    "                \n",
    "                    #<sd-lyricbody\n",
    "                        #<div class = \"...\">\n",
    "                            #<div id = \"lyrics-body-text\"\n",
    "                                #find all p-class =\"verse\"\n",
    "                                    #for each verse p tag\n",
    "                                        #add pverse.string to temp variable to hold string of lyrics for single song\n",
    "                                        #append string of lyrics to list of lyrics\n",
    "                        \n",
    "\n",
    "page = requests.get(\"http://www.metrolyrics.com/green-day-alpage-1.html\")\n",
    "time.sleep(0.1)\n",
    "source = BeautifulSoup(page.text, \"html.parser\")\n",
    "\n",
    "canStillRun = True\n",
    "\n",
    "while(canStillRun == True):\n",
    "\n",
    "    #print(source.find(\"a\", class_= \"button next disabled\") == None)\n",
    "\n",
    "    table_class = source.find(\"table\", class_= \"songs-table compact\")\n",
    "    #print( table_class != None)\n",
    "\n",
    "    t_body = table_class.find(\"tbody\")\n",
    "    tr_s = t_body.find_all(\"tr\") #returns a list of trs that contain link to other page (links to lyrics of songs)\n",
    "\n",
    "    for tr in tr_s: #for each song.. on page x...\n",
    "        \n",
    "        list_of_tds = tr.find_all(\"td\")\n",
    "        \n",
    "        \n",
    "        atag_under_tds_list = list_of_tds[1].find('a')\n",
    "\n",
    "        href_hyperlink = atag_under_tds_list['href']\n",
    "\n",
    "        #go to link to lyrics\n",
    "        lyric_page = requests.get(href_hyperlink)\n",
    "        time.sleep(0.1)\n",
    "        lyric_source = BeautifulSoup(lyric_page.text, \"html.parser\")\n",
    "       \n",
    "        div_id_lyrics_body = lyric_source.find('div', class_ = \"js-lyric-text\")\n",
    "\n",
    "        tmp_lyrics_singlesong = \"\"\n",
    "\n",
    "        verses_list = div_id_lyrics_body.find_all('p')\n",
    "\n",
    "        for verse_tag in verses_list:\n",
    "    \n",
    "            verse_filtered = str(verse_tag).replace(\"<p class=\\\"verse\\\">\", \"\" ).replace('<br>', \"\").replace(\"</br>\", \"\").replace(\"\\n\", \" \").replace(\"</p>\", \"\\n\\n\")\n",
    "            tmp_lyrics_singlesong += verse_filtered\n",
    "    \n",
    "        lyrics.append(tmp_lyrics_singlesong)\n",
    "\n",
    "    #After done adding lyrics of each song to main list, advance to next page\n",
    "    \n",
    "    #if next button is disabled, break out of loop\n",
    "    \n",
    "    if(source.find(\"a\", class_= \"button next disabled\") == None):\n",
    "        \n",
    "        a_tag_toNextPage = source.find(\"a\", class_= \"button next\")\n",
    "        href_hyperlink = a_tag_toNextPage['href']\n",
    "        \n",
    "        page = requests.get(href_hyperlink)\n",
    "        time.sleep(0.1)\n",
    "        source = BeautifulSoup(page.text, \"html.parser\")\n",
    "    else:\n",
    "        \n",
    "        canStillRun = False\n",
    "\n",
    "\n",
    "\n",
    "    \n",
    "    \n",
    "    "
   ]
  },
  {
   "cell_type": "code",
   "execution_count": null,
   "metadata": {
    "collapsed": false,
    "deletable": false,
    "nbgrader": {
     "checksum": "fc30426e397a9a8fd5e5386ba96c683d",
     "grade": false,
     "grade_id": "scraping_run",
     "locked": true,
     "solution": false
    }
   },
   "outputs": [],
   "source": [
    "print(lyrics[0])"
   ]
  },
  {
   "cell_type": "markdown",
   "metadata": {
    "deletable": false,
    "nbgrader": {
     "checksum": "4b8fe5616cb00080761bc16bef2ca080",
     "grade": false,
     "grade_id": "markov_question",
     "locked": true,
     "solution": false
    }
   },
   "source": [
    "## Question 2: Training a Markov Chain (30 points)\n",
    "\n",
    "Markov chains are mathematical systems that hop (a.k.a. \"transition\") randomly between various states. Please read [this visual explanation](http://setosa.io/ev/markov-chains/) for a high-level overview. The distinguishing feature of a Markov chain is that the next state only depends on which state the chain is in now; it doesn't depend on the past history of the chain.\n",
    "\n",
    "We can use Markov chains to model human language. Each word is a \"state\", and the next word in a sentence only depends on the current word, not any words that came before. This model makes sense because if we know that the current word is \"it\", the next word is very likely to be \"is\", less likely to be \"runs\", and never going to be \"pineapple\". On the other hand, if the current word is \"the\", then the next word might be \"pineapple\", but it can't be \"is\". The current word tells us a lot about what the next word might be.\n",
    "\n",
    "We will build a Markov chain model for the artist whose lyrics you scraped in Question 1. To do this, we have to go through the lyrics and learn the word transitions for that artist. We will store this information in a dict called `transitions`, which maps each word to a list of words that appear after it in the training data. So for example, one entry of this dict might be\n",
    "\n",
    "```\n",
    "transitions = {\n",
    "    \"it\": [\"is\", \"runs\", \"is\", \"is\", \"was\", \"is\", \"was\"],\n",
    "    ...\n",
    "}\n",
    "```\n",
    "\n",
    "You should include a few additional states, besides words, in your Markov chain. You should have `\"<START>\"` and `\"<END>\"` states so that we can keep track of what words songs are likely to begin and end on.  So if the song starts on the word \"it\" and ends with the word \"me.\", you would have \n",
    "```\n",
    "transitions = {\n",
    "    \"<START>\": [\"it\", ...],\n",
    "    \"me.\": [\"<END>\", ...],\n",
    "    ...\n",
    "}\n",
    "```\n",
    "You should also include a state called `\"<N>\"` to denote line breaks so that we know where lines begin and end."
   ]
  },
  {
   "cell_type": "code",
   "execution_count": null,
   "metadata": {
    "collapsed": false,
    "deletable": false,
    "nbgrader": {
     "checksum": "e9a1dd283b5141896f6486e5e5657744",
     "grade": true,
     "grade_id": "markov_code",
     "locked": false,
     "points": 30,
     "solution": true
    }
   },
   "outputs": [],
   "source": [
    "def rreplace(s, old, new, occurrence): #works on a string, not list; replaces last n occurences of old instance with new\n",
    "    li = s.rsplit(old, occurrence)\n",
    "    return new.join(li)\n",
    "\n",
    "def train_markov_chain(lyrics):\n",
    "    transitions = {\"<START>\": []}\n",
    "    \n",
    "    for lyric in lyrics:\n",
    "        \n",
    "        string1 = lyric.replace(\"\\n\\n\", \" <N> \")\n",
    "        string1b = rreplace(string1, \"<N>\", \"\", 1)\n",
    "\n",
    "        string2 = \"<START> \" + string1b + \"<END>\"\n",
    "        string3 = string2.split(\" \") #each song lyrics are broken up into a list of words.\n",
    "        string3.remove(\"\")\n",
    "\n",
    "\n",
    "        index = 0 # for list of words\n",
    "\n",
    "        for word in string3:\n",
    "\n",
    "            #print(word)\n",
    "\n",
    "            if word not in transitions:\n",
    "\n",
    "                transitions[word] = []\n",
    "                if index + 1 < len(string3):\n",
    "\n",
    "                    transitions[word].append(string3[index+1])\n",
    "            else:\n",
    "\n",
    "                if index + 1 < len(string3):\n",
    "\n",
    "                    transitions[word].append(string3[index+1])\n",
    "\n",
    "            index += 1\n",
    "    \n",
    "    #print(string3)\n",
    "    return transitions\n",
    "\n",
    "transitions = {}\n",
    "\n",
    "\n",
    "    \n",
    "for lyric in lyrics:\n",
    "        \n",
    "    string1 = lyric.replace(\"\\n\\n\", \" <N> \")\n",
    "    string1b = rreplace(string1, \"<N>\", \"\", 1)\n",
    "    \n",
    "    string2 = \"<START> \" + string1b + \"<END>\"\n",
    "    string3 = string2.split(\" \") #each song lyrics are broken up into a list of words.\n",
    "    string3.remove(\"\")\n",
    "    \n",
    "    \n",
    "    index = 0 # for list of words\n",
    "    \n",
    "    for word in string3:\n",
    "        \n",
    "        #print(word)\n",
    "        \n",
    "        if word not in transitions:\n",
    "            \n",
    "            transitions[word] = []\n",
    "            if index + 1 < len(string3):\n",
    "\n",
    "                transitions[word].append(string3[index+1])\n",
    "        else:\n",
    "            \n",
    "            if index + 1 < len(string3):\n",
    "\n",
    "                transitions[word].append(string3[index+1])\n",
    "            \n",
    "        index += 1\n",
    "    \n",
    "    #print(string3)\n",
    "transitions\n",
    "\n",
    " "
   ]
  },
  {
   "cell_type": "code",
   "execution_count": null,
   "metadata": {
    "collapsed": false,
    "deletable": false,
    "nbgrader": {
     "checksum": "758a29bdb5b7a2a46121de8b5a64575d",
     "grade": false,
     "grade_id": "markov_run",
     "locked": true,
     "solution": false
    }
   },
   "outputs": [],
   "source": [
    "chain = train_markov_chain(lyrics)\n",
    "print(chain[\"<START>\"][:20])\n",
    "print(chain[\"<N>\"][:20])"
   ]
  },
  {
   "cell_type": "markdown",
   "metadata": {
    "deletable": false,
    "nbgrader": {
     "checksum": "4217ea6dbe3e892653c1f624dc5a77dc",
     "grade": false,
     "grade_id": "random_question",
     "locked": true,
     "solution": false
    }
   },
   "source": [
    "## Question 3: Generating New Lyrics (20 points)\n",
    "\n",
    "Finally, let's generate new lyrics using the Markov chain you constructed in Question 2. To do this, we'll begin at the `\"<START>\"` state and randomly sample a word from the list of first words. Then, we'll randomly sample each next word from the list of words that appeared after the current word in the training data. We will continue this until we reach the `\"<END>\"` state. This will give us the complete lyrics of a randomly generated song!\n",
    "\n",
    "You may find the `choice()` function in the `random` package helpful for this question."
   ]
  },
  {
   "cell_type": "code",
   "execution_count": null,
   "metadata": {
    "collapsed": true,
    "deletable": false,
    "nbgrader": {
     "checksum": "c6d1f3494131b27ecf5d88043ff5ab21",
     "grade": true,
     "grade_id": "random_code",
     "locked": false,
     "points": 20,
     "solution": true
    }
   },
   "outputs": [],
   "source": [
    "import random\n",
    "\n",
    "def generate_new_lyrics(chain):\n",
    "    # a list for storing the generated words\n",
    "    words = []\n",
    "    # generate the first word\n",
    "    words.append(random.choice(chain[\"<START>\"]))\n",
    "    \n",
    "    for word in chain.keys():\n",
    "        if len(chain[word]) != 0:\n",
    "            words.append(random.choice(chain[word]))\n",
    "    \n",
    "    # join the words together into a string with line breaks\n",
    "    lyrics = \" \".join(words[:-1])\n",
    "    return \"\\n\".join(lyrics.split(\"<N>\"))"
   ]
  },
  {
   "cell_type": "code",
   "execution_count": null,
   "metadata": {
    "collapsed": false,
    "deletable": false,
    "nbgrader": {
     "checksum": "a317d31345874d0d5022f6d63fddf0ed",
     "grade": false,
     "grade_id": "random_run",
     "locked": true,
     "solution": false
    }
   },
   "outputs": [],
   "source": [
    "print(generate_new_lyrics(chain))"
   ]
  },
  {
   "cell_type": "code",
   "execution_count": null,
   "metadata": {
    "collapsed": true
   },
   "outputs": [],
   "source": []
  }
 ],
 "metadata": {
  "kernelspec": {
   "display_name": "Python 3",
   "language": "python",
   "name": "python3"
  },
  "language_info": {
   "codemirror_mode": {
    "name": "ipython",
    "version": 3
   },
   "file_extension": ".py",
   "mimetype": "text/x-python",
   "name": "python",
   "nbconvert_exporter": "python",
   "pygments_lexer": "ipython3",
   "version": "3.4.3"
  }
 },
 "nbformat": 4,
 "nbformat_minor": 0
}
