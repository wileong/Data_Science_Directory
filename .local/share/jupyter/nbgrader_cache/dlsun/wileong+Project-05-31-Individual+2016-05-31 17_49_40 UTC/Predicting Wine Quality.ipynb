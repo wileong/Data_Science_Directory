{
 "cells": [
  {
   "cell_type": "markdown",
   "metadata": {},
   "source": [
    "# Predicting Wine Quality\n",
    "\n",
    "## Individual Part (70 minutes)\n",
    "\n",
    "The goal of this project is to develop a classifier that predicts the quality of a wine, using properties of the wine such as \n",
    "- type (red or white)\n",
    "- fixed acidity \n",
    "- residual sugar \n",
    "- free sulfur dioxide \n",
    "- pH\n",
    "- alcohol \n",
    "\n",
    "The quality of the wine is a binary variable, with 1 indicating that the wine is of high quality and 0 indicating otherwise. \n",
    "\n",
    "In this part, you will work only with the training data, fitting various models as directed. The training data can be found in `/data/wines/train.csv`."
   ]
  },
  {
   "cell_type": "code",
   "execution_count": 1,
   "metadata": {
    "collapsed": true
   },
   "outputs": [],
   "source": [
    "import numpy as np\n",
    "import pandas as pd\n",
    "import matplotlib.pyplot as plt\n",
    "\n",
    "%matplotlib inline"
   ]
  },
  {
   "cell_type": "code",
   "execution_count": 2,
   "metadata": {
    "collapsed": true
   },
   "outputs": [],
   "source": [
    "data = pd.read_csv(\"/data/wines/train.csv\")"
   ]
  },
  {
   "cell_type": "code",
   "execution_count": 3,
   "metadata": {
    "collapsed": false
   },
   "outputs": [
    {
     "data": {
      "text/html": [
       "<div>\n",
       "<table border=\"1\" class=\"dataframe\">\n",
       "  <thead>\n",
       "    <tr style=\"text-align: right;\">\n",
       "      <th></th>\n",
       "      <th>type</th>\n",
       "      <th>fixed acidity</th>\n",
       "      <th>volatile acidity</th>\n",
       "      <th>citric acid</th>\n",
       "      <th>residual sugar</th>\n",
       "      <th>chlorides</th>\n",
       "      <th>free sulfur dioxide</th>\n",
       "      <th>total sulfur dioxide</th>\n",
       "      <th>density</th>\n",
       "      <th>pH</th>\n",
       "      <th>sulphates</th>\n",
       "      <th>alcohol</th>\n",
       "      <th>quality</th>\n",
       "    </tr>\n",
       "  </thead>\n",
       "  <tbody>\n",
       "    <tr>\n",
       "      <th>0</th>\n",
       "      <td>white</td>\n",
       "      <td>6.3</td>\n",
       "      <td>0.18</td>\n",
       "      <td>0.24</td>\n",
       "      <td>3.40</td>\n",
       "      <td>0.053</td>\n",
       "      <td>20.0</td>\n",
       "      <td>119.0</td>\n",
       "      <td>0.99373</td>\n",
       "      <td>3.11</td>\n",
       "      <td>0.52</td>\n",
       "      <td>9.2</td>\n",
       "      <td>1.0</td>\n",
       "    </tr>\n",
       "    <tr>\n",
       "      <th>1</th>\n",
       "      <td>white</td>\n",
       "      <td>6.8</td>\n",
       "      <td>0.14</td>\n",
       "      <td>0.18</td>\n",
       "      <td>1.40</td>\n",
       "      <td>0.047</td>\n",
       "      <td>30.0</td>\n",
       "      <td>90.0</td>\n",
       "      <td>0.99164</td>\n",
       "      <td>3.27</td>\n",
       "      <td>0.54</td>\n",
       "      <td>11.2</td>\n",
       "      <td>1.0</td>\n",
       "    </tr>\n",
       "    <tr>\n",
       "      <th>2</th>\n",
       "      <td>white</td>\n",
       "      <td>7.3</td>\n",
       "      <td>0.22</td>\n",
       "      <td>0.50</td>\n",
       "      <td>13.70</td>\n",
       "      <td>0.049</td>\n",
       "      <td>56.0</td>\n",
       "      <td>189.0</td>\n",
       "      <td>0.99940</td>\n",
       "      <td>3.24</td>\n",
       "      <td>0.66</td>\n",
       "      <td>9.0</td>\n",
       "      <td>1.0</td>\n",
       "    </tr>\n",
       "    <tr>\n",
       "      <th>3</th>\n",
       "      <td>white</td>\n",
       "      <td>7.6</td>\n",
       "      <td>0.67</td>\n",
       "      <td>0.14</td>\n",
       "      <td>1.50</td>\n",
       "      <td>0.074</td>\n",
       "      <td>25.0</td>\n",
       "      <td>168.0</td>\n",
       "      <td>0.99370</td>\n",
       "      <td>3.05</td>\n",
       "      <td>0.51</td>\n",
       "      <td>9.3</td>\n",
       "      <td>0.0</td>\n",
       "    </tr>\n",
       "    <tr>\n",
       "      <th>4</th>\n",
       "      <td>white</td>\n",
       "      <td>7.3</td>\n",
       "      <td>0.21</td>\n",
       "      <td>0.29</td>\n",
       "      <td>1.60</td>\n",
       "      <td>0.034</td>\n",
       "      <td>29.0</td>\n",
       "      <td>118.0</td>\n",
       "      <td>0.99170</td>\n",
       "      <td>3.30</td>\n",
       "      <td>0.50</td>\n",
       "      <td>11.0</td>\n",
       "      <td>1.0</td>\n",
       "    </tr>\n",
       "    <tr>\n",
       "      <th>5</th>\n",
       "      <td>white</td>\n",
       "      <td>7.0</td>\n",
       "      <td>0.12</td>\n",
       "      <td>0.19</td>\n",
       "      <td>4.90</td>\n",
       "      <td>0.055</td>\n",
       "      <td>27.0</td>\n",
       "      <td>127.0</td>\n",
       "      <td>0.99530</td>\n",
       "      <td>3.29</td>\n",
       "      <td>0.41</td>\n",
       "      <td>9.4</td>\n",
       "      <td>0.0</td>\n",
       "    </tr>\n",
       "    <tr>\n",
       "      <th>6</th>\n",
       "      <td>white</td>\n",
       "      <td>6.8</td>\n",
       "      <td>0.16</td>\n",
       "      <td>0.18</td>\n",
       "      <td>1.80</td>\n",
       "      <td>0.046</td>\n",
       "      <td>31.0</td>\n",
       "      <td>114.0</td>\n",
       "      <td>0.99226</td>\n",
       "      <td>3.27</td>\n",
       "      <td>0.55</td>\n",
       "      <td>10.8</td>\n",
       "      <td>1.0</td>\n",
       "    </tr>\n",
       "    <tr>\n",
       "      <th>...</th>\n",
       "      <td>...</td>\n",
       "      <td>...</td>\n",
       "      <td>...</td>\n",
       "      <td>...</td>\n",
       "      <td>...</td>\n",
       "      <td>...</td>\n",
       "      <td>...</td>\n",
       "      <td>...</td>\n",
       "      <td>...</td>\n",
       "      <td>...</td>\n",
       "      <td>...</td>\n",
       "      <td>...</td>\n",
       "      <td>...</td>\n",
       "    </tr>\n",
       "    <tr>\n",
       "      <th>3993</th>\n",
       "      <td>white</td>\n",
       "      <td>6.2</td>\n",
       "      <td>0.26</td>\n",
       "      <td>0.19</td>\n",
       "      <td>3.40</td>\n",
       "      <td>0.049</td>\n",
       "      <td>47.0</td>\n",
       "      <td>172.0</td>\n",
       "      <td>0.99240</td>\n",
       "      <td>3.14</td>\n",
       "      <td>0.43</td>\n",
       "      <td>10.4</td>\n",
       "      <td>1.0</td>\n",
       "    </tr>\n",
       "    <tr>\n",
       "      <th>3994</th>\n",
       "      <td>white</td>\n",
       "      <td>7.6</td>\n",
       "      <td>0.30</td>\n",
       "      <td>0.27</td>\n",
       "      <td>10.60</td>\n",
       "      <td>0.039</td>\n",
       "      <td>31.0</td>\n",
       "      <td>119.0</td>\n",
       "      <td>0.99815</td>\n",
       "      <td>3.27</td>\n",
       "      <td>0.30</td>\n",
       "      <td>9.3</td>\n",
       "      <td>1.0</td>\n",
       "    </tr>\n",
       "    <tr>\n",
       "      <th>3995</th>\n",
       "      <td>white</td>\n",
       "      <td>6.8</td>\n",
       "      <td>0.29</td>\n",
       "      <td>0.16</td>\n",
       "      <td>1.40</td>\n",
       "      <td>0.038</td>\n",
       "      <td>122.5</td>\n",
       "      <td>234.5</td>\n",
       "      <td>0.99220</td>\n",
       "      <td>3.15</td>\n",
       "      <td>0.47</td>\n",
       "      <td>10.0</td>\n",
       "      <td>0.0</td>\n",
       "    </tr>\n",
       "    <tr>\n",
       "      <th>3996</th>\n",
       "      <td>white</td>\n",
       "      <td>6.4</td>\n",
       "      <td>0.30</td>\n",
       "      <td>0.30</td>\n",
       "      <td>2.25</td>\n",
       "      <td>0.038</td>\n",
       "      <td>8.0</td>\n",
       "      <td>210.0</td>\n",
       "      <td>0.99370</td>\n",
       "      <td>3.20</td>\n",
       "      <td>0.62</td>\n",
       "      <td>9.9</td>\n",
       "      <td>1.0</td>\n",
       "    </tr>\n",
       "    <tr>\n",
       "      <th>3997</th>\n",
       "      <td>white</td>\n",
       "      <td>7.7</td>\n",
       "      <td>0.30</td>\n",
       "      <td>0.32</td>\n",
       "      <td>1.60</td>\n",
       "      <td>0.037</td>\n",
       "      <td>23.0</td>\n",
       "      <td>124.0</td>\n",
       "      <td>0.99190</td>\n",
       "      <td>2.93</td>\n",
       "      <td>0.33</td>\n",
       "      <td>11.0</td>\n",
       "      <td>1.0</td>\n",
       "    </tr>\n",
       "    <tr>\n",
       "      <th>3998</th>\n",
       "      <td>white</td>\n",
       "      <td>6.4</td>\n",
       "      <td>0.38</td>\n",
       "      <td>0.19</td>\n",
       "      <td>4.50</td>\n",
       "      <td>0.038</td>\n",
       "      <td>36.0</td>\n",
       "      <td>119.0</td>\n",
       "      <td>0.99151</td>\n",
       "      <td>3.07</td>\n",
       "      <td>0.42</td>\n",
       "      <td>11.2</td>\n",
       "      <td>1.0</td>\n",
       "    </tr>\n",
       "    <tr>\n",
       "      <th>3999</th>\n",
       "      <td>white</td>\n",
       "      <td>6.4</td>\n",
       "      <td>0.28</td>\n",
       "      <td>0.45</td>\n",
       "      <td>8.60</td>\n",
       "      <td>0.057</td>\n",
       "      <td>47.0</td>\n",
       "      <td>223.0</td>\n",
       "      <td>0.99654</td>\n",
       "      <td>3.16</td>\n",
       "      <td>0.51</td>\n",
       "      <td>9.1</td>\n",
       "      <td>0.0</td>\n",
       "    </tr>\n",
       "  </tbody>\n",
       "</table>\n",
       "<p>4000 rows × 13 columns</p>\n",
       "</div>"
      ],
      "text/plain": [
       "       type  fixed acidity  volatile acidity  citric acid  residual sugar  \\\n",
       "0     white            6.3              0.18         0.24            3.40   \n",
       "1     white            6.8              0.14         0.18            1.40   \n",
       "2     white            7.3              0.22         0.50           13.70   \n",
       "3     white            7.6              0.67         0.14            1.50   \n",
       "4     white            7.3              0.21         0.29            1.60   \n",
       "5     white            7.0              0.12         0.19            4.90   \n",
       "6     white            6.8              0.16         0.18            1.80   \n",
       "...     ...            ...               ...          ...             ...   \n",
       "3993  white            6.2              0.26         0.19            3.40   \n",
       "3994  white            7.6              0.30         0.27           10.60   \n",
       "3995  white            6.8              0.29         0.16            1.40   \n",
       "3996  white            6.4              0.30         0.30            2.25   \n",
       "3997  white            7.7              0.30         0.32            1.60   \n",
       "3998  white            6.4              0.38         0.19            4.50   \n",
       "3999  white            6.4              0.28         0.45            8.60   \n",
       "\n",
       "      chlorides  free sulfur dioxide  total sulfur dioxide  density    pH  \\\n",
       "0         0.053                 20.0                 119.0  0.99373  3.11   \n",
       "1         0.047                 30.0                  90.0  0.99164  3.27   \n",
       "2         0.049                 56.0                 189.0  0.99940  3.24   \n",
       "3         0.074                 25.0                 168.0  0.99370  3.05   \n",
       "4         0.034                 29.0                 118.0  0.99170  3.30   \n",
       "5         0.055                 27.0                 127.0  0.99530  3.29   \n",
       "6         0.046                 31.0                 114.0  0.99226  3.27   \n",
       "...         ...                  ...                   ...      ...   ...   \n",
       "3993      0.049                 47.0                 172.0  0.99240  3.14   \n",
       "3994      0.039                 31.0                 119.0  0.99815  3.27   \n",
       "3995      0.038                122.5                 234.5  0.99220  3.15   \n",
       "3996      0.038                  8.0                 210.0  0.99370  3.20   \n",
       "3997      0.037                 23.0                 124.0  0.99190  2.93   \n",
       "3998      0.038                 36.0                 119.0  0.99151  3.07   \n",
       "3999      0.057                 47.0                 223.0  0.99654  3.16   \n",
       "\n",
       "      sulphates  alcohol  quality  \n",
       "0          0.52      9.2      1.0  \n",
       "1          0.54     11.2      1.0  \n",
       "2          0.66      9.0      1.0  \n",
       "3          0.51      9.3      0.0  \n",
       "4          0.50     11.0      1.0  \n",
       "5          0.41      9.4      0.0  \n",
       "6          0.55     10.8      1.0  \n",
       "...         ...      ...      ...  \n",
       "3993       0.43     10.4      1.0  \n",
       "3994       0.30      9.3      1.0  \n",
       "3995       0.47     10.0      0.0  \n",
       "3996       0.62      9.9      1.0  \n",
       "3997       0.33     11.0      1.0  \n",
       "3998       0.42     11.2      1.0  \n",
       "3999       0.51      9.1      0.0  \n",
       "\n",
       "[4000 rows x 13 columns]"
      ]
     },
     "execution_count": 3,
     "metadata": {},
     "output_type": "execute_result"
    }
   ],
   "source": [
    "data"
   ]
  },
  {
   "cell_type": "markdown",
   "metadata": {},
   "source": [
    "## Question 1 (20 points)\n",
    "\n",
    "Fit a $k$-nearest neighbors model to this data. Use cross-validation to determine the optimal value of $k$ and to estimate the test accuracy of your classifier. Please print these values. (You may find it helpful to plot the test error curve as a function of $k$, but this is not required.)\n",
    "\n",
    "**Note:** With $k$-nearest neighbors, it is customary to first standardize all the variables to put them on the same scale. You can use the `scale()` function from `sklearn.preprocessing` for this purpose."
   ]
  },
  {
   "cell_type": "code",
   "execution_count": 4,
   "metadata": {
    "collapsed": false,
    "deletable": false,
    "nbgrader": {
     "checksum": "e44c6f767e9ce297e5af772a8defa691",
     "grade": true,
     "grade_id": "kneighbors",
     "locked": false,
     "points": 20,
     "solution": true
    }
   },
   "outputs": [
    {
     "data": {
      "text/plain": [
       "[<matplotlib.lines.Line2D at 0x7fe96dcb7d30>]"
      ]
     },
     "execution_count": 4,
     "metadata": {},
     "output_type": "execute_result"
    },
    {
     "data": {
      "image/png": "[encoded data removed]",
      "text/plain": [
       "<matplotlib.figure.Figure at 0x7fe9c00c57f0>"
      ]
     },
     "metadata": {},
     "output_type": "display_data"
    }
   ],
   "source": [
    "from sklearn import preprocessing\n",
    "from sklearn.neighbors import KNeighborsClassifier\n",
    "from sklearn.cross_validation import cross_val_score\n",
    "\n",
    "model = KNeighborsClassifier(n_neighbors = 1)\n",
    "\n",
    "data_sub = pd.DataFrame({\n",
    "        'fixed acidity': data['fixed acidity'], 'residual sugar': data['residual sugar'],\n",
    "        'free sulfur dioxide':data['free sulfur dioxide'], 'pH':data['pH'], 'alcohol':data['alcohol']\n",
    "    }).dropna()\n",
    "\n",
    "\n",
    "data_sub_scaled = pd.DataFrame(preprocessing.scale(data_sub ,axis = 0))\n",
    "data_sub_scaled = pd.concat( [data_sub_scaled, pd.get_dummies(data['type']) ], axis = 1)\n",
    "\n",
    "\n",
    "data_sub_scaled.columns = ['alcohol', 'fixed acidity', 'free sulfur dioxide', 'pH', 'residual sugar', 'red', 'white']\n",
    "\n",
    "\n",
    "X = data_sub_scaled[['alcohol','fixed acidity', 'free sulfur dioxide', 'pH', 'residual sugar', 'red', 'white']]\n",
    "y = data['quality']\n",
    "\n",
    "model.fit(X,y)\n",
    "\n",
    "#test accuracy = 1 - test error\n",
    "test_accuracies = []\n",
    "\n",
    "for k in range(1,10):\n",
    "    \n",
    "    model = KNeighborsClassifier(k)\n",
    "    test_accuracies.append(1- np.mean(-cross_val_score(model, X, y, cv = 10, scoring = \"mean_squared_error\"))) #test error\n",
    "    \n",
    "plt.plot(range(1,10), test_accuracies)\n",
    "\n",
    "#optimal k = 1 neighbor because if k gets any higher than that, test accuracy goes down, which is bad because we want classifier\n",
    "#to be as accurate as possible. IF this was test-error, choosing k where lowest test error is would be optimal."
   ]
  },
  {
   "cell_type": "markdown",
   "metadata": {},
   "source": [
    "## Question 2a (20 points)\n",
    "\n",
    "Let's model the log-odds of a high quality wine as a polynomial in the alcohol content. In other words:\n",
    "$$ \\log\\left(\\frac{P(Y=1)}{P(Y=0)}\\right) = \\beta_0 + \\beta_1 X + ... + \\beta_p X^p. $$\n",
    "\n",
    "Try different values of $p$ and estimate the (test) accuracy, precision, and recall. Make a plot showing these three curves (as a function of $p$). Which $p$ is best?"
   ]
  },
  {
   "cell_type": "code",
   "execution_count": 5,
   "metadata": {
    "collapsed": false,
    "deletable": false,
    "nbgrader": {
     "checksum": "1eeb528a871d9fe0ee0c5bc275edbb4b",
     "grade": true,
     "grade_id": "polynomial",
     "locked": false,
     "points": 20,
     "solution": true
    }
   },
   "outputs": [
    {
     "data": {
      "text/plain": [
       "[<matplotlib.lines.Line2D at 0x7fe964645278>]"
      ]
     },
     "execution_count": 5,
     "metadata": {},
     "output_type": "execute_result"
    },
    {
     "data": {
      "image/png": "[encoded data removed]",
      "text/plain": [
       "<matplotlib.figure.Figure at 0x7fe9be781eb8>"
      ]
     },
     "metadata": {},
     "output_type": "display_data"
    },
    {
     "data": {
      "image/png": "[encoded data removed]",
      "text/plain": [
       "<matplotlib.figure.Figure at 0x7fe9646d6b00>"
      ]
     },
     "metadata": {},
     "output_type": "display_data"
    },
    {
     "data": {
      "image/png": "[encoded data removed]",
      "text/plain": [
       "<matplotlib.figure.Figure at 0x7fe9646acbe0>"
      ]
     },
     "metadata": {},
     "output_type": "display_data"
    }
   ],
   "source": [
    "from sklearn.linear_model import LogisticRegression\n",
    "from sklearn.cross_validation import cross_val_score\n",
    "model = LogisticRegression()\n",
    "\n",
    "X = data[['alcohol']]\n",
    "y = data['quality']\n",
    "\n",
    "model.fit(X,y)\n",
    "\n",
    "quality_probabilities = model.predict_proba(pd.DataFrame( [9.5,10,10.5,11 ]))\n",
    "quality_probabilities_df = pd.DataFrame(quality_probabilities)\n",
    "\n",
    "test_accuracy = cross_val_score(model,X,y, cv=4, scoring =\"accuracy\")\n",
    "precision = cross_val_score(model,X,y, cv=4, scoring =\"precision\")\n",
    "recall = cross_val_score(model,X,y, cv=4, scoring =\"recall\")\n",
    "\n",
    "plt.figure(1)\n",
    "plt.plot(test_accuracy, quality_probabilities_df[1])\n",
    "\n",
    "plt.figure(2)\n",
    "plt.plot(precision, quality_probabilities_df[1])\n",
    "\n",
    "plt.figure(3)\n",
    "plt.plot(recall, quality_probabilities_df[1])\n",
    "\n",
    "#just realized I used the wrong p. I was thinking of probabilites for this problem.\n"
   ]
  },
  {
   "cell_type": "markdown",
   "metadata": {},
   "source": [
    "## Question 2b (5 points)\n",
    "\n",
    "Make a scatterplot showing alcohol content on the $x$-axis and quality on the $y$-axis. Add your fitted logistic regression model as a line to this plot."
   ]
  },
  {
   "cell_type": "code",
   "execution_count": 6,
   "metadata": {
    "collapsed": false,
    "deletable": false,
    "nbgrader": {
     "checksum": "9e72beb2eb6dedc91320e5b9b37211e1",
     "grade": true,
     "grade_id": "plot",
     "locked": false,
     "points": 5,
     "solution": true
    }
   },
   "outputs": [
    {
     "data": {
      "text/plain": [
       "[<matplotlib.lines.Line2D at 0x7fe9a80b8d68>]"
      ]
     },
     "execution_count": 6,
     "metadata": {},
     "output_type": "execute_result"
    },
    {
     "data": {
      "image/png": "[encoded data removed]",
      "text/plain": [
       "<matplotlib.figure.Figure at 0x7fe9a80b8b00>"
      ]
     },
     "metadata": {},
     "output_type": "display_data"
    }
   ],
   "source": [
    "\n",
    "\n",
    "data.plot.scatter(x=\"alcohol\", y=\"quality\")\n",
    "\n",
    "x_test = np.linspace(7,15, 10)\n",
    "X_test = pd.DataFrame(x_test)\n",
    "y_test = model.predict(X_test)\n",
    "probs = model.predict_proba(X_test)\n",
    "\n",
    "plt.plot(X_test,probs[:,1])"
   ]
  },
  {
   "cell_type": "markdown",
   "metadata": {},
   "source": [
    "## Submitting this Project\n",
    "\n",
    "When you are done, please submit this project by opening up the Terminal and typing the following command at the command line:\n",
    "\n",
    "`nbgrader submit Project-05-31-Individual --course dlsun`"
   ]
  }
 ],
 "metadata": {
  "kernelspec": {
   "display_name": "Python 3",
   "language": "python",
   "name": "python3"
  },
  "language_info": {
   "codemirror_mode": {
    "name": "ipython",
    "version": 3
   },
   "file_extension": ".py",
   "mimetype": "text/x-python",
   "name": "python",
   "nbconvert_exporter": "python",
   "pygments_lexer": "ipython3",
   "version": "3.4.3"
  }
 },
 "nbformat": 4,
 "nbformat_minor": 0
}
