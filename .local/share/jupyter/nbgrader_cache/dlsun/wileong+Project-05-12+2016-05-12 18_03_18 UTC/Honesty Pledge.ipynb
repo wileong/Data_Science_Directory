{
 "cells": [
  {
   "cell_type": "markdown",
   "metadata": {},
   "source": [
    "## Honesty Pledge\n",
    "\n",
    "This exam is to be completed in pairs (or in groups of 3, with permission from the instructor). We understand that we are allowed to discuss this exam with each other, but not with any other groups. Giving and receiving help are both forbidden and will be prosecuted equally.\n",
    "\n",
    "This project is open-Internet. We understand that we are allowed to use any existing resources on the web, including web search, but we are not allowed to consult with any other people during this project. \n",
    "\n",
    "Furthermore, I certify that I did not receive any advance knowledge about this project, and I will not to discuss this in-class project with anyone until after 5 PM today, when everyone has completed it.\n",
    "\n",
    "I understand that the penalty for violating this pledge is a grade of **F** in the course and disciplinary action by the Office of Student Rights & Responsibilities. Please sign below to indicate that you have read and understood this pledge. Your project will not be graded unless you sign below."
   ]
  },
  {
   "cell_type": "code",
   "execution_count": 2,
   "metadata": {
    "collapsed": false,
    "deletable": false,
    "nbgrader": {
     "checksum": "eca24c82f3a93e96ad45446ae47d8812",
     "grade": true,
     "grade_id": "student_1",
     "locked": false,
     "points": 5,
     "solution": true
    }
   },
   "outputs": [],
   "source": [
    "# YOUR CODE HERE\n",
    "sign1 = \"Wilson Leong\""
   ]
  },
  {
   "cell_type": "code",
   "execution_count": null,
   "metadata": {
    "collapsed": true,
    "deletable": false,
    "nbgrader": {
     "checksum": "c52c6fe225e3557cb6c81b2089a6f9cd",
     "grade": true,
     "grade_id": "student_2",
     "locked": false,
     "points": 5,
     "solution": true
    }
   },
   "outputs": [],
   "source": [
    "# YOUR CODE HERE\n",
    "sign2 = \"Sam Lindbloom-Airey\""
   ]
  }
 ],
 "metadata": {
  "kernelspec": {
   "display_name": "Python 3",
   "language": "python",
   "name": "python3"
  },
  "language_info": {
   "codemirror_mode": {
    "name": "ipython",
    "version": 3
   },
   "file_extension": ".py",
   "mimetype": "text/x-python",
   "name": "python",
   "nbconvert_exporter": "python",
   "pygments_lexer": "ipython3",
   "version": "3.4.3"
  }
 },
 "nbformat": 4,
 "nbformat_minor": 0
}
