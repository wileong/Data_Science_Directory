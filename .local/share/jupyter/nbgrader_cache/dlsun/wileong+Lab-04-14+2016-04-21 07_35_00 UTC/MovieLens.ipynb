{
 "cells": [
  {
   "cell_type": "markdown",
   "metadata": {},
   "source": [
    "# MovieLens\n",
    "\n",
    "##DUE APRIL 21, 2016\n",
    "\n",
    "[MovieLens](http://www.movielens.org/) is a website where users can submit ratings for movies that they watch and receive recommendations for other movies they might enjoy. The data is collected and made publicly available for research. We will be working with a data set of 1 million user ratings of movies. You can find this data set and even larger ones at http://grouplens.org/datasets/movielens/.\n"
   ]
  },
  {
   "cell_type": "markdown",
   "metadata": {
    "deletable": false,
    "nbgrader": {
     "checksum": "050ee3f3c98157096196a237c67cfb1d",
     "grade": false,
     "grade_id": "header_question",
     "locked": true,
     "solution": false
    }
   },
   "source": [
    "## Reading in the Data\n",
    "\n",
    "Note that the data consists of three data frames: one with information about the users, another containing the ratings, and yet another with information about the movies. See the readme file (/data/movielens/README) for more information."
   ]
  },
  {
   "cell_type": "code",
   "execution_count": 1,
   "metadata": {
    "collapsed": false,
    "deletable": false,
    "nbgrader": {
     "checksum": "0e023866f8dd23aebaa40f0970bff7c9",
     "grade": false,
     "grade_id": "header",
     "locked": true,
     "solution": false
    }
   },
   "outputs": [],
   "source": [
    "import pandas as pd\n",
    "\n",
    "unames = ['user_id', 'gender', 'age', 'occupation', 'zip']\n",
    "users = pd.read_table('/data/movielens/users.dat', sep='::', header=None,\n",
    "                      names=unames, engine=\"python\")\n",
    "\n",
    "rnames = ['user_id', 'movie_id', 'rating', 'timestamp']\n",
    "ratings = pd.read_table('/data/movielens/ratings.dat', sep='::', header=None,\n",
    "                        names=rnames, engine=\"python\")\n",
    "\n",
    "mnames = ['movie_id', 'title', 'genres']\n",
    "movies = pd.read_table('/data/movielens/movies.dat', sep='::', header=None,\n",
    "                       names=mnames, engine=\"python\")"
   ]
  },
  {
   "cell_type": "markdown",
   "metadata": {
    "deletable": false,
    "nbgrader": {
     "checksum": "1894e43cd31dc69f8374cd2f206a15e7",
     "grade": false,
     "grade_id": "top_movies_question",
     "locked": true,
     "solution": false
    }
   },
   "source": [
    "## Question 1\n",
    "\n",
    "Develop a way to rank movies. Why is it not a good idea to simply sort the movies by average rating? (You may want to try calculating this first.) Then, explain your methodology and use it to produce a list of the Top 10 movies of all time."
   ]
  },
  {
   "cell_type": "code",
   "execution_count": 2,
   "metadata": {
    "collapsed": false
   },
   "outputs": [],
   "source": [
    "#ratings"
   ]
  },
  {
   "cell_type": "code",
   "execution_count": 3,
   "metadata": {
    "collapsed": false,
    "deletable": false,
    "nbgrader": {
     "checksum": "5d6a966f8a28b4a6de398c563e77fe86",
     "grade": true,
     "grade_id": "top_movies",
     "locked": false,
     "points": 20,
     "solution": true
    }
   },
   "outputs": [
    {
     "data": {
      "text/html": [
       "<div>\n",
       "<table border=\"1\" class=\"dataframe\">\n",
       "  <thead>\n",
       "    <tr style=\"text-align: right;\">\n",
       "      <th></th>\n",
       "      <th>average_rating</th>\n",
       "    </tr>\n",
       "    <tr>\n",
       "      <th>movie_id</th>\n",
       "      <th></th>\n",
       "    </tr>\n",
       "  </thead>\n",
       "  <tbody>\n",
       "    <tr>\n",
       "      <th>1</th>\n",
       "      <td>5</td>\n",
       "    </tr>\n",
       "    <tr>\n",
       "      <th>110</th>\n",
       "      <td>5</td>\n",
       "    </tr>\n",
       "    <tr>\n",
       "      <th>260</th>\n",
       "      <td>5</td>\n",
       "    </tr>\n",
       "    <tr>\n",
       "      <th>296</th>\n",
       "      <td>5</td>\n",
       "    </tr>\n",
       "    <tr>\n",
       "      <th>318</th>\n",
       "      <td>5</td>\n",
       "    </tr>\n",
       "    <tr>\n",
       "      <th>356</th>\n",
       "      <td>5</td>\n",
       "    </tr>\n",
       "    <tr>\n",
       "      <th>480</th>\n",
       "      <td>5</td>\n",
       "    </tr>\n",
       "    <tr>\n",
       "      <th>527</th>\n",
       "      <td>5</td>\n",
       "    </tr>\n",
       "    <tr>\n",
       "      <th>589</th>\n",
       "      <td>5</td>\n",
       "    </tr>\n",
       "    <tr>\n",
       "      <th>593</th>\n",
       "      <td>5</td>\n",
       "    </tr>\n",
       "  </tbody>\n",
       "</table>\n",
       "</div>"
      ],
      "text/plain": [
       "          average_rating\n",
       "movie_id                \n",
       "1                      5\n",
       "110                    5\n",
       "260                    5\n",
       "296                    5\n",
       "318                    5\n",
       "356                    5\n",
       "480                    5\n",
       "527                    5\n",
       "589                    5\n",
       "593                    5"
      ]
     },
     "execution_count": 3,
     "metadata": {},
     "output_type": "execute_result"
    }
   ],
   "source": [
    "# YOUR CODE HERE\n",
    "#raise NotImplementedError()\n",
    "\n",
    "# ratings_movie_id_avg = ratings.groupby([\"movie_id\" ]).mean()#.get([\"rating\"])\n",
    "# #This would calculate the mean of each column, including userid and timestamp for ea movieid\n",
    "# ratings_movie_id_avg\n",
    "\n",
    "\n",
    "\n",
    "\n",
    "#Another way to rank movies:\n",
    "# A 'top' movie is a movie with not only THOUSANDS of ratings, but on average, people gave it a 5 star rating.\n",
    "\n",
    "num_ratings_per_movie = ratings.groupby([\"movie_id\"])[['rating']].count()\n",
    "num_ratings_per_movie = num_ratings_per_movie.ix[num_ratings_per_movie['rating'] >= 2000 ] # get movies with >= # of ratings\n",
    "num_ratings_per_movie = num_ratings_per_movie.reset_index() # call this after groupby\n",
    "num_ratings_per_movie = num_ratings_per_movie.merge( ratings, on= 'movie_id')\n",
    "\n",
    "top_movies = pd.merge(num_ratings_per_movie,users, on = \"user_id\")\n",
    "top_movies = top_movies.ix[ top_movies['rating_y'] == 5].groupby('movie_id')[['rating_y']].mean()\n",
    "top_movies.columns = ['average_rating']\n",
    "top_movies.head(n=10)\n",
    "\n",
    "\n",
    "\n",
    "\n",
    "# avg_ratings = ratings.ix[ratings['rating'] >= 4, :].groupby('movie_id')[ ['rating'] ].mean()\n",
    "# # don't use get('rating') as that will use all cols when calling .mean() on it\n",
    "# avg_ratings"
   ]
  },
  {
   "cell_type": "markdown",
   "metadata": {
    "deletable": false,
    "nbgrader": {
     "checksum": "e32d88e21c2979750814a655c37c92b2",
     "grade": true,
     "grade_id": "top_movies_text",
     "locked": false,
     "points": 0,
     "solution": true
    }
   },
   "source": [
    "It doesn't make sense to sort the movies by its average ratings alone because there may be some movies where only a few people gave it a rating. A movie with a rating defined by only a few reviewers is not a good rating because a few reviewers is not reprsentative of the entire audience at all.\n",
    "\n",
    "The table outputted shows the top 10 movies of all time."
   ]
  },
  {
   "cell_type": "markdown",
   "metadata": {
    "deletable": false,
    "nbgrader": {
     "checksum": "a0fcc3379ef7ba3274e5dec51a7fcc9a",
     "grade": false,
     "grade_id": "male_female_question",
     "locked": true,
     "solution": false
    }
   },
   "source": [
    "## Question 2\n",
    "\n",
    "Restrict to movies with at least 200 ratings. For each movie, calculate the difference between the average male rating and the average female rating. Based on these differences between average male ratings and average female ratings, what movies were the most male-friendly? What movies were the most female-friendly?"
   ]
  },
  {
   "cell_type": "code",
   "execution_count": 4,
   "metadata": {
    "collapsed": false,
    "deletable": false,
    "nbgrader": {
     "checksum": "f2e95fac08efe15bd4668fbb90faaa95",
     "grade": true,
     "grade_id": "male_female",
     "locked": false,
     "points": 20,
     "solution": true
    }
   },
   "outputs": [
    {
     "name": "stdout",
     "output_type": "stream",
     "text": [
      "      movie_id  rating_x  user_id  rating_y  timestamp gender  age  \\\n",
      "1201      3744       421       19         4  978147373      M    1   \n",
      "3760      1784      1424       65         5  977888204      M   35   \n",
      "1194      3624       791       19         5  978146984      M    1   \n",
      "\n",
      "      occupation    zip  Avg Female Rating  Avg Male Rating  \\\n",
      "1201          10  48073           3.494949         4.221300   \n",
      "3760          12  55803           2.878788         3.555147   \n",
      "1194          10  48073           2.944444         3.585227   \n",
      "\n",
      "      Diff Between Females' and Males' Avg Ratings  \n",
      "1201                                     -0.726351  \n",
      "3760                                     -0.676359  \n",
      "1194                                     -0.640783  \n",
      "=========================================================================\n",
      "      movie_id  rating_x  user_id  rating_y  timestamp gender  age  \\\n",
      "2468      1721      1546       38         4  978044771      F   18   \n",
      "203       2699      1367        8         5  978229347      M   25   \n",
      "1088      1792       448       19         3  978147395      M    1   \n",
      "\n",
      "      occupation    zip  Avg Female Rating  Avg Male Rating  \\\n",
      "2468           4  02215           3.254717         2.578358   \n",
      "203           12  11413           3.486842         2.795276   \n",
      "1088          10  48073           3.790378         2.959596   \n",
      "\n",
      "      Diff Between Females' and Males' Avg Ratings  \n",
      "2468                                      0.676359  \n",
      "203                                       0.691567  \n",
      "1088                                      0.830782  \n"
     ]
    }
   ],
   "source": [
    "# YOUR CODE HERE\n",
    "#raise NotImplementedError()\n",
    "\n",
    "\n",
    "num_ratings_per_movie = ratings.groupby([\"movie_id\"])[['rating']].count()\n",
    "num_ratings_per_movie = num_ratings_per_movie.ix[num_ratings_per_movie['rating'] >= 200]\n",
    "num_ratings_per_movie = num_ratings_per_movie.reset_index()\n",
    "num_ratings_per_movie = num_ratings_per_movie.merge( ratings, on= 'movie_id')\n",
    "#num_ratings_per_movie\n",
    "#next step: merge num_ratings_per_movie_200 with original ratings table and then filter out.\n",
    "\n",
    "\n",
    "data_merged_rate = pd.merge(num_ratings_per_movie,users, on = \"user_id\")\n",
    "\n",
    "# # inner join:\n",
    "data_merged_rate['Avg Female Rating'] = data_merged_rate.ix[ data_merged_rate['gender'] == 'F' ].groupby(['movie_id']).mean()['rating_y']\n",
    "data_merged_rate['Avg Female Rating'] = data_merged_rate['Avg Female Rating'].fillna(0)\n",
    "data_merged_rate['Avg Male Rating'] = data_merged_rate.ix[ data_merged_rate['gender'] == 'M' ].groupby( ['movie_id'] ).mean()['rating_y']\n",
    "data_merged_rate['Avg Male Rating'] = data_merged_rate['Avg Male Rating'].fillna(0)\n",
    "# #['rating'] is necessary because I only want to add a column\n",
    "\n",
    "data_merged_rate['Diff Between Females\\' and Males\\' Avg Ratings' ] = data_merged_rate['Avg Female Rating']\\\n",
    "     - data_merged_rate['Avg Male Rating']\n",
    "data_merged_rate = data_merged_rate.sort_values(by = 'Diff Between Females\\' and Males\\' Avg Ratings' ,ascending = True)\n",
    "\n",
    "#data_merged_rate\n",
    "\n",
    "print(data_merged_rate.head(n = 3))\n",
    "#for most male friendly\n",
    "print(\"=========================================================================\")\n",
    "print(data_merged_rate.tail(n = 3))\n",
    "# for most  female friendly"
   ]
  },
  {
   "cell_type": "markdown",
   "metadata": {
    "deletable": false,
    "nbgrader": {
     "checksum": "16c05c934277e610e69fd13d535cbe4b",
     "grade": true,
     "grade_id": "male_female_text",
     "locked": false,
     "points": 0,
     "solution": true
    }
   },
   "source": [
    "Movies(movie_id) that were most male friendly : 3744, 1784, 3624\n",
    "\n",
    "Movies(move_id) that were most female friendly: 1721, 2699, 1792\n",
    "\n",
    "*note: If difference between females' and males' average ratings is positive, that means that on average, females gave a particular movie higher rating than males did (female_friendly). If difference is negative, males gave it higher ratings on average."
   ]
  },
  {
   "cell_type": "markdown",
   "metadata": {
    "deletable": false,
    "nbgrader": {
     "checksum": "d77b74440da28ba9d6d971c294f1d6c7",
     "grade": false,
     "grade_id": "genres_question",
     "locked": true,
     "solution": false
    }
   },
   "source": [
    "## Question 3\n",
    "\n",
    "Calculate the average rating by genre. Note that a movie can belong to multiple genres. You will have to write some code that parses the `genres` column of the `movies` table. What genre had the highest average rating? What genre had the lowest?"
   ]
  },
  {
   "cell_type": "code",
   "execution_count": 5,
   "metadata": {
    "collapsed": false,
    "deletable": false,
    "nbgrader": {
     "checksum": "c0b6e35bb79da1896e1213c28ffb9344",
     "grade": true,
     "grade_id": "genres",
     "locked": false,
     "points": 30,
     "solution": true
    }
   },
   "outputs": [
    {
     "name": "stdout",
     "output_type": "stream",
     "text": [
      "{\"Action|Adventure|Children's|Comedy\": 3, 'Action|Sci-Fi|War': 3, 'Comedy|Sci-Fi': 15, 'Adventure': 18, 'Action|Adventure|Sci-Fi|Thriller': 8, 'Drama|Mystery|Romance': 5, 'Action|Adventure|Fantasy|Sci-Fi': 4, 'Drama|Thriller': 64, 'Comedy|Sci-Fi|Western': 2, 'Action|Adventure|Drama|Romance': 2, 'Drama|Romance|War': 11, 'Action|Romance|War': 2, 'Comedy|Mystery|Romance|Thriller': 3, 'Film-Noir|Romance|Thriller': 2, 'Action|Comedy|Musical': 3, 'Film-Noir|Horror': 2, 'Comedy|Crime|Thriller': 4, 'Action|Comedy|Crime|Drama': 8, \"Adventure|Children's|Drama\": 7, 'Crime|Drama|Mystery|Thriller': 2, 'Action|Drama|Thriller|War': 2, \"Adventure|Animation|Children's|Comedy|Musical\": 2, \"Adventure|Children's|Drama|Romance\": 2, 'Action|Drama|Mystery|Romance|Thriller': 2, \"Children's|Sci-Fi\": 2, \"Animation|Children's|Comedy|Musical|Romance\": 3, 'Comedy|Horror': 32, 'Adventure|Comedy|Musical': 2, 'Action|Adventure|Comedy': 6, \"Children's|Comedy|Drama\": 4, 'Adventure|Fantasy|Romance': 3, \"Adventure|Children's|Sci-Fi\": 3, \"Adventure|Children's|Comedy|Fantasy|Romance\": 2, 'Horror|Sci-Fi': 34, 'Comedy|Horror|Thriller': 4, 'Action|Crime|Drama|Thriller': 3, 'Adventure|Fantasy|Sci-Fi': 3, 'Drama|Romance|Thriller': 3, \"Children's|Horror\": 2, 'Comedy|Romance|Sci-Fi': 2, 'Action|Sci-Fi|Thriller': 15, \"Adventure|Animation|Children's|Fantasy\": 2, 'Comedy|Crime|Mystery|Thriller': 2, 'Action|Comedy|Crime': 2, 'Action|Mystery|Romance|Thriller': 2, 'Action|Adventure|Sci-Fi|War': 2, 'Action|Crime|Sci-Fi': 4, 'Adventure|Drama|Romance|Sci-Fi': 2, 'Action|Adventure|Western': 2, 'Action|Sci-Fi|Western': 2, 'Crime|Drama|Romance': 4, 'Drama|Sci-Fi': 12, 'Action|Adventure|Sci-Fi': 22, 'Action|Sci-Fi|Thriller|Western': 2, 'Film-Noir|Thriller': 7, 'Adventure|Romance': 6, 'Adventure|Comedy|Sci-Fi': 4, 'Comedy|Film-Noir|Thriller': 2, 'Action|Horror|Sci-Fi|Thriller': 4, 'Action|Adventure|Crime|Thriller': 2, 'Action|Drama|Fantasy|Romance': 2, 'Comedy|Drama': 163, 'Drama|Horror|Thriller': 2, 'Horror|Mystery|Thriller': 5, 'Adventure|Drama|Thriller': 2, \"Children's|Drama|Fantasy|Sci-Fi\": 2, 'Horror|Sci-Fi|Thriller': 12, \"Adventure|Animation|Children's\": 3, 'Action|Adventure|Horror|Thriller': 2, 'Action|Mystery|Sci-Fi|Thriller': 2, 'Adventure|Drama|Romance': 3, 'Film-Noir|Sci-Fi|Thriller': 2, \"Children's|Comedy\": 48, 'Horror|Romance': 4, 'Comedy|Drama|Musical': 2, 'Action|Drama|Sci-Fi|Thriller': 2, 'Comedy|Drama|War': 5, 'Action|Adventure|Mystery': 3, 'Drama|War': 44, 'Adventure|Comedy|Drama': 2, 'Action|Sci-Fi|Thriller|War': 2, 'Fantasy': 2, \"Adventure|Children's|Comedy\": 7, \"Children's|Comedy|Western\": 3, 'Action|Comedy|Fantasy': 2, 'Action|Adventure|Horror': 5, 'Action|Drama|Western': 2, 'Action|Adventure|Fantasy': 6, 'Film-Noir': 11, 'Action|Crime|Thriller': 7, 'Adventure|Musical|Romance': 2, 'Sci-Fi': 28, 'Drama|Mystery|Sci-Fi|Thriller': 2, 'Crime|Drama|Mystery': 4, 'Musical': 19, 'Comedy|Documentary': 5, 'Action|Horror|Thriller': 2, \"Adventure|Children's|Musical\": 2, \"Children's|Fantasy|Sci-Fi\": 2, 'Action|Adventure|Comedy|Sci-Fi': 2, 'Fantasy|Sci-Fi': 2, \"Adventure|Children's|Fantasy\": 12, 'Comedy|Drama|Western': 4, 'Drama|Musical|War': 2, 'Mystery|Romance|Thriller': 4, 'Musical|Romance|War': 2, 'Drama|Romance': 135, 'Comedy|Drama|Thriller': 3, 'Action|Sci-Fi': 29, 'Musical|Romance': 6, 'Adventure|Animation|Sci-Fi': 2, 'Crime|Film-Noir': 5, \"Action|Animation|Children's|Sci-Fi|Thriller|War\": 2, 'Action|Adventure|Comedy|Horror|Sci-Fi': 2, 'Action|Crime|Mystery': 2, \"Animation|Children's|Fantasy|Musical\": 2, \"Action|Adventure|Animation|Children's|Fantasy\": 2, 'Drama|Horror': 12, 'Crime|Film-Noir|Mystery': 2, 'Drama|Fantasy': 4, 'Comedy|Romance|War': 2, 'Adventure|Romance|Sci-Fi': 2, 'Action|Adventure|Comedy|War': 2, 'Film-Noir|Sci-Fi': 2, 'Crime|Drama': 45, \"Animation|Children's|Musical|Romance\": 2, 'Action|Comedy|Romance|Thriller': 2, \"Adventure|Animation|Children's|Sci-Fi\": 2, 'Film-Noir|Mystery': 3, 'Action|Adventure|Romance|War': 2, 'Adventure|Western': 3, 'Adventure|Animation|Sci-Fi|Thriller': 2, \"Animation|Children's|Musical\": 20, 'Crime|Horror|Thriller': 2, 'Action|Drama': 40, 'Sci-Fi|War': 2, 'Action|Adventure|Crime|Drama': 2, 'Thriller': 102, 'Crime|Drama|Sci-Fi': 3, 'Animation': 3, 'Action|Romance|Thriller': 8, \"Adventure|Children's|Fantasy|Sci-Fi\": 4, 'Action|Mystery|Thriller': 4, 'Action|Drama|Romance': 3, \"Adventure|Children's|Romance\": 2, 'Animation|Comedy': 6, 'Action|Comedy|Crime|Horror|Thriller': 2, 'Action|Western': 3, \"Action|Children's\": 4, \"Animation|Children's|Comedy|Musical\": 4, 'Drama|Musical': 13, 'Comedy|Mystery|Thriller': 2, 'Adventure|War': 5, 'Comedy|Crime|Fantasy': 2, 'Action|Romance|Sci-Fi': 2, 'Adventure|Comedy': 8, 'Comedy|War': 10, 'Drama|Sci-Fi|Thriller': 4, 'Documentary|War': 2, \"Children's|Musical\": 3, 'Action|Adventure|Drama': 6, 'Western': 34, \"Animation|Children's\": 36, \"Animation|Children's|Comedy\": 11, \"Action|Adventure|Children's|Sci-Fi\": 2, 'Drama|Western': 7, 'Action|Crime|Mystery|Thriller': 2, 'Action|War': 16, 'Action|Comedy|War': 3, 'Action|Thriller|War': 2, 'Crime|Horror|Mystery|Thriller': 2, 'Comedy|Horror|Musical|Sci-Fi': 2, 'Action|Adventure|Thriller': 12, 'Comedy|Crime|Drama': 5, 'Adventure|Drama|Western': 2, \"Children's\": 6, 'Adventure|Thriller': 3, \"Adventure|Children's|Comedy|Musical\": 2, 'Mystery': 11, 'Drama|Mystery': 19, 'Action|Adventure|Comedy|Crime': 4, 'Action|Adventure|War': 3, 'Crime|Film-Noir|Mystery|Thriller': 3, 'Comedy|Mystery': 6, 'Action|Adventure|Romance|Sci-Fi|War': 2, \"Adventure|Children's\": 31, \"Adventure|Children's|Comedy|Fantasy\": 3, 'Adventure|Musical': 2, 'Action|Romance': 4, 'Comedy|Romance|Thriller': 4, 'Action|Comedy': 23, 'Comedy|Drama|Romance': 35, 'Adventure|Crime|Sci-Fi|Thriller': 2, 'Action|Drama|Thriller': 11, 'Documentary|Musical': 3, \"Children's|Comedy|Sci-Fi\": 3, 'Action|Adventure|Drama|Thriller': 2, 'Crime|Drama|Romance|Thriller': 3, 'Action|Crime|Drama': 8, \"Children's|Comedy|Musical\": 3, 'Film-Noir|Mystery|Thriller': 4, 'Action|Comedy|Sci-Fi|War': 2, 'Romance|Western': 2, 'Action|Crime|Romance': 5, \"Adventure|Animation|Children's|Comedy|Fantasy\": 2, 'Action|Horror|Sci-Fi': 8, 'Action|Comedy|Drama': 4, 'Comedy|Drama|Sci-Fi': 2, 'Action|Comedy|Musical|Sci-Fi': 2, 'Action|Adventure|Animation|Horror|Sci-Fi': 2, 'Crime|Drama|Film-Noir': 4, 'Adventure|Fantasy': 2, 'Action|Adventure|Comedy|Horror': 2, 'Horror|Thriller': 33, 'Action|Drama|Mystery': 2, 'Romance|War': 5, 'Drama|Romance|Sci-Fi': 2, 'Mystery|Sci-Fi|Thriller': 2, 'Adventure|Animation|Film-Noir': 2, 'Comedy|Horror|Sci-Fi': 2, 'Drama|Mystery|Thriller': 3, \"Children's|Drama|Fantasy\": 3, \"Action|Adventure|Children's\": 2, 'Crime|Mystery': 2, 'Comedy': 522, 'Action|Drama|War': 14, \"Animation|Children's|Fantasy|War\": 2, 'Horror': 179, 'Sci-Fi|Thriller|War': 2, 'Romance|Thriller': 6, 'Action|Comedy|Western': 5, 'Crime|Thriller': 22, 'Action|Adventure|Romance': 3, \"Children's|Fantasy|Musical\": 2, 'Comedy|Musical': 18, 'Crime|Drama|Film-Noir|Thriller': 2, \"Animation|Children's|Comedy|Romance\": 2, 'Documentary': 117, 'Animation|Comedy|Thriller': 3, 'Action|Thriller': 49, \"Action|Children's|Fantasy\": 4, 'Action': 66, 'Drama|Film-Noir|Thriller': 2, 'Crime': 27, \"Adventure|Children's|Drama|Musical\": 2, 'Romance': 41, \"Action|Adventure|Children's|Fantasy\": 2, 'Comedy|Musical|Romance': 9, 'Comedy|Western': 8, 'Crime|Horror': 3, 'Drama|Romance|War|Western': 2, 'Comedy|Horror|Musical': 2, \"Children's|Comedy|Fantasy\": 5, 'Action|Adventure|Mystery|Sci-Fi': 2, 'Comedy|Crime|Horror': 2, 'Comedy|Crime|Drama|Mystery': 2, 'War': 13, 'Action|Adventure|Drama|Sci-Fi|War': 2, 'Documentary|Drama': 5, 'Comedy|Crime': 14, 'Drama|Romance|Western': 2, \"Children's|Drama\": 13, 'Horror|Mystery': 2, 'Drama|Film-Noir': 2, 'Sci-Fi|Thriller': 18, 'Action|Comedy|Sci-Fi|Thriller': 2, 'Mystery|Thriller': 21, 'Comedy|Fantasy': 7, 'Comedy|Thriller': 11, 'Action|Adventure|Comedy|Romance': 5, 'Drama': 844, 'Action|Adventure|Crime': 4, \"Children's|Fantasy\": 2, 'Crime|Drama|Thriller': 10, 'Comedy|Mystery|Romance': 2, 'Mystery|Sci-Fi': 3, 'Action|Crime': 15, 'Adventure|Sci-Fi': 9, \"Animation|Children's|Drama|Fantasy\": 2, \"Children's|Comedy|Mystery\": 3, 'Musical|War': 2, 'Animation|Sci-Fi': 4, 'Adventure|Drama': 11, 'Adventure|Comedy|Romance': 2, 'Crime|Film-Noir|Thriller': 5, 'Comedy|Fantasy|Romance|Sci-Fi': 2, 'Action|Adventure|Animation': 2, 'Comedy|Fantasy|Romance': 2, 'Drama|Thriller|War': 3, 'Animation|Musical': 4, 'Comedy|Romance': 143, 'Animation|Mystery': 2, \"Adventure|Animation|Children's|Musical\": 3, 'Adventure|Sci-Fi|Thriller': 3, 'Action|Adventure|Romance|Thriller': 3, 'Action|Drama|Romance|Thriller': 3, 'Action|Adventure': 26, 'Action|Adventure|Sci-Fi|Thriller|War': 2, \"Adventure|Children's|Comedy|Fantasy|Sci-Fi\": 2, 'Drama|Fantasy|Romance|Thriller': 2, 'Action|Horror': 6}\n",
      "                             rating\n",
      "genres                             \n",
      "Adventure|War              4.346107\n",
      "Film-Noir|Mystery          4.367424\n",
      "Animation                  4.394336\n",
      "Sci-Fi|War                 4.449890\n",
      "Animation|Comedy|Thriller  4.473837\n",
      "                                                 rating\n",
      "genres                                                 \n",
      "Action|Adventure|Children's                    1.318182\n",
      "Action|Children's                              1.742373\n",
      "Action|Adventure|Children's|Sci-Fi             1.874286\n",
      "Comedy|Film-Noir|Thriller                      2.000000\n",
      "Action|Adventure|Children's|Fantasy            2.090909\n",
      "Action|Sci-Fi|Western                          2.158537\n",
      "Action|Adventure|Mystery|Sci-Fi                2.238938\n",
      "Action|Adventure|Comedy|War                    2.276995\n",
      "Action|Adventure|Children's|Comedy             2.306950\n",
      "Action|Children's|Fantasy                      2.389517\n",
      "Adventure|Children's|Comedy|Fantasy|Romance    2.423611\n",
      "Children's|Comedy|Sci-Fi                       2.478411\n",
      "Adventure|Drama|Romance                        2.498084\n",
      "Action|Mystery|Sci-Fi|Thriller                 2.518072\n",
      "Comedy|Horror|Sci-Fi                           2.553846\n",
      "Action|Comedy|Fantasy                          2.563636\n",
      "Adventure|Comedy|Musical                       2.594480\n",
      "Adventure|Children's|Drama                     2.597813\n",
      "Action|Comedy|Musical|Sci-Fi                   2.614525\n",
      "Adventure|Animation|Children's|Comedy|Fantasy  2.619893\n",
      "Adventure|Sci-Fi|Thriller                      2.620178\n",
      "Crime|Horror|Thriller                          2.651515\n",
      "Adventure|Children's|Comedy                    2.700255\n",
      "Action|Adventure|Animation|Children's|Fantasy  2.703704\n",
      "Horror|Sci-Fi|Thriller                         2.726729\n",
      "Horror|Mystery                                 2.745098\n",
      "Action|Crime|Mystery|Thriller                  2.745455\n",
      "Action|Comedy|Romance|Thriller                 2.770053\n",
      "Children's|Fantasy                             2.777778\n",
      "Adventure|Animation|Children's|Fantasy         2.779412\n",
      "Action|Adventure|Crime|Thriller                2.782407\n",
      "Animation|Children's|Fantasy|War               2.810440\n",
      "Action|Comedy                                  2.831614\n",
      "Action|Drama|Romance|Thriller                  2.843709\n",
      "Children's|Sci-Fi                              2.849462\n",
      "Adventure|Children's|Sci-Fi                    2.854639\n",
      "Action|Drama|Thriller|War                      2.857639\n",
      "Animation|Children's|Comedy|Romance            2.875000\n",
      "Children's|Comedy|Western                      2.876833\n",
      "Action|Comedy|Sci-Fi|War                       2.900372\n",
      "Comedy|Drama|Sci-Fi                            2.906005\n",
      "Action|Drama|Western                           2.906250\n",
      "Adventure|Comedy|Romance                       2.910828\n",
      "Horror|Mystery|Thriller                        2.911619\n",
      "Action|Horror|Sci-Fi                           2.924899\n",
      "Action|Adventure|Crime                         2.925349\n",
      "Action|Adventure|Sci-Fi|Thriller|War           2.931034\n",
      "Adventure|Children's|Comedy|Fantasy|Sci-Fi     2.933014\n",
      "Action|Adventure|Drama|Romance                 2.950276\n",
      "Children's                                     2.951724\n"
     ]
    }
   ],
   "source": [
    "# YOUR CODE HERE\n",
    "#raise NotImplementedError()\n",
    "#avg_ratings = ratings.ix[ratings['rating'] >= 4, :].groupby('movie_id')[ ['rating'] ].mean()\n",
    "\n",
    "split_genres = movies[ 'genres'].str.split('|', expand = True)\n",
    "#split_genres = split_genres.to_frame()\n",
    "split_genres\n",
    "\n",
    "Action_genre = 0\n",
    "Adventure_genre = 0\n",
    "Animation_genre = 0\n",
    "Children_genre = 0  \n",
    "Comedy_genre = 0\n",
    "Crime_genre = 0\n",
    "Documentary_genre = 0\n",
    "Drama_genre = 0\n",
    "Fantasy_genre = 0\n",
    "Film_Noir_genre = 0\n",
    "Horror_genre = 0\n",
    "Musical_genre = 0\n",
    "Mystery_genre = 0\n",
    "Romance_genre = 0\n",
    "Sci_Fi_genre = 0\n",
    "Thriller_genre = 0\n",
    "War_genre = 0\n",
    "Western_genre = 0\n",
    "\n",
    "\n",
    "\n",
    "counts = {}\n",
    "\n",
    "for string in movies.genres:\n",
    "    \n",
    "    \n",
    "    if string not in counts:\n",
    "        counts[string] = 1\n",
    "        \n",
    "    if string in counts:\n",
    "        counts[string] += 1\n",
    "        \n",
    "print(counts)\n",
    "    \n",
    "\n",
    "data_merged_genre = pd.merge(ratings, movies, on = 'movie_id')\n",
    "data_merged_genre = data_merged_genre.sort_index()\n",
    "\n",
    "#.str.contains('Drama')\n",
    "#data_merged_genre['genres'].str.contains('Drama')\n",
    "#use .split?\n",
    "\n",
    "data_merged_genre = data_merged_genre.groupby('genres' )[ ['rating'] ].mean()\n",
    "print(data_merged_genre.sort_values(by = 'rating').tail())\n",
    "print(data_merged_genre.sort_values(by = 'rating').head(n = 50))"
   ]
  },
  {
   "cell_type": "code",
   "execution_count": null,
   "metadata": {
    "collapsed": true
   },
   "outputs": [],
   "source": []
  },
  {
   "cell_type": "markdown",
   "metadata": {
    "deletable": false,
    "nbgrader": {
     "checksum": "08fd58841dc116c017dd894977cd48dd",
     "grade": true,
     "grade_id": "genres_text",
     "locked": false,
     "points": 0,
     "solution": true
    }
   },
   "source": [
    "Ignoring mixed genres, the Animation genre had the highest average ratings. Also, ignoring mixed genres, the Children genre had\n",
    "the lowest average ratings."
   ]
  },
  {
   "cell_type": "markdown",
   "metadata": {
    "deletable": false,
    "nbgrader": {
     "checksum": "a047610b0620aadcacfc31cfaadc27db",
     "grade": false,
     "grade_id": "open_ended_question",
     "locked": true,
     "solution": false
    }
   },
   "source": [
    "## Question 4\n",
    "\n",
    "Formulate a question of your own that you can answer using this MovieLens data. State clearly what your question is and what your findings are. Bonus points are available if you find something interesting!\n",
    "\n",
    "**Tip:** You may find the `occupation` column of `users` to be a rich source of interesting questions. See the README file (/data/movielens/README) for information about how `occupation` is coded in the data."
   ]
  },
  {
   "cell_type": "code",
   "execution_count": 6,
   "metadata": {
    "collapsed": false,
    "deletable": false,
    "nbgrader": {
     "checksum": "e75544fb6f9ef711412b142c25f6e2b7",
     "grade": true,
     "grade_id": "open_ended",
     "locked": false,
     "points": 20,
     "solution": true
    }
   },
   "outputs": [
    {
     "data": {
      "text/html": [
       "<div>\n",
       "<table border=\"1\" class=\"dataframe\">\n",
       "  <thead>\n",
       "    <tr style=\"text-align: right;\">\n",
       "      <th></th>\n",
       "      <th>number of ratings</th>\n",
       "    </tr>\n",
       "    <tr>\n",
       "      <th>occupation</th>\n",
       "      <th></th>\n",
       "    </tr>\n",
       "  </thead>\n",
       "  <tbody>\n",
       "    <tr>\n",
       "      <th>0</th>\n",
       "      <td>130499</td>\n",
       "    </tr>\n",
       "    <tr>\n",
       "      <th>1</th>\n",
       "      <td>85351</td>\n",
       "    </tr>\n",
       "    <tr>\n",
       "      <th>2</th>\n",
       "      <td>50068</td>\n",
       "    </tr>\n",
       "    <tr>\n",
       "      <th>3</th>\n",
       "      <td>31623</td>\n",
       "    </tr>\n",
       "    <tr>\n",
       "      <th>4</th>\n",
       "      <td>131032</td>\n",
       "    </tr>\n",
       "    <tr>\n",
       "      <th>5</th>\n",
       "      <td>21850</td>\n",
       "    </tr>\n",
       "    <tr>\n",
       "      <th>6</th>\n",
       "      <td>37205</td>\n",
       "    </tr>\n",
       "    <tr>\n",
       "      <th>7</th>\n",
       "      <td>105425</td>\n",
       "    </tr>\n",
       "    <tr>\n",
       "      <th>8</th>\n",
       "      <td>2706</td>\n",
       "    </tr>\n",
       "    <tr>\n",
       "      <th>9</th>\n",
       "      <td>11345</td>\n",
       "    </tr>\n",
       "    <tr>\n",
       "      <th>10</th>\n",
       "      <td>23290</td>\n",
       "    </tr>\n",
       "    <tr>\n",
       "      <th>11</th>\n",
       "      <td>20563</td>\n",
       "    </tr>\n",
       "    <tr>\n",
       "      <th>12</th>\n",
       "      <td>57214</td>\n",
       "    </tr>\n",
       "    <tr>\n",
       "      <th>13</th>\n",
       "      <td>13754</td>\n",
       "    </tr>\n",
       "    <tr>\n",
       "      <th>14</th>\n",
       "      <td>49109</td>\n",
       "    </tr>\n",
       "    <tr>\n",
       "      <th>15</th>\n",
       "      <td>22951</td>\n",
       "    </tr>\n",
       "    <tr>\n",
       "      <th>16</th>\n",
       "      <td>46021</td>\n",
       "    </tr>\n",
       "    <tr>\n",
       "      <th>17</th>\n",
       "      <td>72816</td>\n",
       "    </tr>\n",
       "    <tr>\n",
       "      <th>18</th>\n",
       "      <td>12086</td>\n",
       "    </tr>\n",
       "    <tr>\n",
       "      <th>19</th>\n",
       "      <td>14904</td>\n",
       "    </tr>\n",
       "    <tr>\n",
       "      <th>20</th>\n",
       "      <td>60397</td>\n",
       "    </tr>\n",
       "  </tbody>\n",
       "</table>\n",
       "</div>"
      ],
      "text/plain": [
       "            number of ratings\n",
       "occupation                   \n",
       "0                      130499\n",
       "1                       85351\n",
       "2                       50068\n",
       "3                       31623\n",
       "4                      131032\n",
       "5                       21850\n",
       "6                       37205\n",
       "7                      105425\n",
       "8                        2706\n",
       "9                       11345\n",
       "10                      23290\n",
       "11                      20563\n",
       "12                      57214\n",
       "13                      13754\n",
       "14                      49109\n",
       "15                      22951\n",
       "16                      46021\n",
       "17                      72816\n",
       "18                      12086\n",
       "19                      14904\n",
       "20                      60397"
      ]
     },
     "execution_count": 6,
     "metadata": {},
     "output_type": "execute_result"
    }
   ],
   "source": [
    "# YOUR CODE HERE\n",
    "#raise NotImplementedError()\n",
    "\n",
    "num_ratings_by_occupation = users.merge(ratings, on = 'user_id').groupby('occupation')[['rating']].count()\n",
    "num_ratings_by_occupation.columns = ['number of ratings']\n",
    "num_ratings_by_occupation"
   ]
  },
  {
   "cell_type": "markdown",
   "metadata": {
    "deletable": false,
    "nbgrader": {
     "checksum": "c7f920f41854bd18f1d71c6159697761",
     "grade": true,
     "grade_id": "open_ended_text",
     "locked": false,
     "points": 0,
     "solution": true
    }
   },
   "source": [
    "Q: How many ratings did each group of people by occupation give? Which occupation had people that gave the most ratings? \n",
    "\n",
    "Users(people) with occupation 4 rated the most amount of movies as a group. One could speculate that those with occupation 4 were more willing to rate a movie that they watched. It is also possible that the movies those in occupation 4 chose to watch tended to provoke strong feelings."
   ]
  },
  {
   "cell_type": "markdown",
   "metadata": {},
   "source": [
    "## Submitting this Lab\n",
    "\n",
    "Now, restart your kernel and re-run your entire notebook from beginning to end. Make sure there are no errors or bugs. When you have verified this, open the Terminal on JupyterHub and type \n",
    "\n",
    "`nbgrader submit Lab-04-14 --course dlsun`\n",
    "\n",
    "to submit this lab."
   ]
  }
 ],
 "metadata": {
  "kernelspec": {
   "display_name": "Python 3",
   "language": "python",
   "name": "python3"
  },
  "language_info": {
   "codemirror_mode": {
    "name": "ipython",
    "version": 3
   },
   "file_extension": ".py",
   "mimetype": "text/x-python",
   "name": "python",
   "nbconvert_exporter": "python",
   "pygments_lexer": "ipython3",
   "version": "3.4.3"
  }
 },
 "nbformat": 4,
 "nbformat_minor": 0
}
