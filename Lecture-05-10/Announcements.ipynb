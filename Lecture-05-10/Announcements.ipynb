{
 "cells": [
  {
   "cell_type": "markdown",
   "metadata": {},
   "source": [
    "# Announcements\n",
    "## Tuesday, May 10"
   ]
  },
  {
   "cell_type": "markdown",
   "metadata": {},
   "source": [
    "## In-Class Project 1\n",
    "\n",
    "- I'm almost done grading! I will try to get it done during the lab time today.\n",
    "- Average looks to be around 70 out of 90.\n",
    "- Exact grading scale will be determined at the end of the course, but looks to be: 80+ for an A, 65+ for a B, 45+ for a C.\n",
    "- Remember, your lowest in-class project gets downweighted and counts for only 5% of your grade."
   ]
  },
  {
   "cell_type": "markdown",
   "metadata": {},
   "source": [
    "## In-Class Project 2 (next class)\n",
    "\n",
    "- I will assign you to a partner at the beginning of class.\n",
    "- Only one of you will submit the lab. You will take turns typing with the other person looking over the shoulder (pair programming)."
   ]
  },
  {
   "cell_type": "markdown",
   "metadata": {},
   "source": [
    "## Labs Schedule\n",
    "\n",
    "- Lab on Web Scraping (and a bit of Machine Learning) released today.\n",
    "- No lab will be released next class.\n",
    "- Use the time to think about your final project!"
   ]
  }
 ],
 "metadata": {
  "kernelspec": {
   "display_name": "Python 3",
   "language": "python",
   "name": "python3"
  },
  "language_info": {
   "codemirror_mode": {
    "name": "ipython",
    "version": 3
   },
   "file_extension": ".py",
   "mimetype": "text/x-python",
   "name": "python",
   "nbconvert_exporter": "python",
   "pygments_lexer": "ipython3",
   "version": "3.4.3"
  }
 },
 "nbformat": 4,
 "nbformat_minor": 0
}
