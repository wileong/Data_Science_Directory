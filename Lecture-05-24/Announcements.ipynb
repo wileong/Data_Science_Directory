{
 "cells": [
  {
   "cell_type": "markdown",
   "metadata": {},
   "source": [
    "# Announcements\n",
    "\n",
    "## Tuesday, May 23\n",
    "\n",
    "## Course Evaluations\n",
    "\n",
    "Please fill out the [course evaluations](http://sail.calpoly.edu/). This is the first time that I've taught Data 301 and only the second time it's been taught. Your feedback will determine how Data 301 is taught in the future -- not just by me, but by other professors as well.\n",
    "\n",
    "## In-Class Project 3\n",
    "\n",
    "- Next Tuesday, May 30.\n",
    "- The in-class project will be a prediction competition.\n",
    "- In the first 80 minutes, you will complete a few straightforward tasks: build classification models (e.g., logistic regression, $k$-nearest neighbors, decision trees), use cross-validation, estimate precision / recall, etc. 5/10-now\n",
    "- In the last 90 minutes, you will work with a partner (of your choice) to build the best predictive model that you can.\n",
    "- The three teams that achieve the smallest prediction errors (on held-out data) will earn extra credit.\n",
    "\n",
    "## Agenda for Class Today\n",
    "\n",
    "- Multiple regression example\n",
    "- Classification"
   ]
  },
  {
   "cell_type": "code",
   "execution_count": null,
   "metadata": {
    "collapsed": true
   },
   "outputs": [],
   "source": []
  }
 ],
 "metadata": {
  "kernelspec": {
   "display_name": "Python 3",
   "language": "python",
   "name": "python3"
  },
  "language_info": {
   "codemirror_mode": {
    "name": "ipython",
    "version": 3
   },
   "file_extension": ".py",
   "mimetype": "text/x-python",
   "name": "python",
   "nbconvert_exporter": "python",
   "pygments_lexer": "ipython3",
   "version": "3.4.3"
  }
 },
 "nbformat": 4,
 "nbformat_minor": 0
}
