{
 "cells": [
  {
   "cell_type": "code",
   "execution_count": 3,
   "metadata": {
    "collapsed": true
   },
   "outputs": [],
   "source": [
    "import numpy as np\n",
    "import pandas as pd\n",
    "import matplotlib.pyplot as plt"
   ]
  },
  {
   "cell_type": "code",
   "execution_count": 4,
   "metadata": {
    "collapsed": true
   },
   "outputs": [],
   "source": [
    "%matplotlib inline"
   ]
  },
  {
   "cell_type": "code",
   "execution_count": 5,
   "metadata": {
    "collapsed": true
   },
   "outputs": [],
   "source": [
    "data = pd.read_csv(\"/data/titanic/train.csv\")"
   ]
  },
  {
   "cell_type": "code",
   "execution_count": 6,
   "metadata": {
    "collapsed": false
   },
   "outputs": [],
   "source": [
    "plt.style.use(\"ggplot\")"
   ]
  },
  {
   "cell_type": "markdown",
   "metadata": {
    "collapsed": true
   },
   "source": [
    "## In-Class Exercise 1\n",
    "\n",
    "Add the fitted logistic regression line to the scatterplot of Fare vs. \n",
    "Survival.\n",
    "\t\n",
    "If you have time, estimate the test error of this model using cross validation."
   ]
  },
  {
   "cell_type": "code",
   "execution_count": 21,
   "metadata": {
    "collapsed": false
   },
   "outputs": [
    {
     "data": {
      "text/plain": [
       "[<matplotlib.lines.Line2D at 0x7f1e56d73a90>]"
      ]
     },
     "execution_count": 21,
     "metadata": {},
     "output_type": "execute_result"
    },
    {
     "data": {
      "image/png": "[encoded data removed]",
      "text/plain": [
       "<matplotlib.figure.Figure at 0x7f1e56d73048>"
      ]
     },
     "metadata": {},
     "output_type": "display_data"
    }
   ],
   "source": [
    "data.plot.scatter(x=\"Fare\", y=\"Survived\")\n",
    "#shouldnt try to fit linear reg because u cant be 0.4 survived\n",
    "#model shouldn't contain outputs above 1 or below 0\n",
    "\n",
    "#use logistic regression to model the log-odds that y = 1\n",
    "\n",
    "#odds = p(y=1)/p(y=0) = prob of success/prob of failure\n",
    "#log odds can go from neg inf to pos inf\n",
    "#can solve for p(y=1)\n",
    "\n",
    "# we have to convert probability to classication whether or not they survived.\n",
    "\n",
    "#model.predict_proba() gives probabilities\n",
    "#model.predict() gives 0 or 1\n",
    "\n",
    "from sklearn.linear_model import LogisticRegression\n",
    "model = LogisticRegression()\n",
    "\n",
    "X = data[['Fare']]\n",
    "y = data['Survived']\n",
    "\n",
    "model.fit(X,y)\n",
    "\n",
    "x_test = np.linspace(0,550, 100)\n",
    "\n",
    "    \n",
    "X_test = pd.DataFrame(x_test)\n",
    "\n",
    "y_test = model.predict(X_test)\n",
    "probs = model.predict_proba(X_test)\n",
    "#probs hascols that contain prob of surviving and not surviving\n",
    "\n",
    "plt.plot(X_test,probs[:,1])"
   ]
  },
  {
   "cell_type": "code",
   "execution_count": 24,
   "metadata": {
    "collapsed": false
   },
   "outputs": [
    {
     "data": {
      "text/plain": [
       "0.66341643997893995"
      ]
     },
     "execution_count": 24,
     "metadata": {},
     "output_type": "execute_result"
    }
   ],
   "source": [
    "from sklearn.cross_validation import cross_val_score\n",
    "\n",
    "cross_val_score(model,X,y, cv=8, scoring =\"accuracy\").mean()\n",
    "# can use scoring = 'recall', 'f1', 'precise'\n",
    "#2/3 of predictions were correct; accuracy for predicting successful prediction\n",
    "\n",
    "#precision: what percentage of times I hit the target with a dart?\n",
    "#recall: out of number of cars I want to recall, how many did I actually get back\n",
    "#accuracy: #correct predictions / total # of predictions\n",
    "\n",
    "#use harmonic mean(f1) to find avg of precision and recall<=================================\n",
    "#the mean is attracted to the lower amount basically\n",
    "\n",
    "#to compare models, choose one with BIGGEST F1 score"
   ]
  },
  {
   "cell_type": "markdown",
   "metadata": {},
   "source": [
    "## In-Class Exercise 2\n",
    "\n",
    "Fit a $10$-nearest neighbors classifier to this data. Then, use the fitted model to predict whether a 40-year old male passenger who paid 50 pounds to ride in first-class survived.\n",
    "\t\n",
    "If you have time, estimate the test error of this model using cross validation."
   ]
  },
  {
   "cell_type": "code",
   "execution_count": 33,
   "metadata": {
    "collapsed": false
   },
   "outputs": [
    {
     "data": {
      "text/plain": [
       "KNeighborsClassifier(algorithm='auto', leaf_size=30, metric='minkowski',\n",
       "           metric_params=None, n_jobs=1, n_neighbors=10, p=2,\n",
       "           weights='uniform')"
      ]
     },
     "execution_count": 33,
     "metadata": {},
     "output_type": "execute_result"
    }
   ],
   "source": [
    "#input vars: Pclass,sex,age,fare\n",
    "\n",
    "from sklearn.neighbors import KNeighborsClassifier\n",
    "model = KNeighborsClassifier(n_neighbors = 10)\n",
    "\n",
    "data_sub = data[['Survived','Pclass','Sex','Age', 'Fare']].dropna()\n",
    "data_sub['Male'] = (data['Sex'] =='male') * 1\n",
    "\n",
    "#now convert Sex to quantitative, but this time sex is binary\n",
    "X = data_sub[['Pclass','Male','Age','Fare']]\n",
    "y = data_sub['Survived']\n",
    "\n",
    "\n"
   ]
  },
  {
   "cell_type": "code",
   "execution_count": 40,
   "metadata": {
    "collapsed": false
   },
   "outputs": [
    {
     "data": {
      "text/plain": [
       "array([[ 0.4,  0.6],\n",
       "       [ 0.9,  0.1]])"
      ]
     },
     "execution_count": 40,
     "metadata": {},
     "output_type": "execute_result"
    }
   ],
   "source": [
    "model.predict_proba(pd.DataFrame([\n",
    "            \n",
    "            [1,1,40,50],\n",
    "            [3,1,22,7.25]\n",
    "                \n",
    "                ]\n",
    "        ))\n",
    "\n",
    "#[1] ...if elt is 1, it means that particular demographic[person] survived\n",
    "#something WRONG...wait for updated slides"
   ]
  },
  {
   "cell_type": "markdown",
   "metadata": {},
   "source": [
    "## In-Class Exercise 3\n",
    "\n",
    "Fit a decision tree classifier to this data using the input variables. Your tree should \n",
    "be at least 4 levels deep. Then, use the fitted model to predict whether a \n",
    "40-year old male passenger who paid 50 pounds to ride in first-class survived.\n",
    "\t\n",
    "If you have extra time, print out your tree."
   ]
  },
  {
   "cell_type": "code",
   "execution_count": null,
   "metadata": {
    "collapsed": true
   },
   "outputs": [],
   "source": []
  },
  {
   "cell_type": "code",
   "execution_count": 36,
   "metadata": {
    "collapsed": true
   },
   "outputs": [],
   "source": [
    "#DEcission tree classifier============================================="
   ]
  },
  {
   "cell_type": "code",
   "execution_count": null,
   "metadata": {
    "collapsed": true
   },
   "outputs": [],
   "source": []
  },
  {
   "cell_type": "code",
   "execution_count": null,
   "metadata": {
    "collapsed": true
   },
   "outputs": [],
   "source": []
  },
  {
   "cell_type": "code",
   "execution_count": 1,
   "metadata": {
    "collapsed": true
   },
   "outputs": [],
   "source": [
    "#================today we will look at classification problems where y is categorical and where y is binary."
   ]
  },
  {
   "cell_type": "code",
   "execution_count": null,
   "metadata": {
    "collapsed": true
   },
   "outputs": [],
   "source": [
    "#methods: logistic regression, k-nearest neighbors, decision trees\n",
    "\n",
    "#graph will have only two possible y's."
   ]
  }
 ],
 "metadata": {
  "kernelspec": {
   "display_name": "Python 3",
   "language": "python",
   "name": "python3"
  },
  "language_info": {
   "codemirror_mode": {
    "name": "ipython",
    "version": 3
   },
   "file_extension": ".py",
   "mimetype": "text/x-python",
   "name": "python",
   "nbconvert_exporter": "python",
   "pygments_lexer": "ipython3",
   "version": "3.4.3"
  }
 },
 "nbformat": 4,
 "nbformat_minor": 0
}
