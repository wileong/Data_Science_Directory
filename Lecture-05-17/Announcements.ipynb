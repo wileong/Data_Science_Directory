{
 "cells": [
  {
   "cell_type": "markdown",
   "metadata": {},
   "source": [
    "# Announcements\n",
    "\n",
    "## Tuesday, May 17\n",
    "\n",
    "- Lab-04-26 (Flight Delays) and Lab-04-28 (MapReduce) have been graded and returned.\n",
    "- Remaining assignments for the quarter:\n",
    "    - Lab-05-17 covers regression (due Tuesday, May 24)\n",
    "    - Lab-05-26 covers clustering and PCA (due Tuesday, June 7)\n",
    "    - Project-05-31 covers classification (will contain an individual and a group component)\n",
    "    - Final project is Thursday, June 9 7AM.\n",
    "    \n",
    "    -graded less on code and more on presentation."
   ]
  },
  {
   "cell_type": "code",
   "execution_count": null,
   "metadata": {
    "collapsed": true
   },
   "outputs": [],
   "source": []
  }
 ],
 "metadata": {
  "kernelspec": {
   "display_name": "Python 3",
   "language": "python",
   "name": "python3"
  },
  "language_info": {
   "codemirror_mode": {
    "name": "ipython",
    "version": 3
   },
   "file_extension": ".py",
   "mimetype": "text/x-python",
   "name": "python",
   "nbconvert_exporter": "python",
   "pygments_lexer": "ipython3",
   "version": "3.4.3"
  }
 },
 "nbformat": 4,
 "nbformat_minor": 0
}
