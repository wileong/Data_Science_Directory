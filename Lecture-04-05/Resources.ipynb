{
 "cells": [
  {
   "cell_type": "markdown",
   "metadata": {},
   "source": [
    "# Resources\n",
    "\n",
    "- Pandas Homepage: http://pandas.pydata.org/\n",
    "- [Lecture by Wes McKinney (creator of Pandas) on Using Pandas](http://pyvideo.org/video/970/pydata-data-analysis-in-python-with-pandas)\n",
    "- Chapters 5-8 of the textbook, _Python for Data Science for Dummies_ (Chapters 1-4 should be review)."
   ]
  },
  {
   "cell_type": "markdown",
   "metadata": {},
   "source": [
    "# Piazza Forum\n",
    "\n",
    "Piazza is a forum that allows students to post questions and other students and instructors to respond. I have enrolled most of you in the Piazza forum for this class already, and you should have received an e-mail. But in case you didn't, here is the [signup link](piazza.com/calpoly/spring2016/data301).\n",
    "\n",
    "If you are already signed up, here is the [link to the Piazza forum for Data 301 itself](piazza.com/calpoly/spring2016/data301/home)."
   ]
  }
 ],
 "metadata": {
  "kernelspec": {
   "display_name": "Python 3",
   "language": "python",
   "name": "python3"
  },
  "language_info": {
   "codemirror_mode": {
    "name": "ipython",
    "version": 3
   },
   "file_extension": ".py",
   "mimetype": "text/x-python",
   "name": "python",
   "nbconvert_exporter": "python",
   "pygments_lexer": "ipython3",
   "version": "3.4.3"
  }
 },
 "nbformat": 4,
 "nbformat_minor": 0
}
