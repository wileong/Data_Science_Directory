{
 "cells": [
  {
   "cell_type": "markdown",
   "metadata": {},
   "source": [
    "# Announcements\n",
    "\n",
    "## Thurs, May 26\n",
    "\n",
    "## Course Evaluations\n",
    "\n",
    "Please don't forget to fill out your course evaluations here: http://sail.calpoly.edu/. The deadline for the evaluations is next Friday at 11:59 PM.\n",
    "\n",
    "## In-Class Project 3\n",
    "\n",
    "- This coming Tuesday, May 31.\n",
    "- Focus is machine learning, specifically classification.\n",
    "- You can either find a partner before class on Tuesday or wait to be assigned a partner in class Tuesday.\n",
    "\n",
    "## Last Lab\n",
    "\n",
    "The last lab is released today. It is due Tuesday, June 7. Don't worry, it's quite short, and many of you will likely finish it during lab time.\n",
    "\n",
    "## Final Project Presentations\n",
    "\n",
    "- The final project presentations will take place during the scheduled final exam for this class on Thursday, June 9.\n",
    "- The presentations for the AM section will start at 7:30 AM instead of at 7 AM, since we only have 24 students.\n",
    "- If you are working by yourself, you will make a 4-minute presentation, with 1 minute for questions.\n",
    "- If you are working with a partner, the two of you will make an 8-minute presentation, with 2 minutes for questions.\n",
    "\n",
    "\n",
    "4 min presentation and 1 minute for question"
   ]
  },
  {
   "cell_type": "code",
   "execution_count": null,
   "metadata": {
    "collapsed": true
   },
   "outputs": [],
   "source": []
  }
 ],
 "metadata": {
  "kernelspec": {
   "display_name": "Python 3",
   "language": "python",
   "name": "python3"
  },
  "language_info": {
   "codemirror_mode": {
    "name": "ipython",
    "version": 3
   },
   "file_extension": ".py",
   "mimetype": "text/x-python",
   "name": "python",
   "nbconvert_exporter": "python",
   "pygments_lexer": "ipython3",
   "version": "3.4.3"
  }
 },
 "nbformat": 4,
 "nbformat_minor": 0
}
