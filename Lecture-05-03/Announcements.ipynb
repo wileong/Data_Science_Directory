{
 "cells": [
  {
   "cell_type": "markdown",
   "metadata": {},
   "source": [
    "# Announcements\n",
    "## Tuesday May 3"
   ]
  },
  {
   "cell_type": "markdown",
   "metadata": {},
   "source": [
    "## Three Graded Labs\n",
    "\n",
    "- Lab-04-12 (Stanford Online Databases), Lab-04-14 (MovieLens), and Lab-04-19 (Visualization) have all been graded and returned.\n",
    "- Please come see me if you have any questions about the grading (especially if you lost points because you had a misplaced import statement.)\n",
    "\n",
    "\n",
    "## More Sources of Data for the Final Project\n",
    "\n",
    "- Checkout the [Datasets Archive](https://www.reddit.com/r/datasets) on Reddit.\n",
    "- A compilation of [Awesome Public Datasets](https://github.com/caesar0301/awesome-public-datasets).\n",
    "- [New York Times Developer API](http://developer.nytimes.com/page). (You'll work with this on today's lab.)\n",
    "\n",
    "Please feel free to come chat with me about your ideas for the final project."
   ]
  }
 ],
 "metadata": {
  "kernelspec": {
   "display_name": "Python 3",
   "language": "python",
   "name": "python3"
  },
  "language_info": {
   "codemirror_mode": {
    "name": "ipython",
    "version": 3
   },
   "file_extension": ".py",
   "mimetype": "text/x-python",
   "name": "python",
   "nbconvert_exporter": "python",
   "pygments_lexer": "ipython3",
   "version": "3.4.3"
  }
 },
 "nbformat": 4,
 "nbformat_minor": 0
}
