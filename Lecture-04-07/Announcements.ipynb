{
 "cells": [
  {
   "cell_type": "markdown",
   "metadata": {},
   "source": [
    "# Announcements"
   ]
  },
  {
   "cell_type": "markdown",
   "metadata": {},
   "source": [
    "## Next Few Classes\n",
    "\n",
    "- No class Tuesday, April 12 because I will be out of town. (See below for work I expect you to complete on your own.)\n",
    "- Possibly no class Thursday, April 14 because of the strike. We will know whether the strike is happening by tomorrow. I will e-mail you over this weekend with independent work to do if the strike is on.\n",
    "- There will be class Tuesday, April 19, even if there is a strike."
   ]
  },
  {
   "cell_type": "markdown",
   "metadata": {},
   "source": [
    "## Independent Work on Tuesday, April 12\n",
    "\n",
    "Please complete the following modules from [Stanford's online databases class](https://lagunita.stanford.edu/courses/DB/2014/SelfPaced/about).\n",
    "\n",
    "- Introduction and Relational Databases\n",
    "- XML Data\n",
    "- JSON Data\n",
    "- SQL\n",
    "\n",
    "These modules include videos and (except for the first module) exercises. You will get a Statement of Accomplishment when you finish each module. At the bottom of each Statement of Accomplishment is a verification URL. Please run the following command from the terminal:\n",
    "\n",
    "`nbgrader fetch Lab-04-12 --course dlsun`\n",
    "\n",
    "and paste these verification URLs into the appropriate cells in the Jupyter notebook, then submit this lab to earn credit.\n",
    "\n",
    "I expect this assignment to take 8-12 hours so please start early. (Use the 3 hours of class time that you now have free on Tuesday!) Because this is a longer assignment, you will have **2 weeks** to do this. It is due Tuesday, April 26."
   ]
  },
  {
   "cell_type": "markdown",
   "metadata": {},
   "source": [
    "## Lab from April 5\n",
    "\n",
    "Remember that this lab is due next Tuesday, April 12 at 8 AM. Please try to do everything using vectorized operations. You should not need a single `for` loop for this lab. Yes, you should be able to calculate how much each shark invested just by adding, subtracting, multiplying, and dividing Series (and using vectorized functions like `.sum()`)!\n",
    "\n",
    "**Tips:**\n",
    "- If you are getting some weird error about not being able to modify a view, try making a copy of the Pandas data frame.\n",
    "- You can use `data.ix[:, 'Corcoran':'Harrington']` to get all of the columns for the (regular) sharks.\n",
    "-for the confidence interval q, you need to compute a confidence interval for a proportion."
   ]
  },
  {
   "cell_type": "markdown",
   "metadata": {},
   "source": [
    "## Reading\n",
    "\n",
    "- Chapters 5-8 in *Python for Data Science for Dummies*.\n",
    "- Hadley Wickham, [Tidy Data](http://vita.had.co.nz/papers/tidy-data.pdf), *Journal of Statistical Software*, 2015. (Ignore the R bits.)"
   ]
  }
 ],
 "metadata": {
  "kernelspec": {
   "display_name": "Python 3",
   "language": "python",
   "name": "python3"
  },
  "language_info": {
   "codemirror_mode": {
    "name": "ipython",
    "version": 3
   },
   "file_extension": ".py",
   "mimetype": "text/x-python",
   "name": "python",
   "nbconvert_exporter": "python",
   "pygments_lexer": "ipython3",
   "version": "3.4.3"
  }
 },
 "nbformat": 4,
 "nbformat_minor": 0
}
