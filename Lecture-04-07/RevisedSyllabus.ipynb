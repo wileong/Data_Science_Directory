{
 "cells": [
  {
   "cell_type": "markdown",
   "metadata": {
    "collapsed": true
   },
   "source": [
    "# Data 301: Introduction to Data Science\n",
    "\n",
    "- Section 1: TR 8:10-11 AM in 180-265\n",
    "- Section 2: TR 1:10-4 PM in 180-265"
   ]
  },
  {
   "cell_type": "markdown",
   "metadata": {},
   "source": [
    "## My Information\n",
    "\n",
    "- Instructor: Dr. Dennis Sun\n",
    "- Office: Faculty Offices East, 25-105\n",
    "- Office Hours: Tuesdays 4:10-5 PM, Wednesdays 2:10-4 PM\n",
    "- Contact: dsun09@calpoly.edu"
   ]
  },
  {
   "cell_type": "markdown",
   "metadata": {},
   "source": [
    "## About Me\n",
    "\n",
    "- I joined Cal Poly as an assistant professor of statistics in 2016.\n",
    "- I worked full-time at Google as a data scientist for 6 months before joining Cal Poly. I continue to work there part-time.\n",
    "- Before that, I did my Ph.D. in Statistics at Stanford, and before that, my A.B. in Music and Mathematics at Harvard."
   ]
  },
  {
   "cell_type": "markdown",
   "metadata": {
    "collapsed": true
   },
   "source": [
    "## What is Data Science?\n",
    "\n",
    "- No one really knows!\n",
    "- In my opinion, data science includes:\n",
    "     * Methods for organizing messy, complex, and/or large data.\n",
    "     * Principles of representing and visualizing data.\n",
    "- In this class, we will learn to:\n",
    "     * Handle messy data, such as raw text.\n",
    "     * Handle complex data, such as hierarchical data stored in XML or JSON format.\n",
    "     * Handle large data, such as that stored in a database.\n",
    "     * Summarize data using the split-apply-combine paradigm.\n",
    "     * Design effective visualizations."
   ]
  },
  {
   "cell_type": "markdown",
   "metadata": {},
   "source": [
    "## Syllabus\n",
    "\n",
    "Week | Tuesday | Thursday \n",
    ":---:|:-------:|:--------:\n",
    "1 | Data Structures in Python, String Manipulations | **NO CLASS** (César Chávez Day)\n",
    "2 | Tabular Data, Data Types, Pandas | Data Conditioning, Slicing, Split-Apply-Combine\n",
    "3 | **NO CLASS** (out of town), Stanford Online Databases Course | Merging and Concatenating Data (possibly no class if there is a strike)\n",
    "4 | Data Visualization, Matplotlib (there will be class, regardless of strike) | In-Class Project 1\n",
    "5 | Big Data, Databases, SQL | MapReduce and Parallelization\n",
    "6 | Hierarchical Data, XML, JSON | Web Scraping\n",
    "7 | In-Class Project 2 | Supervised Learning and Linear Regression\n",
    "8 | Overfitting, Cross-Validation | Nonlinear Regression: $K$-Nearest Neighbors, Decision Trees\n",
    "9 | Classification: $K$-Nearest Neighbors, Decision Trees, Logistic Regression | In-Class Project 3\n",
    "10 | Unsupervised Learning: Clustering | Dimensionality Reduction and PCA"
   ]
  },
  {
   "cell_type": "markdown",
   "metadata": {},
   "source": [
    "## Course Structure\n",
    "\n",
    "- Each class will consist of a ~50 minute lecture, followed by a 10 minute break, followed by a ~120 minute lab.\n",
    "- Whatever you don't finish becomes homework.\n",
    "- Three times during the quarter, we will have an in-class project. I will provide a data set with some questions, and you will have to complete the analysis in the time allotted. (This is like a lab exam.)\n",
    "- There will be a final project in place of a final exam. For the final project, you choose a data set and conduct an analysis from start to finish. Presentations will be during the scheduled exam time for this course."
   ]
  },
  {
   "cell_type": "markdown",
   "metadata": {},
   "source": [
    "## Grading\n",
    "\n",
    "- Homework: 30%\n",
    "- 3 In-Class Projects: 25% (Best 2 scores -- 10% each; lowest score -- 5%.)\n",
    "- Final Project: 40%\n",
    "- Participation: 5% (includes in-class and Piazza participation)"
   ]
  }
 ],
 "metadata": {
  "kernelspec": {
   "display_name": "Python 3",
   "language": "python",
   "name": "python3"
  },
  "language_info": {
   "codemirror_mode": {
    "name": "ipython",
    "version": 3
   },
   "file_extension": ".py",
   "mimetype": "text/x-python",
   "name": "python",
   "nbconvert_exporter": "python",
   "pygments_lexer": "ipython3",
   "version": "3.4.3"
  }
 },
 "nbformat": 4,
 "nbformat_minor": 0
}
