{
 "cells": [
  {
   "cell_type": "code",
   "execution_count": 1,
   "metadata": {
    "collapsed": true
   },
   "outputs": [],
   "source": [
    "#Math behind PCA\n",
    "\n",
    "#dot products take a point and 'projects it down'\n",
    "\n",
    "# can take sum of squares of dot products to maximize variance in datapoints\n",
    "\n",
    "# v is the direction being pointed to, not the length of direction"
   ]
  },
  {
   "cell_type": "code",
   "execution_count": 2,
   "metadata": {
    "collapsed": true
   },
   "outputs": [],
   "source": [
    "#principal components analysis in 3D\n",
    "\n",
    "#used to find most 2 interesting direction in data\n",
    "\n",
    "#centered around  (0,0,0)\n",
    "\n",
    "#project 3d points down to PLANE[2D]\n",
    "\n",
    "#now data is 2d"
   ]
  },
  {
   "cell_type": "code",
   "execution_count": null,
   "metadata": {
    "collapsed": true
   },
   "outputs": [],
   "source": [
    "import pandas as pd\n",
    "import numpy as np\n",
    "data = pd.read_csv(\"/data/wines/train.csv\")"
   ]
  },
  {
   "cell_type": "code",
   "execution_count": 3,
   "metadata": {
    "collapsed": false
   },
   "outputs": [
    {
     "ename": "SyntaxError",
     "evalue": "keyword can't be an expression (<ipython-input-3-5874127d2729>, line 4)",
     "output_type": "error",
     "traceback": [
      "\u001b[1;36m  File \u001b[1;32m\"<ipython-input-3-5874127d2729>\"\u001b[1;36m, line \u001b[1;32m4\u001b[0m\n\u001b[1;33m    model = PCA(n-components = 2)\u001b[0m\n\u001b[1;37m               ^\u001b[0m\n\u001b[1;31mSyntaxError\u001b[0m\u001b[1;31m:\u001b[0m keyword can't be an expression\n"
     ]
    }
   ],
   "source": [
    "#PCA in scikit learn\n",
    "\n",
    "from sklearn.decomposition import PCA\n",
    "model = PCA(n-components = 2)\n",
    "model.fit(X)\n",
    "scores = model.transform(X)\n",
    "\n",
    "plt.plot(scores[:,0], scores[:,1], '.') # first princ component, second princ component; centers data for you"
   ]
  },
  {
   "cell_type": "markdown",
   "metadata": {},
   "source": [
    "# In class exercise\n",
    "\n",
    "#find the first two principal components of the 12 input variables in the wine data and use this to visualize the wine data"
   ]
  },
  {
   "cell_type": "code",
   "execution_count": null,
   "metadata": {
    "collapsed": true
   },
   "outputs": [],
   "source": [
    "#what a principal component is:\n",
    "\n"
   ]
  }
 ],
 "metadata": {
  "kernelspec": {
   "display_name": "Python 3",
   "language": "python",
   "name": "python3"
  },
  "language_info": {
   "codemirror_mode": {
    "name": "ipython",
    "version": 3
   },
   "file_extension": ".py",
   "mimetype": "text/x-python",
   "name": "python",
   "nbconvert_exporter": "python",
   "pygments_lexer": "ipython3",
   "version": "3.4.3"
  }
 },
 "nbformat": 4,
 "nbformat_minor": 0
}
