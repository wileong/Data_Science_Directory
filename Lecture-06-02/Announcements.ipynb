{
 "cells": [
  {
   "cell_type": "markdown",
   "metadata": {},
   "source": [
    "# Announcements\n",
    "\n",
    "## Thursday, June 2"
   ]
  },
  {
   "cell_type": "markdown",
   "metadata": {},
   "source": [
    "## Course Evaluations\n",
    "\n",
    "Please don't forget to fill out the course evaluations: http://sail.calpoly.edu/. The deadline to submit these is tomorrow at midnight."
   ]
  },
  {
   "cell_type": "markdown",
   "metadata": {},
   "source": [
    "## Last Lab\n",
    "\n",
    "Don't forget: Lab-05-26 (released last Thursday) is due Tuesday. But hopefully you can finish it before the end of class today."
   ]
  },
  {
   "cell_type": "markdown",
   "metadata": {},
   "source": [
    "## Final Project\n",
    "\n",
    "- Final projects are due next Thursday at 7 AM.\n",
    "- The projects will be submitted using nbgrader. Pull the `Final-Project` assignment for complete instructions on how to submit the project:\n",
    "\n",
    "`nbgrader fetch Final-Project --course dlsun`\n",
    "- Morning section presentations are 7:30-10 AM.\n",
    "- Afternoon section presentations are 1-4 PM.\n",
    "- 5 minutes for individual presentations and 10 minutes for pair presentations.\n",
    "- You will be asked to provide feedback on your peers' presentations. Details will be given the day of the presentations.\n",
    "- Final project grades will be based mostly on the content of the project, but you will also be judged partly on your presentation delivery and your participation in the presentation session."
   ]
  }
 ],
 "metadata": {
  "kernelspec": {
   "display_name": "Python 3",
   "language": "python",
   "name": "python3"
  },
  "language_info": {
   "codemirror_mode": {
    "name": "ipython",
    "version": 3
   },
   "file_extension": ".py",
   "mimetype": "text/x-python",
   "name": "python",
   "nbconvert_exporter": "python",
   "pygments_lexer": "ipython3",
   "version": "3.4.3"
  }
 },
 "nbformat": 4,
 "nbformat_minor": 0
}
