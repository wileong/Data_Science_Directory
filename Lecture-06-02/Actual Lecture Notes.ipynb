{
 "cells": [
  {
   "cell_type": "code",
   "execution_count": 1,
   "metadata": {
    "collapsed": true
   },
   "outputs": [],
   "source": [
    "import pandas as pd\n",
    "import numpy as np"
   ]
  },
  {
   "cell_type": "code",
   "execution_count": 2,
   "metadata": {
    "collapsed": true
   },
   "outputs": [],
   "source": [
    "import matplotlib.pyplot as plt\n",
    "%matplotlib inline"
   ]
  },
  {
   "cell_type": "code",
   "execution_count": 3,
   "metadata": {
    "collapsed": true
   },
   "outputs": [],
   "source": [
    "data = pd.read_csv(\"/data/wines/train.csv\")"
   ]
  },
  {
   "cell_type": "code",
   "execution_count": 4,
   "metadata": {
    "collapsed": true
   },
   "outputs": [],
   "source": [
    "X = data.drop([\"type\", \"quality\"], axis=1)\n",
    "\n",
    "# convert wine type to a numeric variable\n",
    "X[\"red\"] = 1. * (data[\"type\"] == \"red\")"
   ]
  },
  {
   "cell_type": "code",
   "execution_count": 5,
   "metadata": {
    "collapsed": false
   },
   "outputs": [
    {
     "data": {
      "text/plain": [
       "KMeans(copy_x=True, init='k-means++', max_iter=300, n_clusters=6, n_init=10,\n",
       "    n_jobs=1, precompute_distances='auto', random_state=None, tol=0.0001,\n",
       "    verbose=0)"
      ]
     },
     "execution_count": 5,
     "metadata": {},
     "output_type": "execute_result"
    }
   ],
   "source": [
    "#clustering the 12 input vars into 6 clusters\n",
    "from sklearn.cluster import KMeans\n",
    "\n",
    "model = KMeans(n_clusters = 6)\n",
    "model.fit(X)"
   ]
  },
  {
   "cell_type": "code",
   "execution_count": 6,
   "metadata": {
    "collapsed": false
   },
   "outputs": [
    {
     "data": {
      "text/html": [
       "<div>\n",
       "<table border=\"1\" class=\"dataframe\">\n",
       "  <thead>\n",
       "    <tr style=\"text-align: right;\">\n",
       "      <th></th>\n",
       "      <th>fixed acidity</th>\n",
       "      <th>volatile acidity</th>\n",
       "      <th>citric acid</th>\n",
       "      <th>residual sugar</th>\n",
       "      <th>chlorides</th>\n",
       "      <th>free sulfur dioxide</th>\n",
       "      <th>total sulfur dioxide</th>\n",
       "      <th>density</th>\n",
       "      <th>pH</th>\n",
       "      <th>sulphates</th>\n",
       "      <th>alcohol</th>\n",
       "      <th>red</th>\n",
       "    </tr>\n",
       "  </thead>\n",
       "  <tbody>\n",
       "    <tr>\n",
       "      <th>2</th>\n",
       "      <td>7.3</td>\n",
       "      <td>0.220</td>\n",
       "      <td>0.50</td>\n",
       "      <td>13.70</td>\n",
       "      <td>0.049</td>\n",
       "      <td>56.0</td>\n",
       "      <td>189.0</td>\n",
       "      <td>0.99940</td>\n",
       "      <td>3.24</td>\n",
       "      <td>0.66</td>\n",
       "      <td>9.0</td>\n",
       "      <td>0.0</td>\n",
       "    </tr>\n",
       "    <tr>\n",
       "      <th>3</th>\n",
       "      <td>7.6</td>\n",
       "      <td>0.670</td>\n",
       "      <td>0.14</td>\n",
       "      <td>1.50</td>\n",
       "      <td>0.074</td>\n",
       "      <td>25.0</td>\n",
       "      <td>168.0</td>\n",
       "      <td>0.99370</td>\n",
       "      <td>3.05</td>\n",
       "      <td>0.51</td>\n",
       "      <td>9.3</td>\n",
       "      <td>0.0</td>\n",
       "    </tr>\n",
       "    <tr>\n",
       "      <th>7</th>\n",
       "      <td>6.9</td>\n",
       "      <td>0.380</td>\n",
       "      <td>0.29</td>\n",
       "      <td>13.65</td>\n",
       "      <td>0.048</td>\n",
       "      <td>52.0</td>\n",
       "      <td>189.0</td>\n",
       "      <td>0.99784</td>\n",
       "      <td>3.00</td>\n",
       "      <td>0.60</td>\n",
       "      <td>9.5</td>\n",
       "      <td>0.0</td>\n",
       "    </tr>\n",
       "    <tr>\n",
       "      <th>12</th>\n",
       "      <td>8.1</td>\n",
       "      <td>0.300</td>\n",
       "      <td>0.49</td>\n",
       "      <td>8.10</td>\n",
       "      <td>0.037</td>\n",
       "      <td>26.0</td>\n",
       "      <td>174.0</td>\n",
       "      <td>0.99430</td>\n",
       "      <td>3.10</td>\n",
       "      <td>0.30</td>\n",
       "      <td>11.2</td>\n",
       "      <td>0.0</td>\n",
       "    </tr>\n",
       "    <tr>\n",
       "      <th>16</th>\n",
       "      <td>6.8</td>\n",
       "      <td>0.230</td>\n",
       "      <td>0.29</td>\n",
       "      <td>15.40</td>\n",
       "      <td>0.073</td>\n",
       "      <td>56.0</td>\n",
       "      <td>173.0</td>\n",
       "      <td>0.99840</td>\n",
       "      <td>3.06</td>\n",
       "      <td>0.41</td>\n",
       "      <td>8.7</td>\n",
       "      <td>0.0</td>\n",
       "    </tr>\n",
       "    <tr>\n",
       "      <th>21</th>\n",
       "      <td>7.3</td>\n",
       "      <td>0.340</td>\n",
       "      <td>0.30</td>\n",
       "      <td>9.40</td>\n",
       "      <td>0.057</td>\n",
       "      <td>34.0</td>\n",
       "      <td>178.0</td>\n",
       "      <td>0.99554</td>\n",
       "      <td>3.15</td>\n",
       "      <td>0.44</td>\n",
       "      <td>10.4</td>\n",
       "      <td>0.0</td>\n",
       "    </tr>\n",
       "    <tr>\n",
       "      <th>23</th>\n",
       "      <td>5.7</td>\n",
       "      <td>0.280</td>\n",
       "      <td>0.24</td>\n",
       "      <td>17.50</td>\n",
       "      <td>0.044</td>\n",
       "      <td>60.0</td>\n",
       "      <td>167.0</td>\n",
       "      <td>0.99890</td>\n",
       "      <td>3.31</td>\n",
       "      <td>0.44</td>\n",
       "      <td>9.4</td>\n",
       "      <td>0.0</td>\n",
       "    </tr>\n",
       "    <tr>\n",
       "      <th>...</th>\n",
       "      <td>...</td>\n",
       "      <td>...</td>\n",
       "      <td>...</td>\n",
       "      <td>...</td>\n",
       "      <td>...</td>\n",
       "      <td>...</td>\n",
       "      <td>...</td>\n",
       "      <td>...</td>\n",
       "      <td>...</td>\n",
       "      <td>...</td>\n",
       "      <td>...</td>\n",
       "      <td>...</td>\n",
       "    </tr>\n",
       "    <tr>\n",
       "      <th>3972</th>\n",
       "      <td>9.3</td>\n",
       "      <td>0.200</td>\n",
       "      <td>0.33</td>\n",
       "      <td>1.70</td>\n",
       "      <td>0.050</td>\n",
       "      <td>28.0</td>\n",
       "      <td>178.0</td>\n",
       "      <td>0.99540</td>\n",
       "      <td>3.16</td>\n",
       "      <td>0.43</td>\n",
       "      <td>9.0</td>\n",
       "      <td>0.0</td>\n",
       "    </tr>\n",
       "    <tr>\n",
       "      <th>3976</th>\n",
       "      <td>7.1</td>\n",
       "      <td>0.320</td>\n",
       "      <td>0.29</td>\n",
       "      <td>4.00</td>\n",
       "      <td>0.038</td>\n",
       "      <td>33.0</td>\n",
       "      <td>170.0</td>\n",
       "      <td>0.99463</td>\n",
       "      <td>3.27</td>\n",
       "      <td>0.64</td>\n",
       "      <td>10.2</td>\n",
       "      <td>0.0</td>\n",
       "    </tr>\n",
       "    <tr>\n",
       "      <th>3978</th>\n",
       "      <td>8.0</td>\n",
       "      <td>0.280</td>\n",
       "      <td>0.42</td>\n",
       "      <td>7.10</td>\n",
       "      <td>0.045</td>\n",
       "      <td>41.0</td>\n",
       "      <td>169.0</td>\n",
       "      <td>0.99590</td>\n",
       "      <td>3.17</td>\n",
       "      <td>0.43</td>\n",
       "      <td>10.6</td>\n",
       "      <td>0.0</td>\n",
       "    </tr>\n",
       "    <tr>\n",
       "      <th>3980</th>\n",
       "      <td>7.0</td>\n",
       "      <td>0.340</td>\n",
       "      <td>0.39</td>\n",
       "      <td>6.90</td>\n",
       "      <td>0.066</td>\n",
       "      <td>43.0</td>\n",
       "      <td>162.0</td>\n",
       "      <td>0.99561</td>\n",
       "      <td>3.11</td>\n",
       "      <td>0.53</td>\n",
       "      <td>9.5</td>\n",
       "      <td>0.0</td>\n",
       "    </tr>\n",
       "    <tr>\n",
       "      <th>3981</th>\n",
       "      <td>4.6</td>\n",
       "      <td>0.445</td>\n",
       "      <td>0.00</td>\n",
       "      <td>1.40</td>\n",
       "      <td>0.053</td>\n",
       "      <td>11.0</td>\n",
       "      <td>178.0</td>\n",
       "      <td>0.99426</td>\n",
       "      <td>3.79</td>\n",
       "      <td>0.55</td>\n",
       "      <td>10.2</td>\n",
       "      <td>0.0</td>\n",
       "    </tr>\n",
       "    <tr>\n",
       "      <th>3992</th>\n",
       "      <td>8.7</td>\n",
       "      <td>0.230</td>\n",
       "      <td>0.32</td>\n",
       "      <td>13.40</td>\n",
       "      <td>0.044</td>\n",
       "      <td>35.0</td>\n",
       "      <td>169.0</td>\n",
       "      <td>0.99975</td>\n",
       "      <td>3.12</td>\n",
       "      <td>0.47</td>\n",
       "      <td>8.8</td>\n",
       "      <td>0.0</td>\n",
       "    </tr>\n",
       "    <tr>\n",
       "      <th>3993</th>\n",
       "      <td>6.2</td>\n",
       "      <td>0.260</td>\n",
       "      <td>0.19</td>\n",
       "      <td>3.40</td>\n",
       "      <td>0.049</td>\n",
       "      <td>47.0</td>\n",
       "      <td>172.0</td>\n",
       "      <td>0.99240</td>\n",
       "      <td>3.14</td>\n",
       "      <td>0.43</td>\n",
       "      <td>10.4</td>\n",
       "      <td>0.0</td>\n",
       "    </tr>\n",
       "  </tbody>\n",
       "</table>\n",
       "<p>660 rows × 12 columns</p>\n",
       "</div>"
      ],
      "text/plain": [
       "      fixed acidity  volatile acidity  citric acid  residual sugar  chlorides  \\\n",
       "2               7.3             0.220         0.50           13.70      0.049   \n",
       "3               7.6             0.670         0.14            1.50      0.074   \n",
       "7               6.9             0.380         0.29           13.65      0.048   \n",
       "12              8.1             0.300         0.49            8.10      0.037   \n",
       "16              6.8             0.230         0.29           15.40      0.073   \n",
       "21              7.3             0.340         0.30            9.40      0.057   \n",
       "23              5.7             0.280         0.24           17.50      0.044   \n",
       "...             ...               ...          ...             ...        ...   \n",
       "3972            9.3             0.200         0.33            1.70      0.050   \n",
       "3976            7.1             0.320         0.29            4.00      0.038   \n",
       "3978            8.0             0.280         0.42            7.10      0.045   \n",
       "3980            7.0             0.340         0.39            6.90      0.066   \n",
       "3981            4.6             0.445         0.00            1.40      0.053   \n",
       "3992            8.7             0.230         0.32           13.40      0.044   \n",
       "3993            6.2             0.260         0.19            3.40      0.049   \n",
       "\n",
       "      free sulfur dioxide  total sulfur dioxide  density    pH  sulphates  \\\n",
       "2                    56.0                 189.0  0.99940  3.24       0.66   \n",
       "3                    25.0                 168.0  0.99370  3.05       0.51   \n",
       "7                    52.0                 189.0  0.99784  3.00       0.60   \n",
       "12                   26.0                 174.0  0.99430  3.10       0.30   \n",
       "16                   56.0                 173.0  0.99840  3.06       0.41   \n",
       "21                   34.0                 178.0  0.99554  3.15       0.44   \n",
       "23                   60.0                 167.0  0.99890  3.31       0.44   \n",
       "...                   ...                   ...      ...   ...        ...   \n",
       "3972                 28.0                 178.0  0.99540  3.16       0.43   \n",
       "3976                 33.0                 170.0  0.99463  3.27       0.64   \n",
       "3978                 41.0                 169.0  0.99590  3.17       0.43   \n",
       "3980                 43.0                 162.0  0.99561  3.11       0.53   \n",
       "3981                 11.0                 178.0  0.99426  3.79       0.55   \n",
       "3992                 35.0                 169.0  0.99975  3.12       0.47   \n",
       "3993                 47.0                 172.0  0.99240  3.14       0.43   \n",
       "\n",
       "      alcohol  red  \n",
       "2         9.0  0.0  \n",
       "3         9.3  0.0  \n",
       "7         9.5  0.0  \n",
       "12       11.2  0.0  \n",
       "16        8.7  0.0  \n",
       "21       10.4  0.0  \n",
       "23        9.4  0.0  \n",
       "...       ...  ...  \n",
       "3972      9.0  0.0  \n",
       "3976     10.2  0.0  \n",
       "3978     10.6  0.0  \n",
       "3980      9.5  0.0  \n",
       "3981     10.2  0.0  \n",
       "3992      8.8  0.0  \n",
       "3993     10.4  0.0  \n",
       "\n",
       "[660 rows x 12 columns]"
      ]
     },
     "execution_count": 6,
     "metadata": {},
     "output_type": "execute_result"
    }
   ],
   "source": [
    "X[model.labels_ == 2]"
   ]
  },
  {
   "cell_type": "code",
   "execution_count": 7,
   "metadata": {
    "collapsed": false
   },
   "outputs": [],
   "source": [
    "# #PCA in scikit learn\n",
    "\n",
    "# from sklearn.decomposition import PCA\n",
    "# pca_model = PCA(n_components = 2)\n",
    "# pca_model.fit(X)\n",
    "# scores = pca_model.transform(X)\n",
    "\n",
    "# plt.plot(scores[:,0], scores[:,1], '.') # first princ component, second princ component; centers data for you"
   ]
  },
  {
   "cell_type": "markdown",
   "metadata": {},
   "source": [
    "# # In class exercise\n",
    "\n",
    "#find the first two principal components of the 12 input variables in the wine data and use this to visualize the wine data"
   ]
  },
  {
   "cell_type": "code",
   "execution_count": 8,
   "metadata": {
    "collapsed": true
   },
   "outputs": [],
   "source": [
    "#interpreting principal component 2 vs princ component 1 graph (from 3D data):......\n",
    "\n",
    "from sklearn.decomposition import PCA\n",
    "pca_model = PCA(n_components = 2)\n",
    "pca_model.fit(X)\n",
    "scores = pca_model.transform(X) # [first p comp, second p comp]"
   ]
  },
  {
   "cell_type": "code",
   "execution_count": 9,
   "metadata": {
    "collapsed": false
   },
   "outputs": [
    {
     "data": {
      "text/plain": [
       "array([[  -1.69995307,   11.04118662],\n",
       "       [  24.35746377,   -5.23916886],\n",
       "       [ -78.38636301,   -8.31293442],\n",
       "       ..., \n",
       "       [  -7.14866179,    9.30508899],\n",
       "       [  -5.35298096,   -4.55926601],\n",
       "       [-109.22944711,    8.27800386]])"
      ]
     },
     "execution_count": 9,
     "metadata": {},
     "output_type": "execute_result"
    }
   ],
   "source": [
    "scores"
   ]
  },
  {
   "cell_type": "code",
   "execution_count": 10,
   "metadata": {
    "collapsed": true
   },
   "outputs": [],
   "source": [
    "scores = pca_model.fit_transform(X)"
   ]
  },
  {
   "cell_type": "code",
   "execution_count": 11,
   "metadata": {
    "collapsed": false
   },
   "outputs": [
    {
     "data": {
      "image/png": "[encoded data removed]",
      "text/plain": [
       "<matplotlib.figure.Figure at 0x7f5bb744f7b8>"
      ]
     },
     "metadata": {},
     "output_type": "display_data"
    }
   ],
   "source": [
    "for i in range(6):\n",
    "    plt.plot(scores[model.labels_ == i,0], scores[model.labels_ == i,1], '.', alpha = .2)"
   ]
  },
  {
   "cell_type": "markdown",
   "metadata": {},
   "source": [
    "# Dimensionality Reduction\n",
    "\n",
    "#When trying to interpret data, it's difficult to go beynd 2/3 dimensions\n",
    "\n",
    "#want to break it down to a few variables so we can analyze more easily\n",
    "\n",
    "#in pca for 2dm we are trying to get dist from both variables  to the line. I ncontrast, line reg\n",
    "#only cares about dist of one var to reg line"
   ]
  },
  {
   "cell_type": "code",
   "execution_count": null,
   "metadata": {
    "collapsed": true
   },
   "outputs": [],
   "source": []
  }
 ],
 "metadata": {
  "kernelspec": {
   "display_name": "Python 3",
   "language": "python",
   "name": "python3"
  },
  "language_info": {
   "codemirror_mode": {
    "name": "ipython",
    "version": 3
   },
   "file_extension": ".py",
   "mimetype": "text/x-python",
   "name": "python",
   "nbconvert_exporter": "python",
   "pygments_lexer": "ipython3",
   "version": "3.4.3"
  }
 },
 "nbformat": 4,
 "nbformat_minor": 0
}
