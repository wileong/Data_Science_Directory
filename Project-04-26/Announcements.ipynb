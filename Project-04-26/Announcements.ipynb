{
 "cells": [
  {
   "cell_type": "markdown",
   "metadata": {},
   "source": [
    "# Announcements\n",
    "## Tuesday, April 26\n",
    "\n",
    "## Today: In-Class Project 1\n",
    "\n",
    "- Don't panic!\n",
    "- If you can't figure out a clever way to do something, brute force it (e.g., using a \"for\" loop instead of a vectorized solution).\n",
    "- Partial credit will be generous."
   ]
  },
  {
   "cell_type": "markdown",
   "metadata": {},
   "source": [
    "## Lab Assigned Today\n",
    "\n",
    "- Don't forget to download Lab-04-26.\n",
    "- This lab is about querying from SQL databases into Pandas, which we covered in lecture last Thursday.\n",
    "- This lab is due in one week, next Tuesday."
   ]
  }
 ],
 "metadata": {
  "kernelspec": {
   "display_name": "Python 3",
   "language": "python",
   "name": "python3"
  },
  "language_info": {
   "codemirror_mode": {
    "name": "ipython",
    "version": 3
   },
   "file_extension": ".py",
   "mimetype": "text/x-python",
   "name": "python",
   "nbconvert_exporter": "python",
   "pygments_lexer": "ipython3",
   "version": "3.4.3"
  }
 },
 "nbformat": 4,
 "nbformat_minor": 0
}
