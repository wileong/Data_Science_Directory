{
 "cells": [
  {
   "cell_type": "markdown",
   "metadata": {},
   "source": [
    "# In-Class Project 1\n",
    "## Tuesday, April 26, 8:30-11 AM"
   ]
  },
  {
   "cell_type": "markdown",
   "metadata": {},
   "source": [
    "## Honesty Pledge\n",
    "\n",
    "This project is open-Internet. I understand that I am allowed to use any existing resources on the web, including web search, but I am not allowed to consult with any people during this project. Giving and receiving help are both forbidden and will be prosecuted equally.\n",
    "\n",
    "Furthermore, I will not to discuss this in-class project with anyone until after 5 PM today, when everyone has completed the project. This includes not only students in the afternoon section, but also other students in this one.\n",
    "\n",
    "I understand that the penalty for violating this pledge is a grade of **F** in the course and disciplinary action by the Office of Student Rights & Responsibilities. Please sign below to indicate that you have read and understood this pledge. Your project will not be graded unless you sign below."
   ]
  },
  {
   "cell_type": "markdown",
   "metadata": {
    "deletable": false,
    "nbgrader": {
     "checksum": "f69b5c8add4832cf5e4dcbea69b7d304",
     "grade": true,
     "grade_id": "pledge",
     "locked": false,
     "points": 0,
     "solution": true
    }
   },
   "source": [
    "Wilson Leong"
   ]
  },
  {
   "cell_type": "markdown",
   "metadata": {},
   "source": [
    "## Description\n",
    "\n",
    "In this in-class project, we will revisit the baby names data from lecture. The data can be found in the directory `/data/babynames/`. The files in this directory are all of the form `yobXXXX.csv`, where `XXXX` is a year. Each file consists of rows specifying a name, a gender, and a count of how many babies with that name and gender were born in the year `XXXX`.\n",
    "\n",
    "We will begin by looking at data from the year 2010.\n",
    "\n",
    "**Remember:** vectorization > for loop > manually writing out every case. Partial credit will be awarded even for brute-force solutions!"
   ]
  },
  {
   "cell_type": "code",
   "execution_count": 1,
   "metadata": {
    "collapsed": true
   },
   "outputs": [],
   "source": [
    "import pandas as pd\n",
    "import numpy as np\n",
    "import matplotlib.pyplot as plt\n",
    "\n",
    "%matplotlib inline"
   ]
  },
  {
   "cell_type": "code",
   "execution_count": 2,
   "metadata": {
    "collapsed": false
   },
   "outputs": [
    {
     "data": {
      "text/html": [
       "<div>\n",
       "<table border=\"1\" class=\"dataframe\">\n",
       "  <thead>\n",
       "    <tr style=\"text-align: right;\">\n",
       "      <th></th>\n",
       "      <th>Name</th>\n",
       "      <th>Gender</th>\n",
       "      <th>Count</th>\n",
       "    </tr>\n",
       "  </thead>\n",
       "  <tbody>\n",
       "    <tr>\n",
       "      <th>0</th>\n",
       "      <td>Isabella</td>\n",
       "      <td>F</td>\n",
       "      <td>22883</td>\n",
       "    </tr>\n",
       "    <tr>\n",
       "      <th>1</th>\n",
       "      <td>Sophia</td>\n",
       "      <td>F</td>\n",
       "      <td>20612</td>\n",
       "    </tr>\n",
       "    <tr>\n",
       "      <th>2</th>\n",
       "      <td>Emma</td>\n",
       "      <td>F</td>\n",
       "      <td>17322</td>\n",
       "    </tr>\n",
       "    <tr>\n",
       "      <th>3</th>\n",
       "      <td>Olivia</td>\n",
       "      <td>F</td>\n",
       "      <td>17012</td>\n",
       "    </tr>\n",
       "    <tr>\n",
       "      <th>4</th>\n",
       "      <td>Ava</td>\n",
       "      <td>F</td>\n",
       "      <td>15418</td>\n",
       "    </tr>\n",
       "    <tr>\n",
       "      <th>5</th>\n",
       "      <td>Emily</td>\n",
       "      <td>F</td>\n",
       "      <td>14260</td>\n",
       "    </tr>\n",
       "    <tr>\n",
       "      <th>6</th>\n",
       "      <td>Abigail</td>\n",
       "      <td>F</td>\n",
       "      <td>14228</td>\n",
       "    </tr>\n",
       "    <tr>\n",
       "      <th>...</th>\n",
       "      <td>...</td>\n",
       "      <td>...</td>\n",
       "      <td>...</td>\n",
       "    </tr>\n",
       "    <tr>\n",
       "      <th>34034</th>\n",
       "      <td>Zylar</td>\n",
       "      <td>M</td>\n",
       "      <td>5</td>\n",
       "    </tr>\n",
       "    <tr>\n",
       "      <th>34035</th>\n",
       "      <td>Zylin</td>\n",
       "      <td>M</td>\n",
       "      <td>5</td>\n",
       "    </tr>\n",
       "    <tr>\n",
       "      <th>34036</th>\n",
       "      <td>Zymaire</td>\n",
       "      <td>M</td>\n",
       "      <td>5</td>\n",
       "    </tr>\n",
       "    <tr>\n",
       "      <th>34037</th>\n",
       "      <td>Zyonne</td>\n",
       "      <td>M</td>\n",
       "      <td>5</td>\n",
       "    </tr>\n",
       "    <tr>\n",
       "      <th>34038</th>\n",
       "      <td>Zyquarius</td>\n",
       "      <td>M</td>\n",
       "      <td>5</td>\n",
       "    </tr>\n",
       "    <tr>\n",
       "      <th>34039</th>\n",
       "      <td>Zyran</td>\n",
       "      <td>M</td>\n",
       "      <td>5</td>\n",
       "    </tr>\n",
       "    <tr>\n",
       "      <th>34040</th>\n",
       "      <td>Zzyzx</td>\n",
       "      <td>M</td>\n",
       "      <td>5</td>\n",
       "    </tr>\n",
       "  </tbody>\n",
       "</table>\n",
       "<p>34041 rows × 3 columns</p>\n",
       "</div>"
      ],
      "text/plain": [
       "            Name Gender  Count\n",
       "0       Isabella      F  22883\n",
       "1         Sophia      F  20612\n",
       "2           Emma      F  17322\n",
       "3         Olivia      F  17012\n",
       "4            Ava      F  15418\n",
       "5          Emily      F  14260\n",
       "6        Abigail      F  14228\n",
       "...          ...    ...    ...\n",
       "34034      Zylar      M      5\n",
       "34035      Zylin      M      5\n",
       "34036    Zymaire      M      5\n",
       "34037     Zyonne      M      5\n",
       "34038  Zyquarius      M      5\n",
       "34039      Zyran      M      5\n",
       "34040      Zzyzx      M      5\n",
       "\n",
       "[34041 rows x 3 columns]"
      ]
     },
     "execution_count": 2,
     "metadata": {},
     "output_type": "execute_result"
    }
   ],
   "source": [
    "data = pd.read_csv(\"/data/babynames/yob2010.txt\", names=[\"Name\", \"Gender\", \"Count\"])\n",
    "\n",
    "data"
   ]
  },
  {
   "cell_type": "markdown",
   "metadata": {},
   "source": [
    "## Question 1 (10 points)\n",
    "\n",
    "How many babies born in 2010 (of either gender) had the same name as you? \n",
    "\n",
    "(Just write code in the cell below that outputs the final answer. No explanation required.)"
   ]
  },
  {
   "cell_type": "code",
   "execution_count": 3,
   "metadata": {
    "collapsed": false,
    "deletable": false,
    "nbgrader": {
     "checksum": "09bd9d7786cca4f1210120482541f87b",
     "grade": true,
     "grade_id": "same_name",
     "locked": false,
     "points": 10,
     "solution": true
    }
   },
   "outputs": [
    {
     "data": {
      "text/plain": [
       "1"
      ]
     },
     "execution_count": 3,
     "metadata": {},
     "output_type": "execute_result"
    }
   ],
   "source": [
    "# YOUR CODE HERE\n",
    "#raise NotImplementedError()\n",
    "\n",
    "data.ix[data['Name'] == 'Wilson','Count'].count()"
   ]
  },
  {
   "cell_type": "markdown",
   "metadata": {},
   "source": [
    "## Question 2 (10 points)\n",
    "\n",
    "How many girls born in 2010 had names that began with the letter S?\n",
    "\n",
    "(Just write code in the cell below that outputs the final answer. No explanation required.)"
   ]
  },
  {
   "cell_type": "code",
   "execution_count": 4,
   "metadata": {
    "collapsed": false,
    "deletable": false,
    "nbgrader": {
     "checksum": "6550ff6d3c515b7d2191bc820bd87331",
     "grade": true,
     "grade_id": "begins_with_S",
     "locked": false,
     "points": 10,
     "solution": true
    }
   },
   "outputs": [
    {
     "data": {
      "text/plain": [
       "1514"
      ]
     },
     "execution_count": 4,
     "metadata": {},
     "output_type": "execute_result"
    }
   ],
   "source": [
    "# YOUR CODE HERE\n",
    "\n",
    "data.ix[(data['Gender'] == 'F') & (data['Name'].str.startswith('S') == True), 'Count'].count()\n"
   ]
  },
  {
   "cell_type": "markdown",
   "metadata": {},
   "source": [
    "## Question 3 (10 points)\n",
    "\n",
    "What was the most common first letter of names of babies born in 2010? What was the least common first letter? You may find `.str.get()` method of Pandas Series helpful.\n",
    "\n",
    "(Just write code in the cell below that outputs the final answer. No explanation required.)"
   ]
  },
  {
   "cell_type": "code",
   "execution_count": 5,
   "metadata": {
    "collapsed": false,
    "deletable": false,
    "nbgrader": {
     "checksum": "9aac49ee15ac01e17fb99d9c78503d2a",
     "grade": true,
     "grade_id": "first_letter",
     "locked": false,
     "points": 10,
     "solution": true
    }
   },
   "outputs": [
    {
     "name": "stdout",
     "output_type": "stream",
     "text": [
      "               Count\n",
      "first_letters       \n",
      "U                 69\n",
      "X                109\n",
      "Q                110\n",
      "W                219\n",
      "O                306\n",
      "               Count\n",
      "first_letters       \n",
      "S               2335\n",
      "M               2700\n",
      "K               3117\n",
      "J               3204\n",
      "A               4410\n"
     ]
    }
   ],
   "source": [
    "# YOUR CODE HERE\n",
    "data['first_letters'] = data['Name'].str.get(0).to_frame() #returns a column of beginning first letter\n",
    "\n",
    "first_letter_counts = data.groupby('first_letters')[['Count']].count().sort_values(by = 'Count')\n",
    "\n",
    "print(first_letter_counts.head())\n",
    "print(first_letter_counts.tail())\n",
    "\n",
    "del data['first_letters']"
   ]
  },
  {
   "cell_type": "markdown",
   "metadata": {},
   "source": [
    "## Question 4a (10 points)\n",
    "\n",
    "How many of the 2010 names can serve as both boys' and girls' names?\n",
    "\n",
    "(Just write code in the cell below that outputs the final answer. No explanation required.)"
   ]
  },
  {
   "cell_type": "code",
   "execution_count": 6,
   "metadata": {
    "collapsed": false,
    "deletable": false,
    "nbgrader": {
     "checksum": "99be4021f8eff9ffe4f552ee689f2cd4",
     "grade": true,
     "grade_id": "double_names",
     "locked": false,
     "points": 10,
     "solution": true
    }
   },
   "outputs": [
    {
     "data": {
      "text/plain": [
       "2438"
      ]
     },
     "execution_count": 6,
     "metadata": {},
     "output_type": "execute_result"
    }
   ],
   "source": [
    "# YOUR CODE HERE\n",
    "#data.ix[(data['Gender'] == 'F') & (data['Gender'] == 'M')].count() #check if both female and male, which is wrong\n",
    "\n",
    "\n",
    "f_names = data.ix[(data['Gender'] == 'F') ]\n",
    "m_names = data.ix[data['Gender'] == 'M']\n",
    "\n",
    "gender_in_common = pd.merge(f_names,m_names, on = 'Name')\n",
    "gender_in_common['Name'].count()\n"
   ]
  },
  {
   "cell_type": "markdown",
   "metadata": {},
   "source": [
    "## Question 4b (10 points)\n",
    "\n",
    "Obviously, most mixed-gender names are very heavily skewed towards one gender or the other. For example, \"William\" is technically a mixed-gender name, but only 14 girls in 2010 were named William, compared with 16570 boys. Similarly, \"Emma\" is technically a mixed-gender name, but only 18 boys in 2010 were named Emma.\n",
    "\n",
    "If we want to know which are the most gender-ambiguous names, we should sort the names by the frequency of the less common gender. This way, even though William is a very common name overall, it would not be at the top of the list since the frequency of its less common gender (female) is only 14. Likewise, the frequency of the less common gender of Emma (male) is 18.\n",
    "\n",
    "Sort the mixed-gender names in decreasing order by the frequency of the less common gender. What are the Top 5 gender-ambiguous names?\n",
    "\n",
    "(Just write code in the cell below that outputs the final answer. No explanation required.)"
   ]
  },
  {
   "cell_type": "code",
   "execution_count": 7,
   "metadata": {
    "collapsed": false,
    "deletable": false,
    "nbgrader": {
     "checksum": "2433d6bb11f14c125e1aefc2b1483c78",
     "grade": true,
     "grade_id": "ambiguous",
     "locked": false,
     "points": 10,
     "solution": true
    }
   },
   "outputs": [
    {
     "data": {
      "text/html": [
       "<div>\n",
       "<table border=\"1\" class=\"dataframe\">\n",
       "  <thead>\n",
       "    <tr style=\"text-align: right;\">\n",
       "      <th></th>\n",
       "      <th>Name</th>\n",
       "      <th>Gender_x</th>\n",
       "      <th>Count_x</th>\n",
       "      <th>Gender_y</th>\n",
       "      <th>Count_y</th>\n",
       "      <th>less-common-freq</th>\n",
       "    </tr>\n",
       "  </thead>\n",
       "  <tbody>\n",
       "    <tr>\n",
       "      <th>38</th>\n",
       "      <td>Riley</td>\n",
       "      <td>F</td>\n",
       "      <td>5534</td>\n",
       "      <td>M</td>\n",
       "      <td>3639</td>\n",
       "      <td>3639</td>\n",
       "    </tr>\n",
       "    <tr>\n",
       "      <th>48</th>\n",
       "      <td>Peyton</td>\n",
       "      <td>F</td>\n",
       "      <td>4967</td>\n",
       "      <td>M</td>\n",
       "      <td>2640</td>\n",
       "      <td>2640</td>\n",
       "    </tr>\n",
       "    <tr>\n",
       "      <th>112</th>\n",
       "      <td>Hayden</td>\n",
       "      <td>F</td>\n",
       "      <td>1891</td>\n",
       "      <td>M</td>\n",
       "      <td>4183</td>\n",
       "      <td>1891</td>\n",
       "    </tr>\n",
       "    <tr>\n",
       "      <th>115</th>\n",
       "      <td>Jordan</td>\n",
       "      <td>F</td>\n",
       "      <td>1724</td>\n",
       "      <td>M</td>\n",
       "      <td>8223</td>\n",
       "      <td>1724</td>\n",
       "    </tr>\n",
       "    <tr>\n",
       "      <th>21</th>\n",
       "      <td>Avery</td>\n",
       "      <td>F</td>\n",
       "      <td>6670</td>\n",
       "      <td>M</td>\n",
       "      <td>1697</td>\n",
       "      <td>1697</td>\n",
       "    </tr>\n",
       "  </tbody>\n",
       "</table>\n",
       "</div>"
      ],
      "text/plain": [
       "       Name Gender_x  Count_x Gender_y  Count_y  less-common-freq\n",
       "38    Riley        F     5534        M     3639              3639\n",
       "48   Peyton        F     4967        M     2640              2640\n",
       "112  Hayden        F     1891        M     4183              1891\n",
       "115  Jordan        F     1724        M     8223              1724\n",
       "21    Avery        F     6670        M     1697              1697"
      ]
     },
     "execution_count": 7,
     "metadata": {},
     "output_type": "execute_result"
    }
   ],
   "source": [
    "# YOUR CODE HERE\n",
    "# gender_in_common['less-common-freq'] = gender_in_common.ix[gender_in_common['Count_x'] > gender_in_common['Count_y'] \\\n",
    "#             | gender_in_common['Count_y'] > gender_in_common['Count_x'] ]  # IDEA\n",
    "\n",
    "f_freq = list(gender_in_common['Count_x'])\n",
    "m_freq = list(gender_in_common['Count_y'])\n",
    "less_common_freq = []\n",
    "\n",
    "arr_index = 0\n",
    "last_index = gender_in_common.index[-1] # get last index\n",
    "\n",
    "while(arr_index <= last_index):\n",
    "    \n",
    "    if f_freq[arr_index] < m_freq[arr_index]:\n",
    "        less_common_freq.append(f_freq[arr_index])\n",
    "    elif f_freq[arr_index] > m_freq[arr_index]:\n",
    "        less_common_freq.append(m_freq[arr_index])\n",
    "    else:\n",
    "        less_common_freq.append(m_freq[arr_index]) #append either value will work; chose to append male count\n",
    "        \n",
    "    arr_index += 1\n",
    "\n",
    "\n",
    "gender_in_common['less-common-freq']= less_common_freq\n",
    "gender_in_common_sorted = gender_in_common.sort_values(by = 'less-common-freq', ascending = False )\n",
    "gender_in_common_sorted.head(n = 5)\n"
   ]
  },
  {
   "cell_type": "markdown",
   "metadata": {},
   "source": [
    "## Question 5a (10 points)\n",
    "\n",
    "The **entropy** of a distribution is a measure of how diverse its values are. A distribution which is usually one of a handful of values is said to have \"low entropy\", while a distribution which takes on many different values is said to \n",
    "have \"high entropy\".\n",
    "\n",
    "How diverse are human names? Let's calculate the entropy of the distribution of names in 2010. If a distribution takes on n values, each one with probability $p_i$, then the entropy $H$ is defined as \n",
    "$$ H = -\\sum_{i=1}^n p_i \\log_2(p_i). $$\n",
    "\n",
    "Calculate the entropy of the distribution of names in 2010.\n",
    "\n",
    "(Just write code in the cell below that outputs the final answer. No explanation required.)"
   ]
  },
  {
   "cell_type": "code",
   "execution_count": 8,
   "metadata": {
    "collapsed": false,
    "deletable": false,
    "nbgrader": {
     "checksum": "0a470eca43ea00c8525e1cf7d5a70bfa",
     "grade": true,
     "grade_id": "entropy",
     "locked": false,
     "points": 10,
     "solution": true
    }
   },
   "outputs": [
    {
     "ename": "TypeError",
     "evalue": "cannot convert the series to <class 'float'>",
     "output_type": "error",
     "traceback": [
      "\u001b[1;31m---------------------------------------------------------------------------\u001b[0m",
      "\u001b[1;31mTypeError\u001b[0m                                 Traceback (most recent call last)",
      "\u001b[1;32m<ipython-input-8-d37d0ad45829>\u001b[0m in \u001b[0;36m<module>\u001b[1;34m()\u001b[0m\n\u001b[0;32m     29\u001b[0m \u001b[0msample_size\u001b[0m \u001b[1;33m=\u001b[0m \u001b[0mdata\u001b[0m\u001b[1;33m[\u001b[0m\u001b[1;34m'Count'\u001b[0m\u001b[1;33m]\u001b[0m\u001b[1;33m.\u001b[0m\u001b[0msum\u001b[0m\u001b[1;33m(\u001b[0m\u001b[1;33m)\u001b[0m \u001b[1;31m#overall total of people born\u001b[0m\u001b[1;33m\u001b[0m\u001b[0m\n\u001b[0;32m     30\u001b[0m \u001b[0mdata\u001b[0m\u001b[1;33m[\u001b[0m\u001b[1;34m'proportions'\u001b[0m\u001b[1;33m]\u001b[0m \u001b[1;33m=\u001b[0m \u001b[0mdata\u001b[0m\u001b[1;33m[\u001b[0m\u001b[1;34m'Count'\u001b[0m\u001b[1;33m]\u001b[0m\u001b[1;33m/\u001b[0m\u001b[0msample_size\u001b[0m\u001b[1;33m\u001b[0m\u001b[0m\n\u001b[1;32m---> 31\u001b[1;33m \u001b[0mdata\u001b[0m\u001b[1;33m[\u001b[0m\u001b[1;34m'entropy_calc'\u001b[0m\u001b[1;33m]\u001b[0m \u001b[1;33m=\u001b[0m \u001b[0mdata\u001b[0m\u001b[1;33m[\u001b[0m\u001b[1;34m'proportions'\u001b[0m\u001b[1;33m]\u001b[0m \u001b[1;33m*\u001b[0m \u001b[0mlog\u001b[0m\u001b[1;33m(\u001b[0m\u001b[0mdata\u001b[0m\u001b[1;33m[\u001b[0m\u001b[1;34m'proportions'\u001b[0m\u001b[1;33m]\u001b[0m\u001b[1;33m,\u001b[0m \u001b[1;36m2\u001b[0m\u001b[1;33m)\u001b[0m\u001b[1;33m\u001b[0m\u001b[0m\n\u001b[0m",
      "\u001b[1;32m/usr/local/lib/python3.4/dist-packages/pandas/core/series.py\u001b[0m in \u001b[0;36mwrapper\u001b[1;34m(self)\u001b[0m\n\u001b[0;32m     78\u001b[0m             \u001b[1;32mreturn\u001b[0m \u001b[0mconverter\u001b[0m\u001b[1;33m(\u001b[0m\u001b[0mself\u001b[0m\u001b[1;33m.\u001b[0m\u001b[0miloc\u001b[0m\u001b[1;33m[\u001b[0m\u001b[1;36m0\u001b[0m\u001b[1;33m]\u001b[0m\u001b[1;33m)\u001b[0m\u001b[1;33m\u001b[0m\u001b[0m\n\u001b[0;32m     79\u001b[0m         raise TypeError(\"cannot convert the series to \"\n\u001b[1;32m---> 80\u001b[1;33m                         \"{0}\".format(str(converter)))\n\u001b[0m\u001b[0;32m     81\u001b[0m \u001b[1;33m\u001b[0m\u001b[0m\n\u001b[0;32m     82\u001b[0m     \u001b[1;32mreturn\u001b[0m \u001b[0mwrapper\u001b[0m\u001b[1;33m\u001b[0m\u001b[0m\n",
      "\u001b[1;31mTypeError\u001b[0m: cannot convert the series to <class 'float'>"
     ]
    }
   ],
   "source": [
    "# YOUR CODE HERE\n",
    "from math import log\n",
    "\n",
    "# def entropy2(labels):\n",
    "#  \"\"\" Computes entropy of label distribution. \"\"\"\n",
    "#     n_labels = len(labels)\n",
    "\n",
    "#     if n_labels <= 1:\n",
    "#         return 0\n",
    "\n",
    "#     counts = np.bincount(labels)\n",
    "#     probs = counts / n_labels\n",
    "#     n_classes = np.count_nonzero(probs)\n",
    "\n",
    "#     if n_classes <= 1:\n",
    "#         return 0\n",
    "\n",
    "#     ent = 0.\n",
    "\n",
    "#     # Compute standard entropy.\n",
    "#     for i in probs:\n",
    "#         ent -= i * log(i, base=n_classes)\n",
    "\n",
    "#     return ent\n",
    "\n",
    "# I am aware that probability != proportions, but will be using proportions to calculate entropy\n",
    "# Wasn't sure how to calculate probability from n values\n",
    "\n",
    "sample_size = data['Count'].sum() #overall total of people born\n",
    "data['proportions'] = data['Count']/sample_size\n",
    "data['entropy_calc'] = data['proportions'] * log(data['proportions'], 2)"
   ]
  },
  {
   "cell_type": "markdown",
   "metadata": {},
   "source": [
    "## Question 5b (10 points)\n",
    "\n",
    "Calculate the entropy for every year between 1880 and 2014. Make a line plot of the entropy over time. Interpret what you see in context."
   ]
  },
  {
   "cell_type": "markdown",
   "metadata": {
    "deletable": false,
    "nbgrader": {
     "checksum": "97467bafe6685d873765f3fac5f369cd",
     "grade": true,
     "grade_id": "entropy_plot",
     "locked": false,
     "points": 10,
     "solution": true
    }
   },
   "source": [
    "YOUR ANSWER HERE"
   ]
  },
  {
   "cell_type": "markdown",
   "metadata": {},
   "source": [
    "## Question 6a (10 points)\n",
    "\n",
    "What percentage of boys born in 2000 were named \"Michael\"? What percentage of boys born in 2010 were named \"Michael\"? Is the difference statistically significant? Interpret your result in context."
   ]
  },
  {
   "cell_type": "code",
   "execution_count": null,
   "metadata": {
    "collapsed": false
   },
   "outputs": [],
   "source": [
    "total_Michaels_2010 = data.ix[data['Name'] == 'Michael','Count'].count()\n",
    "total_boys_2010 = data.ix[data['Gender'] == 'M','Count'].count()\n",
    "\n",
    "Michaels_percentage_2010 = total_Michaels_2010 / total_boys_2010 * 100\n",
    "\n",
    "print('Percentage of boys in 2010 that were named \\'Michael\\' : ' + str(Michaels_percentage_2010))\n",
    "# for 2000:\n",
    "data2000 = pd.read_csv(\"/data/babynames/yob2000.txt\", names=[\"Name\", \"Gender\", \"Count\"])\n",
    "\n",
    "total_Michaels_2000 = data2000.ix[data2000['Name'] == 'Michael','Count'].count()\n",
    "total_boys_2000 = data2000.ix[data2000['Gender'] == 'M','Count'].count()\n",
    "\n",
    "Michaels_percentage_2000 = total_Michaels_2000 / total_boys_2000 * 100\n",
    "\n",
    "print('Percentage of boys in 2000 that were named \\'Michael\\' : ' + str(Michaels_percentage_2000))\n",
    "#=======================================================================================================\n",
    "\n",
    "#ideas: \n",
    "\n",
    "#independent samples t-test\n",
    "# confidence intervals?\n"
   ]
  },
  {
   "cell_type": "markdown",
   "metadata": {},
   "source": [
    "Intuitively, the difference between the percentages is statistically insignificant because since the sample sizes are very large...."
   ]
  },
  {
   "cell_type": "markdown",
   "metadata": {
    "deletable": false,
    "nbgrader": {
     "checksum": "8c2fbc8de8bd4d60b776314c2a1c04c6",
     "grade": true,
     "grade_id": "conf_int",
     "locked": false,
     "points": 10,
     "solution": true
    }
   },
   "source": [
    " "
   ]
  },
  {
   "cell_type": "markdown",
   "metadata": {},
   "source": [
    "## Question 6b (10 points)\n",
    "\n",
    "Make a bar graph showing the percentage of boys named Michael in 2000 and 2010. Include standard error bars.\n",
    "\n",
    "(Just write code in the cell below that outputs the final answer. No explanation required.)"
   ]
  },
  {
   "cell_type": "code",
   "execution_count": null,
   "metadata": {
    "collapsed": false,
    "deletable": false,
    "nbgrader": {
     "checksum": "03e19966f076cfeaa7750c4248679e28",
     "grade": true,
     "grade_id": "bar_graph",
     "locked": false,
     "points": 10,
     "solution": true
    }
   },
   "outputs": [],
   "source": [
    "# YOUR CODE HERE\n",
    "\n",
    "#somehow need to get percentages to a dataframe\n",
    "#with plt.style.context(\"fivethirtyeight\"):\n",
    "    #data.plot.bar(yerr=  )\n",
    "    #height of bar(x-bar) = percentages of michaels\n",
    "    #+- 1.96 * s/sqrt(n) ; right side is y-error"
   ]
  },
  {
   "cell_type": "markdown",
   "metadata": {},
   "source": [
    "## Extra Credit (Up to 10 points)\n",
    "\n",
    "Find something else interesting in this data set. Summarize your findings in words and preferably using a graphic. The best answers will be ones that are both technically challenging and contextually relevant."
   ]
  },
  {
   "cell_type": "markdown",
   "metadata": {
    "deletable": false,
    "nbgrader": {
     "checksum": "a52743ebb04d8456d496737e099fa2ee",
     "grade": true,
     "grade_id": "extra_credit",
     "locked": false,
     "points": 0,
     "solution": true
    }
   },
   "source": [
    "YOUR ANSWER HERE"
   ]
  },
  {
   "cell_type": "markdown",
   "metadata": {},
   "source": [
    "## Submitting this Project\n",
    "\n",
    "Now, restart your kernel and re-run your entire notebook from beginning to end. Make sure there are no errors or bugs. When you have verified this, open the Terminal on JupyterHub and type \n",
    "\n",
    "`nbgrader submit Project-04-26 --course dlsun`\n",
    "\n",
    "to submit this project."
   ]
  }
 ],
 "metadata": {
  "kernelspec": {
   "display_name": "Python 3",
   "language": "python",
   "name": "python3"
  },
  "language_info": {
   "codemirror_mode": {
    "name": "ipython",
    "version": 3
   },
   "file_extension": ".py",
   "mimetype": "text/x-python",
   "name": "python",
   "nbconvert_exporter": "python",
   "pygments_lexer": "ipython3",
   "version": "3.4.3"
  }
 },
 "nbformat": 4,
 "nbformat_minor": 0
}
