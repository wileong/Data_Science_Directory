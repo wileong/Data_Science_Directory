{
 "cells": [
  {
   "cell_type": "markdown",
   "metadata": {},
   "source": [
    "# Stanford Online Databases Course\n",
    "\n",
    "I have asked you to complete four of the modules from [Stanford's online databases course](https://lagunita.stanford.edu/courses/DB/2014/SelfPaced/about). \n",
    "\n",
    "- Introduction and Relational Databases\n",
    "- XML Data\n",
    "- JSON Data\n",
    "- SQL\n",
    "\n",
    "With the exception of the first module, you will earn a Statement of Accomplishment after completing each module with a score of 90% or higher. (Don't worry, you can try every exercise an unlimited number of times.) The Statement of Accomplishment is a PDF file with a verification URL at the bottom. Please copy and paste this verification URL into each appropriate cell below."
   ]
  },
  {
   "cell_type": "code",
   "execution_count": 1,
   "metadata": {
    "collapsed": true,
    "deletable": false,
    "nbgrader": {
     "checksum": "c450cb7cf46333ac7651dd9bb1c024ee",
     "grade": false,
     "grade_id": "imports",
     "locked": true,
     "solution": false
    }
   },
   "outputs": [],
   "source": [
    "import requests\n",
    "from bs4 import BeautifulSoup"
   ]
  },
  {
   "cell_type": "markdown",
   "metadata": {},
   "source": [
    "Please enter your full name and assign it to the variable `name` as a string. You should enter your full name exactly as you entered it when you created your account with Stanford Online (and exactly as it appears on your Statement of Accomplishment)."
   ]
  },
  {
   "cell_type": "code",
   "execution_count": 2,
   "metadata": {
    "collapsed": true,
    "nbgrader": {
     "grade": false,
     "locked": false,
     "points": 0,
     "solution": false
    }
   },
   "outputs": [],
   "source": [
    "name = \"Wilson Leong\""
   ]
  },
  {
   "cell_type": "markdown",
   "metadata": {},
   "source": [
    "Please assign your verification URL for the \"XML Data\" module to the variable `url` as a string. You can run the cell immediately below to check that you have done this correctly."
   ]
  },
  {
   "cell_type": "code",
   "execution_count": 3,
   "metadata": {
    "collapsed": true,
    "deletable": false,
    "nbgrader": {
     "checksum": "f8398c8bf500db9c9158b69fef155499",
     "grade": false,
     "grade_id": "xml",
     "locked": false,
     "solution": true
    }
   },
   "outputs": [],
   "source": [
    "# YOUR CODE HERE\n",
    "#raise NotImplementedError()\n",
    "\n",
    "url = \"https://verify.lagunita.stanford.edu/SOA/ff164d4f911a40279c9930dab3e2f0e0/\""
   ]
  },
  {
   "cell_type": "code",
   "execution_count": 4,
   "metadata": {
    "collapsed": false,
    "deletable": false,
    "nbgrader": {
     "checksum": "7a5b8a65de4a25d9591aa56ae5ac3203",
     "grade": true,
     "grade_id": "xml_tests",
     "locked": true,
     "points": 30,
     "solution": false
    }
   },
   "outputs": [],
   "source": [
    "index = requests.get(url)\n",
    "soup = BeautifulSoup(index.text, 'html.parser')\n",
    "form_elements = soup.findAll(\"dd\")\n",
    "\n",
    "assert(url[:41] == \"https://verify.lagunita.stanford.edu/SOA/\")\n",
    "assert(form_elements[0].text == name)\n",
    "assert(form_elements[1].text == url[41:-1])\n",
    "assert(form_elements[2].text == \"XML Data\")"
   ]
  },
  {
   "cell_type": "markdown",
   "metadata": {},
   "source": [
    "Please assign your verification URL for the \"JSON Data\" module to the variable `url` as a string. You can run the cell immediately below to check that you have done this correctly."
   ]
  },
  {
   "cell_type": "code",
   "execution_count": 5,
   "metadata": {
    "collapsed": false,
    "deletable": false,
    "nbgrader": {
     "checksum": "10eb9df452f31dd8b566b102ad3a0b24",
     "grade": false,
     "grade_id": "json",
     "locked": false,
     "solution": true
    }
   },
   "outputs": [],
   "source": [
    "# YOUR CODE HERE\n",
    "#raise NotImplementedError()\n",
    "\n",
    "url = \"https://verify.lagunita.stanford.edu/SOA/a6fca18868794b3d84bdf04a4a192d15/\""
   ]
  },
  {
   "cell_type": "code",
   "execution_count": 6,
   "metadata": {
    "collapsed": true,
    "deletable": false,
    "nbgrader": {
     "checksum": "bd89b3fa443b109b15e326cb1132f3ac",
     "grade": true,
     "grade_id": "json_tests",
     "locked": true,
     "points": 30,
     "solution": false
    }
   },
   "outputs": [],
   "source": [
    "index = requests.get(url)\n",
    "soup = BeautifulSoup(index.text, 'html.parser')\n",
    "form_elements = soup.findAll(\"dd\")\n",
    "\n",
    "assert(url[:41] == \"https://verify.lagunita.stanford.edu/SOA/\")\n",
    "assert(form_elements[0].text == name)\n",
    "assert(form_elements[1].text == url[41:-1])\n",
    "assert(form_elements[2].text == \"JSON Data\")"
   ]
  },
  {
   "cell_type": "markdown",
   "metadata": {
    "nbgrader": {
     "grade": false,
     "locked": false,
     "solution": false
    }
   },
   "source": [
    "Please assign your verification URL for the \"JSON Data\"(SQL?) module to the variable `url` as a string. You can run the cell immediately below to check that you have done this correctly."
   ]
  },
  {
   "cell_type": "code",
   "execution_count": 7,
   "metadata": {
    "collapsed": true,
    "deletable": false,
    "nbgrader": {
     "checksum": "fc1391940fbbd85fe8b8ea1f4e119f0b",
     "grade": false,
     "grade_id": "sql",
     "locked": false,
     "solution": true
    }
   },
   "outputs": [],
   "source": [
    "# YOUR CODE HERE\n",
    "#raise NotImplementedError()\n",
    "\n",
    "url = \"https://verify.lagunita.stanford.edu/SOA/331469328bf3436f98646c09b9600eee/\""
   ]
  },
  {
   "cell_type": "code",
   "execution_count": 8,
   "metadata": {
    "collapsed": false,
    "deletable": false,
    "nbgrader": {
     "checksum": "65f4587453c6b514b103b9fcaec2f4a7",
     "grade": true,
     "grade_id": "sql_tests",
     "locked": true,
     "points": 30,
     "solution": false
    }
   },
   "outputs": [],
   "source": [
    "index = requests.get(url)\n",
    "soup = BeautifulSoup(index.text, 'html.parser')\n",
    "form_elements = soup.findAll(\"dd\")\n",
    "\n",
    "assert(url[:41] == \"https://verify.lagunita.stanford.edu/SOA/\")\n",
    "assert(form_elements[0].text == name)\n",
    "assert(form_elements[1].text == url[41:-1])\n",
    "assert(form_elements[2].text == \"SQL\")"
   ]
  }
 ],
 "metadata": {
  "kernelspec": {
   "display_name": "Python 3",
   "language": "python",
   "name": "python3"
  },
  "language_info": {
   "codemirror_mode": {
    "name": "ipython",
    "version": 3
   },
   "file_extension": ".py",
   "mimetype": "text/x-python",
   "name": "python",
   "nbconvert_exporter": "python",
   "pygments_lexer": "ipython3",
   "version": "3.4.3"
  }
 },
 "nbformat": 4,
 "nbformat_minor": 0
}
