{
 "cells": [
  {
   "cell_type": "markdown",
   "metadata": {},
   "source": [
    "# Announcements\n",
    "## April 14, 2016"
   ]
  },
  {
   "cell_type": "markdown",
   "metadata": {},
   "source": [
    "## Agenda for Today\n",
    "\n",
    "- Fill out [this survey](http://goo.gl/forms/KYsLlzwCNa) about the Stanford Online Intro to Databases lab.\n",
    "- Go over how to receive credit for completing the modules from the Stanford Online Intro to Databases course.\n",
    "- Go over revised syllabus. (Only major change: In-Class Project pushed back to Tuesday.)\n",
    "- Warm-up: Analyze the results of the survey!\n",
    "- Lecture on concatenating and merging data.\n",
    "- Lab on MovieLens data set."
   ]
  },
  {
   "cell_type": "markdown",
   "metadata": {},
   "source": [
    "## My Office Hours This Week\n",
    "\n",
    "- Wednesday 5:10-7pm\n",
    "- Thursday 4:10-5pm\n",
    "- Friday 1:10-2pm\n",
    "\n",
    "Office hours will be back to normal next week."
   ]
  }
 ],
 "metadata": {
  "kernelspec": {
   "display_name": "Python 3",
   "language": "python",
   "name": "python3"
  },
  "language_info": {
   "codemirror_mode": {
    "name": "ipython",
    "version": 3
   },
   "file_extension": ".py",
   "mimetype": "text/x-python",
   "name": "python",
   "nbconvert_exporter": "python",
   "pygments_lexer": "ipython3",
   "version": "3.4.3"
  }
 },
 "nbformat": 4,
 "nbformat_minor": 0
}
