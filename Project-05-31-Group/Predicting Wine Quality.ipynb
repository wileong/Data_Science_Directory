{
 "cells": [
  {
   "cell_type": "markdown",
   "metadata": {},
   "source": [
    "# Predicting Wine Quality\n",
    "\n",
    "## Group Part (70 minutes)\n",
    "\n",
    "The goal of this project is to develop a classifier that predicts the quality of a wine, using properties of the wine, such as \n",
    "\n",
    "- type (red or white)\n",
    "- fixed acidity \n",
    "- residual sugar \n",
    "- free sulfur dioxide \n",
    "- pH\n",
    "- alcohol \n",
    "\n",
    "The quality of the wine is a binary variable, with 1 indicating that the wine is of high quality and 0 indicating otherwise. \n",
    "\n",
    "In this part, you will work with a partner to develop a model using the training data so that you can make predictions on the test data. The test data is exactly like the training data, except that the quality column is blank. It will be your job to fill in this column with your predictions (0 or 1).\n",
    "\n",
    "The training data can be found in `/data/wines/train.csv`. The test data can be found in `/data/wines/test.csv`."
   ]
  },
  {
   "cell_type": "markdown",
   "metadata": {},
   "source": [
    "## Question 0\n",
    "\n",
    "First, please enter your Github usernames below."
   ]
  },
  {
   "cell_type": "code",
   "execution_count": null,
   "metadata": {
    "collapsed": true,
    "deletable": false,
    "nbgrader": {
     "checksum": "f8321479f1e5495a7d79b586cc8f280a",
     "grade": true,
     "grade_id": "students",
     "locked": false,
     "points": 0,
     "solution": true
    }
   },
   "outputs": [],
   "source": [
    "# YOUR CODE HERE\n",
    "raise NotImplementedError()"
   ]
  },
  {
   "cell_type": "markdown",
   "metadata": {},
   "source": [
    "## Question 1 (30 points)\n",
    "\n",
    "Use the space below to develop your predictive model. After you have settled on a model, please briefly explain how you decided upon that model."
   ]
  },
  {
   "cell_type": "code",
   "execution_count": null,
   "metadata": {
    "collapsed": true,
    "deletable": false,
    "nbgrader": {
     "checksum": "43dc7a428d2fcb87906431cff42f5130",
     "grade": true,
     "grade_id": "model_building",
     "locked": false,
     "points": 30,
     "solution": true
    }
   },
   "outputs": [],
   "source": [
    "# YOUR CODE HERE\n",
    "raise NotImplementedError()"
   ]
  },
  {
   "cell_type": "markdown",
   "metadata": {},
   "source": [
    "## Question 2 (10 points)\n",
    "\n",
    "Next, use your model to predict the wine quality (1 or 0) for the wines in the test set. At the end, please save your predictions in a CSV file called `predictions.csv`. If your data is in a Pandas DataFrame called `df`, then you can use the `.to_csv()` function to write it to a CSV file, like this:\n",
    "\n",
    "`df.to_csv(\"predictions.csv\", index=False)`"
   ]
  },
  {
   "cell_type": "code",
   "execution_count": null,
   "metadata": {
    "collapsed": true,
    "deletable": false,
    "nbgrader": {
     "checksum": "6b668e6337a72f2b2f6a491b0ba315cf",
     "grade": true,
     "grade_id": "predictions",
     "locked": false,
     "points": 10,
     "solution": true
    }
   },
   "outputs": [],
   "source": [
    "# YOUR CODE HERE\n",
    "raise NotImplementedError()"
   ]
  },
  {
   "cell_type": "markdown",
   "metadata": {},
   "source": [
    "## Submitting this Project\n",
    "\n",
    "When you are done, please submit this project by opening up the Terminal and typing the following command at the command line:\n",
    "\n",
    "`nbgrader submit Project-05-31-Group --course dlsun`"
   ]
  }
 ],
 "metadata": {
  "kernelspec": {
   "display_name": "Python 3",
   "language": "python",
   "name": "python3"
  },
  "language_info": {
   "codemirror_mode": {
    "name": "ipython",
    "version": 3
   },
   "file_extension": ".py",
   "mimetype": "text/x-python",
   "name": "python",
   "nbconvert_exporter": "python",
   "pygments_lexer": "ipython3",
   "version": "3.4.3"
  }
 },
 "nbformat": 4,
 "nbformat_minor": 0
}
