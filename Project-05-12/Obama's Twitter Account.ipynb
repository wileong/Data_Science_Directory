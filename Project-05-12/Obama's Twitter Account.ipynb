{
 "cells": [
  {
   "cell_type": "markdown",
   "metadata": {},
   "source": [
    "# Obama's Twitter Account\n",
    "\n",
    "## Description\n",
    "\n",
    "The file `/data/obama.txt` contains the 3200 most recent Twitter tweets from President Obama ([@BarackObama](https://twitter.com/BarackObama)). Each line of this file contains a single tweet.\n",
    "\n",
    "In this notebook, you will write some MapReduce jobs to analyze these tweets."
   ]
  },
  {
   "cell_type": "markdown",
   "metadata": {},
   "source": [
    "## Question 1 (10 points)\n",
    "\n",
    "On Twitter, a **hashtag** is a single word beginning with the # character. For example, one hashtag that Obama uses is #RebuildAmerica.\n",
    "\n",
    "Write a MapReduce job that returns the unique hashtags that he uses in these tweets and the number of times that they appear. **Based on your results, what subjects does he appear to be most passionate about?** (Please add a markdown cell to answer this last question.)"
   ]
  },
  {
   "cell_type": "code",
   "execution_count": 54,
   "metadata": {
    "collapsed": false,
    "deletable": false,
    "nbgrader": {
     "checksum": "0434fc9a8bb8eab9e3d04670e9d6b7b4",
     "grade": true,
     "grade_id": "hashtag",
     "locked": false,
     "points": 10,
     "solution": true
    }
   },
   "outputs": [
    {
     "name": "stdout",
     "output_type": "stream",
     "text": [
      "Overwriting hashtag.py\n"
     ]
    }
   ],
   "source": [
    "%%file hashtag.py\n",
    "\n",
    "from mrjob.job import MRJob\n",
    "\n",
    "class HashtagCount(MRJob):\n",
    "  \n",
    "    \n",
    "    def mapper(self, _, line):\n",
    "        \n",
    "        fields_byspace = line.split(\" \")\n",
    "        \n",
    "        \n",
    "        for word in fields_byspace:\n",
    "            \n",
    "            if (len(word) > 0) and (word[0] == '#'):\n",
    "                \n",
    "                for i in range(1,len(word[1:])):\n",
    "                    \n",
    "                    if not word[i].isalnum() or word[i:i + 4] == \"http\":\n",
    "                        \n",
    "                        yield word[:i], 1\n",
    "                \n",
    "    \n",
    "    def reducer(self, key, values):\n",
    "        \n",
    "    \n",
    "        yield key, sum(values)\n",
    "\n",
    "if __name__ == '__main__':\n",
    "    HashtagCount.run()"
   ]
  },
  {
   "cell_type": "code",
   "execution_count": 55,
   "metadata": {
    "collapsed": false
   },
   "outputs": [
    {
     "name": "stdout",
     "output_type": "stream",
     "text": [
      "No configs found; falling back on auto-configuration\n",
      "Creating temp directory /tmp/hashtag.wileong.20160512.162402.560240\n",
      "Running step 1 of 1...\n",
      "Streaming final output from /tmp/hashtag.wileong.20160512.162402.560240/output...\n",
      "\"#2015In5Words\"\t1\n",
      "\"#2015In5Wordshttps\"\t1\n",
      "\"#2015In5Wordshttps:\"\t1\n",
      "\"#2015In5Wordshttps:\\/\"\t1\n",
      "\"#2015In5Wordshttps:\\/\\/t\"\t1\n",
      "\"#2015In5Wordshttps:\\/\\/t.co\"\t1\n",
      "\"#44\"\t1\n",
      "\"#ACAWorks\"\t1\n",
      "\"#ACAWorkshttps\"\t1\n",
      "\"#ACAWorkshttps:\"\t1\n",
      "\"#ACAWorkshttps:\\/\"\t1\n",
      "\"#ActOnClimate\"\t11\n",
      "\"#ActOnClimate.\"\t1\n",
      "\"#ActOnClimate.There\"\t1\n",
      "\"#ActOnClimate.https\"\t1\n",
      "\"#ActOnClimate.https:\"\t1\n",
      "\"#ActOnClimate.https:\\/\"\t1\n",
      "\"#ActOnClimate.https:\\/\\/t\"\t1\n",
      "\"#ActOnClimate\\u2014don\"\t1\n",
      "\"#ActOnClimatehttps\"\t1\n",
      "\"#ActOnClimatehttps:\"\t1\n",
      "\"#ActOnClimatehttps:\\/\"\t1\n",
      "\"#ActOnClimatehttps:\\/\\/t\"\t1\n",
      "\"#ActOnClimatehttps:\\/\\/t.co\"\t1\n",
      "\"#BlackHistoryMonth\"\t1\n",
      "\"#BlackHistoryMonth\\u2014it\"\t1\n",
      "\"#CleanPowerPlan\"\t1\n",
      "\"#CollegeSigningDay\"\t1\n",
      "\"#EnoughAlready\"\t2\n",
      "\"#GetCovered\"\t2\n",
      "\"#ImmigrationAction\"\t2\n",
      "\"#ImmigrationAction.\"\t1\n",
      "\"#ImmigrationAction.https\"\t1\n",
      "\"#ImmigrationAction.https:\"\t1\n",
      "\"#ImmigrationAction.https:\\/\"\t1\n",
      "\"#ImmigrationAction.https:\\/\\/t\"\t1\n",
      "\"#ImmigrationAction.https:\\/\\/t.co\"\t1\n",
      "\"#IranDeal\"\t1\n",
      "\"#LeadOnLeave\"\t2\n",
      "\"#LeadOnTrade\"\t1\n",
      "\"#NationalIceCreamMonth\"\t1\n",
      "\"#ObamaTownHall\"\t1\n",
      "\"#ObamaTownHallhttps\"\t1\n",
      "\"#ObamaTownHallhttps:\"\t1\n",
      "\"#ObamaTownHallhttps:\\/\"\t1\n",
      "\"#ObamaTownHallhttps:\\/\\/t\"\t1\n",
      "\"#ObamaTownHallhttps:\\/\\/t.co\"\t1\n",
      "\"#Obamacare\"\t2\n",
      "\"#Obamacare\\u2014that\"\t1\n",
      "\"#ParisAgreement\"\t1\n",
      "\"#PeoplesClimate\"\t1\n",
      "\"#PeoplesClimatehttp\"\t1\n",
      "\"#PeoplesClimatehttp:\"\t1\n",
      "\"#PeoplesClimatehttp:\\/\"\t1\n",
      "\"#SOTU\"\t1\n",
      "\"#SocialSecurity\"\t1\n",
      "\"#UnitedOnClimate\"\t5\n",
      "\"#UnitedOnClimate\\u2014it\"\t1\n",
      "\"#WHCDDon\"\t1\n",
      "\"#WestWingWeek\"\t1\n",
      "\"#eatbrighter\"\t1\n",
      "\"#eatbrighter:\"\t1\n",
      "Removing temp directory /tmp/hashtag.wileong.20160512.162402.560240...\n"
     ]
    }
   ],
   "source": [
    "! python3 hashtag.py /data/obama.txt"
   ]
  },
  {
   "cell_type": "markdown",
   "metadata": {},
   "source": [
    "Obama seemed to be the most passionate about #ActOnClimate."
   ]
  },
  {
   "cell_type": "markdown",
   "metadata": {},
   "source": [
    "## Question 2 (10 points)\n",
    "\n",
    "Calculate the average length (in characters) of tweets where Obama tweeted \"at\" somebody. (This shows up as a word beginning with the @ character, such as @JoeBiden.) How does this compare with the average length (in characters) of tweets where he did not tweet at somebody?"
   ]
  },
  {
   "cell_type": "code",
   "execution_count": 52,
   "metadata": {
    "collapsed": false,
    "deletable": false,
    "nbgrader": {
     "checksum": "b967ffb3bb8767df9db31eda676f0a7b",
     "grade": true,
     "grade_id": "linelength",
     "locked": false,
     "points": 10,
     "solution": true
    }
   },
   "outputs": [
    {
     "name": "stdout",
     "output_type": "stream",
     "text": [
      "Overwriting linelength.py\n"
     ]
    }
   ],
   "source": [
    "%%file linelength.py\n",
    "\n",
    "from mrjob.job import MRJob\n",
    "\n",
    "class LineLength(MRJob):\n",
    "    \n",
    "    def mapper(self, _, line):\n",
    "        \n",
    "        \n",
    "        if '@' in line:\n",
    "            #print(len(line.split(' ')))\n",
    "            \n",
    "            yield '@', len(line.split(\" \"))\n",
    "            \n",
    "        else:\n",
    "           \n",
    "            yield 'not @',  len(line.split(\" \"))\n",
    "       \n",
    "    \n",
    "    def reducer(self, key, values):\n",
    "        \n",
    "        \n",
    "        total = 0\n",
    "        length = 0\n",
    "        for i in values:\n",
    "            total += i\n",
    "            length += 1\n",
    "        yield key, total / length\n",
    "        \n",
    "\n",
    "if __name__ == '__main__':\n",
    "    LineLength.run()"
   ]
  },
  {
   "cell_type": "code",
   "execution_count": 53,
   "metadata": {
    "collapsed": false
   },
   "outputs": [
    {
     "name": "stdout",
     "output_type": "stream",
     "text": [
      "No configs found; falling back on auto-configuration\n",
      "Creating temp directory /tmp/linelength.wileong.20160512.162214.633660\n",
      "Running step 1 of 1...\n",
      "Streaming final output from /tmp/linelength.wileong.20160512.162214.633660/output...\n",
      "\"@\"\t17.1967741935\n",
      "\"not @\"\t15.3930232558\n",
      "Removing temp directory /tmp/linelength.wileong.20160512.162214.633660...\n"
     ]
    }
   ],
   "source": [
    "! python3 linelength.py /data/obama.txt"
   ]
  },
  {
   "cell_type": "code",
   "execution_count": null,
   "metadata": {
    "collapsed": true
   },
   "outputs": [],
   "source": []
  }
 ],
 "metadata": {
  "kernelspec": {
   "display_name": "Python 3",
   "language": "python",
   "name": "python3"
  },
  "language_info": {
   "codemirror_mode": {
    "name": "ipython",
    "version": 3
   },
   "file_extension": ".py",
   "mimetype": "text/x-python",
   "name": "python",
   "nbconvert_exporter": "python",
   "pygments_lexer": "ipython3",
   "version": "3.4.3"
  }
 },
 "nbformat": 4,
 "nbformat_minor": 0
}
